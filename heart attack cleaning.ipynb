{
 "cells": [
  {
   "cell_type": "code",
   "execution_count": 2,
   "id": "26ff6553",
   "metadata": {},
   "outputs": [],
   "source": [
    "import pandas as pd\n",
    "import numpy as np\n",
    "\n",
    "pd.set_option('display.max_columns', None)"
   ]
  },
  {
   "cell_type": "code",
   "execution_count": null,
   "id": "52acb2d9",
   "metadata": {},
   "outputs": [],
   "source": []
  },
  {
   "cell_type": "code",
   "execution_count": 4,
   "id": "8fac8422",
   "metadata": {},
   "outputs": [
    {
     "name": "stderr",
     "output_type": "stream",
     "text": [
      "/Users/damiencombe/anaconda3/lib/python3.11/site-packages/pandas/io/sas/sas_xport.py:475: PerformanceWarning: DataFrame is highly fragmented.  This is usually the result of calling `frame.insert` many times, which has poor performance.  Consider joining all columns at once using pd.concat(axis=1) instead.  To get a de-fragmented frame, use `newframe = frame.copy()`\n",
      "  df[x] = v\n"
     ]
    },
    {
     "name": "stdout",
     "output_type": "stream",
     "text": [
      "CPU times: user 3 µs, sys: 1 µs, total: 4 µs\n",
      "Wall time: 13.1 µs\n"
     ]
    }
   ],
   "source": [
    "data = pd.read_sas('/Users/damiencombe/LLCP2021.xpt', encoding='latin-1')\n",
    "%time"
   ]
  },
  {
   "cell_type": "code",
   "execution_count": 5,
   "id": "9ae20196",
   "metadata": {},
   "outputs": [
    {
     "data": {
      "text/html": [
       "<div>\n",
       "<style scoped>\n",
       "    .dataframe tbody tr th:only-of-type {\n",
       "        vertical-align: middle;\n",
       "    }\n",
       "\n",
       "    .dataframe tbody tr th {\n",
       "        vertical-align: top;\n",
       "    }\n",
       "\n",
       "    .dataframe thead th {\n",
       "        text-align: right;\n",
       "    }\n",
       "</style>\n",
       "<table border=\"1\" class=\"dataframe\">\n",
       "  <thead>\n",
       "    <tr style=\"text-align: right;\">\n",
       "      <th></th>\n",
       "      <th>_STATE</th>\n",
       "      <th>FMONTH</th>\n",
       "      <th>IDATE</th>\n",
       "      <th>IMONTH</th>\n",
       "      <th>IDAY</th>\n",
       "      <th>IYEAR</th>\n",
       "      <th>DISPCODE</th>\n",
       "      <th>SEQNO</th>\n",
       "      <th>_PSU</th>\n",
       "      <th>CTELENM1</th>\n",
       "      <th>PVTRESD1</th>\n",
       "      <th>COLGHOUS</th>\n",
       "      <th>STATERE1</th>\n",
       "      <th>CELPHON1</th>\n",
       "      <th>LADULT1</th>\n",
       "      <th>COLGSEX</th>\n",
       "      <th>NUMADULT</th>\n",
       "      <th>LANDSEX</th>\n",
       "      <th>NUMMEN</th>\n",
       "      <th>NUMWOMEN</th>\n",
       "      <th>RESPSLCT</th>\n",
       "      <th>SAFETIME</th>\n",
       "      <th>CTELNUM1</th>\n",
       "      <th>CELLFON5</th>\n",
       "      <th>CADULT1</th>\n",
       "      <th>CELLSEX</th>\n",
       "      <th>PVTRESD3</th>\n",
       "      <th>CCLGHOUS</th>\n",
       "      <th>CSTATE1</th>\n",
       "      <th>LANDLINE</th>\n",
       "      <th>HHADULT</th>\n",
       "      <th>SEXVAR</th>\n",
       "      <th>GENHLTH</th>\n",
       "      <th>PHYSHLTH</th>\n",
       "      <th>MENTHLTH</th>\n",
       "      <th>POORHLTH</th>\n",
       "      <th>PRIMINSR</th>\n",
       "      <th>PERSDOC3</th>\n",
       "      <th>MEDCOST1</th>\n",
       "      <th>CHECKUP1</th>\n",
       "      <th>EXERANY2</th>\n",
       "      <th>BPHIGH6</th>\n",
       "      <th>BPMEDS</th>\n",
       "      <th>CHOLCHK3</th>\n",
       "      <th>TOLDHI3</th>\n",
       "      <th>CHOLMED3</th>\n",
       "      <th>CVDINFR4</th>\n",
       "      <th>CVDCRHD4</th>\n",
       "      <th>CVDSTRK3</th>\n",
       "      <th>ASTHMA3</th>\n",
       "      <th>ASTHNOW</th>\n",
       "      <th>CHCSCNCR</th>\n",
       "      <th>CHCOCNCR</th>\n",
       "      <th>CHCCOPD3</th>\n",
       "      <th>ADDEPEV3</th>\n",
       "      <th>CHCKDNY2</th>\n",
       "      <th>DIABETE4</th>\n",
       "      <th>DIABAGE3</th>\n",
       "      <th>HAVARTH5</th>\n",
       "      <th>ARTHEXER</th>\n",
       "      <th>ARTHEDU</th>\n",
       "      <th>LMTJOIN3</th>\n",
       "      <th>ARTHDIS2</th>\n",
       "      <th>JOINPAI2</th>\n",
       "      <th>MARITAL</th>\n",
       "      <th>EDUCA</th>\n",
       "      <th>RENTHOM1</th>\n",
       "      <th>NUMHHOL3</th>\n",
       "      <th>NUMPHON3</th>\n",
       "      <th>CPDEMO1B</th>\n",
       "      <th>VETERAN3</th>\n",
       "      <th>EMPLOY1</th>\n",
       "      <th>CHILDREN</th>\n",
       "      <th>INCOME3</th>\n",
       "      <th>PREGNANT</th>\n",
       "      <th>WEIGHT2</th>\n",
       "      <th>HEIGHT3</th>\n",
       "      <th>DEAF</th>\n",
       "      <th>BLIND</th>\n",
       "      <th>DECIDE</th>\n",
       "      <th>DIFFWALK</th>\n",
       "      <th>DIFFDRES</th>\n",
       "      <th>DIFFALON</th>\n",
       "      <th>SMOKE100</th>\n",
       "      <th>SMOKDAY2</th>\n",
       "      <th>USENOW3</th>\n",
       "      <th>ECIGNOW1</th>\n",
       "      <th>ALCDAY5</th>\n",
       "      <th>AVEDRNK3</th>\n",
       "      <th>DRNK3GE5</th>\n",
       "      <th>MAXDRNKS</th>\n",
       "      <th>FLUSHOT7</th>\n",
       "      <th>FLSHTMY3</th>\n",
       "      <th>IMFVPLA2</th>\n",
       "      <th>PNEUVAC4</th>\n",
       "      <th>HIVTST7</th>\n",
       "      <th>HIVTSTD3</th>\n",
       "      <th>FRUIT2</th>\n",
       "      <th>FRUITJU2</th>\n",
       "      <th>FVGREEN1</th>\n",
       "      <th>FRENCHF1</th>\n",
       "      <th>POTATOE1</th>\n",
       "      <th>VEGETAB2</th>\n",
       "      <th>PDIABTST</th>\n",
       "      <th>PREDIAB1</th>\n",
       "      <th>INSULIN1</th>\n",
       "      <th>BLDSUGAR</th>\n",
       "      <th>FEETCHK3</th>\n",
       "      <th>DOCTDIAB</th>\n",
       "      <th>CHKHEMO3</th>\n",
       "      <th>FEETCHK</th>\n",
       "      <th>EYEEXAM1</th>\n",
       "      <th>DIABEYE</th>\n",
       "      <th>DIABEDU</th>\n",
       "      <th>TOLDCFS</th>\n",
       "      <th>HAVECFS</th>\n",
       "      <th>WORKCFS</th>\n",
       "      <th>TOLDHEPC</th>\n",
       "      <th>TRETHEPC</th>\n",
       "      <th>PRIRHEPC</th>\n",
       "      <th>HAVEHEPC</th>\n",
       "      <th>HAVEHEPB</th>\n",
       "      <th>MEDSHEPB</th>\n",
       "      <th>HPVADVC4</th>\n",
       "      <th>HPVADSHT</th>\n",
       "      <th>TETANUS1</th>\n",
       "      <th>SHINGLE2</th>\n",
       "      <th>LCSFIRST</th>\n",
       "      <th>LCSLAST</th>\n",
       "      <th>LCSNUMCG</th>\n",
       "      <th>LCSCTSCN</th>\n",
       "      <th>HADMAM</th>\n",
       "      <th>HOWLONG</th>\n",
       "      <th>CERVSCRN</th>\n",
       "      <th>CRVCLCNC</th>\n",
       "      <th>CRVCLPAP</th>\n",
       "      <th>CRVCLHPV</th>\n",
       "      <th>HADHYST2</th>\n",
       "      <th>PSATEST1</th>\n",
       "      <th>PSATIME1</th>\n",
       "      <th>PCPSARS2</th>\n",
       "      <th>PCSTALK</th>\n",
       "      <th>HADSIGM4</th>\n",
       "      <th>COLNSIGM</th>\n",
       "      <th>COLNTES1</th>\n",
       "      <th>SIGMTES1</th>\n",
       "      <th>LASTSIG4</th>\n",
       "      <th>COLNCNCR</th>\n",
       "      <th>VIRCOLO1</th>\n",
       "      <th>VCLNTES1</th>\n",
       "      <th>SMALSTOL</th>\n",
       "      <th>STOLTEST</th>\n",
       "      <th>STOOLDN1</th>\n",
       "      <th>BLDSTFIT</th>\n",
       "      <th>SDNATES1</th>\n",
       "      <th>CNCRDIFF</th>\n",
       "      <th>CNCRAGE</th>\n",
       "      <th>CNCRTYP1</th>\n",
       "      <th>CSRVTRT3</th>\n",
       "      <th>CSRVDOC1</th>\n",
       "      <th>CSRVSUM</th>\n",
       "      <th>CSRVRTRN</th>\n",
       "      <th>CSRVINST</th>\n",
       "      <th>CSRVINSR</th>\n",
       "      <th>CSRVDEIN</th>\n",
       "      <th>CSRVCLIN</th>\n",
       "      <th>CSRVPAIN</th>\n",
       "      <th>CSRVCTL2</th>\n",
       "      <th>HOMBPCHK</th>\n",
       "      <th>HOMRGCHK</th>\n",
       "      <th>WHEREBP</th>\n",
       "      <th>SHAREBP</th>\n",
       "      <th>WTCHSALT</th>\n",
       "      <th>DRADVISE</th>\n",
       "      <th>CIMEMLOS</th>\n",
       "      <th>CDHOUSE</th>\n",
       "      <th>CDASSIST</th>\n",
       "      <th>CDHELP</th>\n",
       "      <th>CDSOCIAL</th>\n",
       "      <th>CDDISCUS</th>\n",
       "      <th>CAREGIV1</th>\n",
       "      <th>CRGVREL4</th>\n",
       "      <th>CRGVLNG1</th>\n",
       "      <th>CRGVHRS1</th>\n",
       "      <th>CRGVPRB3</th>\n",
       "      <th>CRGVALZD</th>\n",
       "      <th>CRGVPER1</th>\n",
       "      <th>CRGVHOU1</th>\n",
       "      <th>CRGVEXPT</th>\n",
       "      <th>ACEDEPRS</th>\n",
       "      <th>ACEDRINK</th>\n",
       "      <th>ACEDRUGS</th>\n",
       "      <th>ACEPRISN</th>\n",
       "      <th>ACEDIVRC</th>\n",
       "      <th>ACEPUNCH</th>\n",
       "      <th>ACEHURT1</th>\n",
       "      <th>ACESWEAR</th>\n",
       "      <th>ACETOUCH</th>\n",
       "      <th>ACETTHEM</th>\n",
       "      <th>ACEHVSEX</th>\n",
       "      <th>ACEADSAF</th>\n",
       "      <th>ACEADNED</th>\n",
       "      <th>MARIJAN1</th>\n",
       "      <th>USEMRJN3</th>\n",
       "      <th>RSNMRJN2</th>\n",
       "      <th>LASTSMK2</th>\n",
       "      <th>STOPSMK2</th>\n",
       "      <th>FIREARM5</th>\n",
       "      <th>GUNLOAD</th>\n",
       "      <th>LOADULK2</th>\n",
       "      <th>RCSGENDR</th>\n",
       "      <th>RCSRLTN2</th>\n",
       "      <th>CASTHDX2</th>\n",
       "      <th>CASTHNO2</th>\n",
       "      <th>BIRTHSEX</th>\n",
       "      <th>SOMALE</th>\n",
       "      <th>SOFEMALE</th>\n",
       "      <th>TRNSGNDR</th>\n",
       "      <th>QSTVER</th>\n",
       "      <th>QSTLANG</th>\n",
       "      <th>_METSTAT</th>\n",
       "      <th>_URBSTAT</th>\n",
       "      <th>MSCODE</th>\n",
       "      <th>_STSTR</th>\n",
       "      <th>_STRWT</th>\n",
       "      <th>_RAWRAKE</th>\n",
       "      <th>_WT2RAKE</th>\n",
       "      <th>_IMPRACE</th>\n",
       "      <th>_CHISPNC</th>\n",
       "      <th>_CRACE1</th>\n",
       "      <th>_CPRACE1</th>\n",
       "      <th>CAGEG</th>\n",
       "      <th>_CLLCPWT</th>\n",
       "      <th>_DUALUSE</th>\n",
       "      <th>_DUALCOR</th>\n",
       "      <th>_LLCPWT2</th>\n",
       "      <th>_LLCPWT</th>\n",
       "      <th>_RFHLTH</th>\n",
       "      <th>_PHYS14D</th>\n",
       "      <th>_MENT14D</th>\n",
       "      <th>_HLTHPLN</th>\n",
       "      <th>_HCVU652</th>\n",
       "      <th>_TOTINDA</th>\n",
       "      <th>_RFHYPE6</th>\n",
       "      <th>_CHOLCH3</th>\n",
       "      <th>_RFCHOL3</th>\n",
       "      <th>_MICHD</th>\n",
       "      <th>_LTASTH1</th>\n",
       "      <th>_CASTHM1</th>\n",
       "      <th>_ASTHMS1</th>\n",
       "      <th>_DRDXAR3</th>\n",
       "      <th>_LMTACT3</th>\n",
       "      <th>_LMTWRK3</th>\n",
       "      <th>_PRACE1</th>\n",
       "      <th>_MRACE1</th>\n",
       "      <th>_HISPANC</th>\n",
       "      <th>_RACE</th>\n",
       "      <th>_RACEG21</th>\n",
       "      <th>_RACEGR3</th>\n",
       "      <th>_RACEPRV</th>\n",
       "      <th>_SEX</th>\n",
       "      <th>_AGEG5YR</th>\n",
       "      <th>_AGE65YR</th>\n",
       "      <th>_AGE80</th>\n",
       "      <th>_AGE_G</th>\n",
       "      <th>HTIN4</th>\n",
       "      <th>HTM4</th>\n",
       "      <th>WTKG3</th>\n",
       "      <th>_BMI5</th>\n",
       "      <th>_BMI5CAT</th>\n",
       "      <th>_RFBMI5</th>\n",
       "      <th>_CHLDCNT</th>\n",
       "      <th>_EDUCAG</th>\n",
       "      <th>_INCOMG1</th>\n",
       "      <th>_SMOKER3</th>\n",
       "      <th>_RFSMOK3</th>\n",
       "      <th>_CURECI1</th>\n",
       "      <th>DRNKANY5</th>\n",
       "      <th>DROCDY3_</th>\n",
       "      <th>_RFBING5</th>\n",
       "      <th>_DRNKWK1</th>\n",
       "      <th>_RFDRHV7</th>\n",
       "      <th>_FLSHOT7</th>\n",
       "      <th>_PNEUMO3</th>\n",
       "      <th>_AIDTST4</th>\n",
       "      <th>FTJUDA2_</th>\n",
       "      <th>FRUTDA2_</th>\n",
       "      <th>GRENDA1_</th>\n",
       "      <th>FRNCHDA_</th>\n",
       "      <th>POTADA1_</th>\n",
       "      <th>VEGEDA2_</th>\n",
       "      <th>_MISFRT1</th>\n",
       "      <th>_MISVEG1</th>\n",
       "      <th>_FRTRES1</th>\n",
       "      <th>_VEGRES1</th>\n",
       "      <th>_FRUTSU1</th>\n",
       "      <th>_VEGESU1</th>\n",
       "      <th>_FRTLT1A</th>\n",
       "      <th>_VEGLT1A</th>\n",
       "      <th>_FRT16A</th>\n",
       "      <th>_VEG23A</th>\n",
       "      <th>_FRUITE1</th>\n",
       "      <th>_VEGETE1</th>\n",
       "    </tr>\n",
       "  </thead>\n",
       "  <tbody>\n",
       "    <tr>\n",
       "      <th>0</th>\n",
       "      <td>1.0</td>\n",
       "      <td>1.0</td>\n",
       "      <td>01192021</td>\n",
       "      <td>01</td>\n",
       "      <td>19</td>\n",
       "      <td>2021</td>\n",
       "      <td>1100.0</td>\n",
       "      <td>2021000001</td>\n",
       "      <td>2.021000e+09</td>\n",
       "      <td>1.0</td>\n",
       "      <td>1.0</td>\n",
       "      <td>NaN</td>\n",
       "      <td>1.0</td>\n",
       "      <td>2.0</td>\n",
       "      <td>1.0</td>\n",
       "      <td>NaN</td>\n",
       "      <td>2.0</td>\n",
       "      <td>NaN</td>\n",
       "      <td>1.0</td>\n",
       "      <td>1.0</td>\n",
       "      <td>2.0</td>\n",
       "      <td>NaN</td>\n",
       "      <td>NaN</td>\n",
       "      <td>NaN</td>\n",
       "      <td>NaN</td>\n",
       "      <td>NaN</td>\n",
       "      <td>NaN</td>\n",
       "      <td>NaN</td>\n",
       "      <td>NaN</td>\n",
       "      <td>NaN</td>\n",
       "      <td>NaN</td>\n",
       "      <td>2.0</td>\n",
       "      <td>5.0</td>\n",
       "      <td>20.0</td>\n",
       "      <td>10.0</td>\n",
       "      <td>88.0</td>\n",
       "      <td>3.0</td>\n",
       "      <td>1.0</td>\n",
       "      <td>2.0</td>\n",
       "      <td>2.0</td>\n",
       "      <td>2.0</td>\n",
       "      <td>3.0</td>\n",
       "      <td>NaN</td>\n",
       "      <td>2.0</td>\n",
       "      <td>1.0</td>\n",
       "      <td>1.0</td>\n",
       "      <td>2.0</td>\n",
       "      <td>2.0</td>\n",
       "      <td>2.0</td>\n",
       "      <td>1.0</td>\n",
       "      <td>1.0</td>\n",
       "      <td>2.0</td>\n",
       "      <td>2.0</td>\n",
       "      <td>1.0</td>\n",
       "      <td>2.0</td>\n",
       "      <td>2.0</td>\n",
       "      <td>3.0</td>\n",
       "      <td>NaN</td>\n",
       "      <td>1.0</td>\n",
       "      <td>2.0</td>\n",
       "      <td>2.0</td>\n",
       "      <td>2.0</td>\n",
       "      <td>1.0</td>\n",
       "      <td>8.0</td>\n",
       "      <td>1.0</td>\n",
       "      <td>4.0</td>\n",
       "      <td>1.0</td>\n",
       "      <td>1.0</td>\n",
       "      <td>1.0</td>\n",
       "      <td>1.0</td>\n",
       "      <td>2.0</td>\n",
       "      <td>7.0</td>\n",
       "      <td>88.0</td>\n",
       "      <td>5.0</td>\n",
       "      <td>NaN</td>\n",
       "      <td>72.0</td>\n",
       "      <td>411.0</td>\n",
       "      <td>2.0</td>\n",
       "      <td>2.0</td>\n",
       "      <td>2.0</td>\n",
       "      <td>2.0</td>\n",
       "      <td>2.0</td>\n",
       "      <td>1.0</td>\n",
       "      <td>1.0</td>\n",
       "      <td>3.0</td>\n",
       "      <td>3.0</td>\n",
       "      <td>3.0</td>\n",
       "      <td>888.0</td>\n",
       "      <td>NaN</td>\n",
       "      <td>NaN</td>\n",
       "      <td>NaN</td>\n",
       "      <td>1.0</td>\n",
       "      <td>92020.0</td>\n",
       "      <td>1.0</td>\n",
       "      <td>1.0</td>\n",
       "      <td>2.0</td>\n",
       "      <td>NaN</td>\n",
       "      <td>101.0</td>\n",
       "      <td>555.0</td>\n",
       "      <td>204.0</td>\n",
       "      <td>203.0</td>\n",
       "      <td>201.0</td>\n",
       "      <td>101.0</td>\n",
       "      <td>2.0</td>\n",
       "      <td>3.0</td>\n",
       "      <td>NaN</td>\n",
       "      <td>NaN</td>\n",
       "      <td>NaN</td>\n",
       "      <td>NaN</td>\n",
       "      <td>NaN</td>\n",
       "      <td>NaN</td>\n",
       "      <td>NaN</td>\n",
       "      <td>NaN</td>\n",
       "      <td>NaN</td>\n",
       "      <td>NaN</td>\n",
       "      <td>NaN</td>\n",
       "      <td>NaN</td>\n",
       "      <td>NaN</td>\n",
       "      <td>NaN</td>\n",
       "      <td>NaN</td>\n",
       "      <td>NaN</td>\n",
       "      <td>NaN</td>\n",
       "      <td>NaN</td>\n",
       "      <td>NaN</td>\n",
       "      <td>NaN</td>\n",
       "      <td>NaN</td>\n",
       "      <td>NaN</td>\n",
       "      <td>NaN</td>\n",
       "      <td>NaN</td>\n",
       "      <td>NaN</td>\n",
       "      <td>NaN</td>\n",
       "      <td>NaN</td>\n",
       "      <td>NaN</td>\n",
       "      <td>NaN</td>\n",
       "      <td>NaN</td>\n",
       "      <td>NaN</td>\n",
       "      <td>NaN</td>\n",
       "      <td>NaN</td>\n",
       "      <td>NaN</td>\n",
       "      <td>NaN</td>\n",
       "      <td>NaN</td>\n",
       "      <td>NaN</td>\n",
       "      <td>NaN</td>\n",
       "      <td>NaN</td>\n",
       "      <td>NaN</td>\n",
       "      <td>NaN</td>\n",
       "      <td>NaN</td>\n",
       "      <td>NaN</td>\n",
       "      <td>NaN</td>\n",
       "      <td>NaN</td>\n",
       "      <td>NaN</td>\n",
       "      <td>NaN</td>\n",
       "      <td>NaN</td>\n",
       "      <td>NaN</td>\n",
       "      <td>NaN</td>\n",
       "      <td>NaN</td>\n",
       "      <td>NaN</td>\n",
       "      <td>NaN</td>\n",
       "      <td>NaN</td>\n",
       "      <td>NaN</td>\n",
       "      <td>NaN</td>\n",
       "      <td>NaN</td>\n",
       "      <td>NaN</td>\n",
       "      <td>NaN</td>\n",
       "      <td>NaN</td>\n",
       "      <td>NaN</td>\n",
       "      <td>NaN</td>\n",
       "      <td>NaN</td>\n",
       "      <td>NaN</td>\n",
       "      <td>NaN</td>\n",
       "      <td>NaN</td>\n",
       "      <td>NaN</td>\n",
       "      <td>NaN</td>\n",
       "      <td>NaN</td>\n",
       "      <td>NaN</td>\n",
       "      <td>NaN</td>\n",
       "      <td>NaN</td>\n",
       "      <td>NaN</td>\n",
       "      <td>NaN</td>\n",
       "      <td>NaN</td>\n",
       "      <td>2.0</td>\n",
       "      <td>NaN</td>\n",
       "      <td>NaN</td>\n",
       "      <td>NaN</td>\n",
       "      <td>NaN</td>\n",
       "      <td>NaN</td>\n",
       "      <td>NaN</td>\n",
       "      <td>NaN</td>\n",
       "      <td>2.0</td>\n",
       "      <td>2.0</td>\n",
       "      <td>2.0</td>\n",
       "      <td>2.0</td>\n",
       "      <td>2.0</td>\n",
       "      <td>1.0</td>\n",
       "      <td>1.0</td>\n",
       "      <td>1.0</td>\n",
       "      <td>1.0</td>\n",
       "      <td>1.0</td>\n",
       "      <td>1.0</td>\n",
       "      <td>1.0</td>\n",
       "      <td>5.0</td>\n",
       "      <td>3.0</td>\n",
       "      <td>NaN</td>\n",
       "      <td>NaN</td>\n",
       "      <td>NaN</td>\n",
       "      <td>NaN</td>\n",
       "      <td>NaN</td>\n",
       "      <td>NaN</td>\n",
       "      <td>NaN</td>\n",
       "      <td>NaN</td>\n",
       "      <td>NaN</td>\n",
       "      <td>NaN</td>\n",
       "      <td>NaN</td>\n",
       "      <td>NaN</td>\n",
       "      <td>NaN</td>\n",
       "      <td>NaN</td>\n",
       "      <td>NaN</td>\n",
       "      <td>NaN</td>\n",
       "      <td>10.0</td>\n",
       "      <td>1.0</td>\n",
       "      <td>1.0</td>\n",
       "      <td>1.0</td>\n",
       "      <td>1.0</td>\n",
       "      <td>11011.0</td>\n",
       "      <td>39.766158</td>\n",
       "      <td>2.0</td>\n",
       "      <td>79.532315</td>\n",
       "      <td>1.0</td>\n",
       "      <td>9.0</td>\n",
       "      <td>NaN</td>\n",
       "      <td>NaN</td>\n",
       "      <td>NaN</td>\n",
       "      <td>NaN</td>\n",
       "      <td>1.0</td>\n",
       "      <td>0.519019</td>\n",
       "      <td>874.242902</td>\n",
       "      <td>744.745531</td>\n",
       "      <td>2.0</td>\n",
       "      <td>3.0</td>\n",
       "      <td>2.0</td>\n",
       "      <td>1.0</td>\n",
       "      <td>9.0</td>\n",
       "      <td>2.0</td>\n",
       "      <td>1.0</td>\n",
       "      <td>1.0</td>\n",
       "      <td>2.0</td>\n",
       "      <td>2.0</td>\n",
       "      <td>2.0</td>\n",
       "      <td>2.0</td>\n",
       "      <td>1.0</td>\n",
       "      <td>1.0</td>\n",
       "      <td>2.0</td>\n",
       "      <td>1.0</td>\n",
       "      <td>1.0</td>\n",
       "      <td>1.0</td>\n",
       "      <td>2.0</td>\n",
       "      <td>1.0</td>\n",
       "      <td>1.0</td>\n",
       "      <td>1.0</td>\n",
       "      <td>1.0</td>\n",
       "      <td>2.0</td>\n",
       "      <td>11.0</td>\n",
       "      <td>2.0</td>\n",
       "      <td>70.0</td>\n",
       "      <td>6.0</td>\n",
       "      <td>59.0</td>\n",
       "      <td>150.0</td>\n",
       "      <td>3266.0</td>\n",
       "      <td>1454.0</td>\n",
       "      <td>1.0</td>\n",
       "      <td>1.0</td>\n",
       "      <td>1.0</td>\n",
       "      <td>2.0</td>\n",
       "      <td>3.0</td>\n",
       "      <td>3.0</td>\n",
       "      <td>1.0</td>\n",
       "      <td>1.0</td>\n",
       "      <td>2.0</td>\n",
       "      <td>5.397605e-79</td>\n",
       "      <td>1.0</td>\n",
       "      <td>5.397605e-79</td>\n",
       "      <td>1.0</td>\n",
       "      <td>1.0</td>\n",
       "      <td>1.0</td>\n",
       "      <td>2.0</td>\n",
       "      <td>5.397605e-79</td>\n",
       "      <td>100.0</td>\n",
       "      <td>5.700000e+01</td>\n",
       "      <td>4.300000e+01</td>\n",
       "      <td>14.0</td>\n",
       "      <td>100.0</td>\n",
       "      <td>5.397605e-79</td>\n",
       "      <td>5.397605e-79</td>\n",
       "      <td>1.0</td>\n",
       "      <td>1.0</td>\n",
       "      <td>100.0</td>\n",
       "      <td>214.0</td>\n",
       "      <td>1.0</td>\n",
       "      <td>1.0</td>\n",
       "      <td>1.0</td>\n",
       "      <td>1.0</td>\n",
       "      <td>5.397605e-79</td>\n",
       "      <td>5.397605e-79</td>\n",
       "    </tr>\n",
       "    <tr>\n",
       "      <th>1</th>\n",
       "      <td>1.0</td>\n",
       "      <td>1.0</td>\n",
       "      <td>01212021</td>\n",
       "      <td>01</td>\n",
       "      <td>21</td>\n",
       "      <td>2021</td>\n",
       "      <td>1100.0</td>\n",
       "      <td>2021000002</td>\n",
       "      <td>2.021000e+09</td>\n",
       "      <td>1.0</td>\n",
       "      <td>1.0</td>\n",
       "      <td>NaN</td>\n",
       "      <td>1.0</td>\n",
       "      <td>2.0</td>\n",
       "      <td>1.0</td>\n",
       "      <td>NaN</td>\n",
       "      <td>2.0</td>\n",
       "      <td>NaN</td>\n",
       "      <td>1.0</td>\n",
       "      <td>1.0</td>\n",
       "      <td>2.0</td>\n",
       "      <td>NaN</td>\n",
       "      <td>NaN</td>\n",
       "      <td>NaN</td>\n",
       "      <td>NaN</td>\n",
       "      <td>NaN</td>\n",
       "      <td>NaN</td>\n",
       "      <td>NaN</td>\n",
       "      <td>NaN</td>\n",
       "      <td>NaN</td>\n",
       "      <td>NaN</td>\n",
       "      <td>2.0</td>\n",
       "      <td>3.0</td>\n",
       "      <td>88.0</td>\n",
       "      <td>88.0</td>\n",
       "      <td>NaN</td>\n",
       "      <td>1.0</td>\n",
       "      <td>2.0</td>\n",
       "      <td>2.0</td>\n",
       "      <td>1.0</td>\n",
       "      <td>1.0</td>\n",
       "      <td>1.0</td>\n",
       "      <td>1.0</td>\n",
       "      <td>2.0</td>\n",
       "      <td>1.0</td>\n",
       "      <td>1.0</td>\n",
       "      <td>2.0</td>\n",
       "      <td>1.0</td>\n",
       "      <td>2.0</td>\n",
       "      <td>2.0</td>\n",
       "      <td>NaN</td>\n",
       "      <td>2.0</td>\n",
       "      <td>2.0</td>\n",
       "      <td>2.0</td>\n",
       "      <td>2.0</td>\n",
       "      <td>1.0</td>\n",
       "      <td>1.0</td>\n",
       "      <td>98.0</td>\n",
       "      <td>1.0</td>\n",
       "      <td>1.0</td>\n",
       "      <td>2.0</td>\n",
       "      <td>1.0</td>\n",
       "      <td>1.0</td>\n",
       "      <td>10.0</td>\n",
       "      <td>9.0</td>\n",
       "      <td>6.0</td>\n",
       "      <td>1.0</td>\n",
       "      <td>2.0</td>\n",
       "      <td>NaN</td>\n",
       "      <td>1.0</td>\n",
       "      <td>2.0</td>\n",
       "      <td>8.0</td>\n",
       "      <td>88.0</td>\n",
       "      <td>77.0</td>\n",
       "      <td>NaN</td>\n",
       "      <td>7777.0</td>\n",
       "      <td>506.0</td>\n",
       "      <td>2.0</td>\n",
       "      <td>1.0</td>\n",
       "      <td>1.0</td>\n",
       "      <td>1.0</td>\n",
       "      <td>2.0</td>\n",
       "      <td>1.0</td>\n",
       "      <td>2.0</td>\n",
       "      <td>NaN</td>\n",
       "      <td>3.0</td>\n",
       "      <td>3.0</td>\n",
       "      <td>888.0</td>\n",
       "      <td>NaN</td>\n",
       "      <td>NaN</td>\n",
       "      <td>NaN</td>\n",
       "      <td>2.0</td>\n",
       "      <td>NaN</td>\n",
       "      <td>NaN</td>\n",
       "      <td>2.0</td>\n",
       "      <td>2.0</td>\n",
       "      <td>NaN</td>\n",
       "      <td>101.0</td>\n",
       "      <td>555.0</td>\n",
       "      <td>201.0</td>\n",
       "      <td>555.0</td>\n",
       "      <td>201.0</td>\n",
       "      <td>207.0</td>\n",
       "      <td>NaN</td>\n",
       "      <td>NaN</td>\n",
       "      <td>NaN</td>\n",
       "      <td>NaN</td>\n",
       "      <td>NaN</td>\n",
       "      <td>NaN</td>\n",
       "      <td>NaN</td>\n",
       "      <td>NaN</td>\n",
       "      <td>NaN</td>\n",
       "      <td>NaN</td>\n",
       "      <td>NaN</td>\n",
       "      <td>NaN</td>\n",
       "      <td>NaN</td>\n",
       "      <td>NaN</td>\n",
       "      <td>NaN</td>\n",
       "      <td>NaN</td>\n",
       "      <td>NaN</td>\n",
       "      <td>NaN</td>\n",
       "      <td>NaN</td>\n",
       "      <td>NaN</td>\n",
       "      <td>NaN</td>\n",
       "      <td>NaN</td>\n",
       "      <td>NaN</td>\n",
       "      <td>NaN</td>\n",
       "      <td>NaN</td>\n",
       "      <td>NaN</td>\n",
       "      <td>NaN</td>\n",
       "      <td>NaN</td>\n",
       "      <td>NaN</td>\n",
       "      <td>NaN</td>\n",
       "      <td>NaN</td>\n",
       "      <td>NaN</td>\n",
       "      <td>NaN</td>\n",
       "      <td>NaN</td>\n",
       "      <td>NaN</td>\n",
       "      <td>NaN</td>\n",
       "      <td>NaN</td>\n",
       "      <td>NaN</td>\n",
       "      <td>NaN</td>\n",
       "      <td>NaN</td>\n",
       "      <td>NaN</td>\n",
       "      <td>NaN</td>\n",
       "      <td>NaN</td>\n",
       "      <td>NaN</td>\n",
       "      <td>NaN</td>\n",
       "      <td>NaN</td>\n",
       "      <td>NaN</td>\n",
       "      <td>NaN</td>\n",
       "      <td>NaN</td>\n",
       "      <td>NaN</td>\n",
       "      <td>NaN</td>\n",
       "      <td>NaN</td>\n",
       "      <td>NaN</td>\n",
       "      <td>NaN</td>\n",
       "      <td>NaN</td>\n",
       "      <td>NaN</td>\n",
       "      <td>NaN</td>\n",
       "      <td>NaN</td>\n",
       "      <td>NaN</td>\n",
       "      <td>NaN</td>\n",
       "      <td>NaN</td>\n",
       "      <td>NaN</td>\n",
       "      <td>NaN</td>\n",
       "      <td>NaN</td>\n",
       "      <td>NaN</td>\n",
       "      <td>NaN</td>\n",
       "      <td>NaN</td>\n",
       "      <td>NaN</td>\n",
       "      <td>NaN</td>\n",
       "      <td>NaN</td>\n",
       "      <td>NaN</td>\n",
       "      <td>NaN</td>\n",
       "      <td>NaN</td>\n",
       "      <td>NaN</td>\n",
       "      <td>NaN</td>\n",
       "      <td>NaN</td>\n",
       "      <td>NaN</td>\n",
       "      <td>2.0</td>\n",
       "      <td>NaN</td>\n",
       "      <td>NaN</td>\n",
       "      <td>NaN</td>\n",
       "      <td>NaN</td>\n",
       "      <td>NaN</td>\n",
       "      <td>NaN</td>\n",
       "      <td>NaN</td>\n",
       "      <td>2.0</td>\n",
       "      <td>2.0</td>\n",
       "      <td>2.0</td>\n",
       "      <td>2.0</td>\n",
       "      <td>2.0</td>\n",
       "      <td>2.0</td>\n",
       "      <td>1.0</td>\n",
       "      <td>1.0</td>\n",
       "      <td>1.0</td>\n",
       "      <td>1.0</td>\n",
       "      <td>1.0</td>\n",
       "      <td>1.0</td>\n",
       "      <td>5.0</td>\n",
       "      <td>5.0</td>\n",
       "      <td>NaN</td>\n",
       "      <td>NaN</td>\n",
       "      <td>NaN</td>\n",
       "      <td>NaN</td>\n",
       "      <td>NaN</td>\n",
       "      <td>NaN</td>\n",
       "      <td>NaN</td>\n",
       "      <td>NaN</td>\n",
       "      <td>NaN</td>\n",
       "      <td>NaN</td>\n",
       "      <td>NaN</td>\n",
       "      <td>NaN</td>\n",
       "      <td>NaN</td>\n",
       "      <td>NaN</td>\n",
       "      <td>NaN</td>\n",
       "      <td>NaN</td>\n",
       "      <td>10.0</td>\n",
       "      <td>1.0</td>\n",
       "      <td>1.0</td>\n",
       "      <td>1.0</td>\n",
       "      <td>2.0</td>\n",
       "      <td>11011.0</td>\n",
       "      <td>39.766158</td>\n",
       "      <td>2.0</td>\n",
       "      <td>79.532315</td>\n",
       "      <td>2.0</td>\n",
       "      <td>9.0</td>\n",
       "      <td>NaN</td>\n",
       "      <td>NaN</td>\n",
       "      <td>NaN</td>\n",
       "      <td>NaN</td>\n",
       "      <td>1.0</td>\n",
       "      <td>0.519019</td>\n",
       "      <td>874.242902</td>\n",
       "      <td>299.137394</td>\n",
       "      <td>1.0</td>\n",
       "      <td>1.0</td>\n",
       "      <td>1.0</td>\n",
       "      <td>1.0</td>\n",
       "      <td>9.0</td>\n",
       "      <td>1.0</td>\n",
       "      <td>2.0</td>\n",
       "      <td>1.0</td>\n",
       "      <td>2.0</td>\n",
       "      <td>1.0</td>\n",
       "      <td>1.0</td>\n",
       "      <td>1.0</td>\n",
       "      <td>3.0</td>\n",
       "      <td>1.0</td>\n",
       "      <td>1.0</td>\n",
       "      <td>1.0</td>\n",
       "      <td>2.0</td>\n",
       "      <td>2.0</td>\n",
       "      <td>2.0</td>\n",
       "      <td>2.0</td>\n",
       "      <td>2.0</td>\n",
       "      <td>2.0</td>\n",
       "      <td>2.0</td>\n",
       "      <td>2.0</td>\n",
       "      <td>10.0</td>\n",
       "      <td>2.0</td>\n",
       "      <td>67.0</td>\n",
       "      <td>6.0</td>\n",
       "      <td>66.0</td>\n",
       "      <td>168.0</td>\n",
       "      <td>NaN</td>\n",
       "      <td>NaN</td>\n",
       "      <td>NaN</td>\n",
       "      <td>9.0</td>\n",
       "      <td>1.0</td>\n",
       "      <td>4.0</td>\n",
       "      <td>9.0</td>\n",
       "      <td>4.0</td>\n",
       "      <td>1.0</td>\n",
       "      <td>1.0</td>\n",
       "      <td>2.0</td>\n",
       "      <td>5.397605e-79</td>\n",
       "      <td>1.0</td>\n",
       "      <td>5.397605e-79</td>\n",
       "      <td>1.0</td>\n",
       "      <td>2.0</td>\n",
       "      <td>2.0</td>\n",
       "      <td>2.0</td>\n",
       "      <td>5.397605e-79</td>\n",
       "      <td>100.0</td>\n",
       "      <td>1.400000e+01</td>\n",
       "      <td>5.397605e-79</td>\n",
       "      <td>14.0</td>\n",
       "      <td>100.0</td>\n",
       "      <td>5.397605e-79</td>\n",
       "      <td>5.397605e-79</td>\n",
       "      <td>1.0</td>\n",
       "      <td>1.0</td>\n",
       "      <td>100.0</td>\n",
       "      <td>128.0</td>\n",
       "      <td>1.0</td>\n",
       "      <td>1.0</td>\n",
       "      <td>1.0</td>\n",
       "      <td>1.0</td>\n",
       "      <td>5.397605e-79</td>\n",
       "      <td>5.397605e-79</td>\n",
       "    </tr>\n",
       "    <tr>\n",
       "      <th>2</th>\n",
       "      <td>1.0</td>\n",
       "      <td>1.0</td>\n",
       "      <td>01212021</td>\n",
       "      <td>01</td>\n",
       "      <td>21</td>\n",
       "      <td>2021</td>\n",
       "      <td>1100.0</td>\n",
       "      <td>2021000003</td>\n",
       "      <td>2.021000e+09</td>\n",
       "      <td>1.0</td>\n",
       "      <td>1.0</td>\n",
       "      <td>NaN</td>\n",
       "      <td>1.0</td>\n",
       "      <td>2.0</td>\n",
       "      <td>1.0</td>\n",
       "      <td>NaN</td>\n",
       "      <td>2.0</td>\n",
       "      <td>NaN</td>\n",
       "      <td>1.0</td>\n",
       "      <td>1.0</td>\n",
       "      <td>2.0</td>\n",
       "      <td>NaN</td>\n",
       "      <td>NaN</td>\n",
       "      <td>NaN</td>\n",
       "      <td>NaN</td>\n",
       "      <td>NaN</td>\n",
       "      <td>NaN</td>\n",
       "      <td>NaN</td>\n",
       "      <td>NaN</td>\n",
       "      <td>NaN</td>\n",
       "      <td>NaN</td>\n",
       "      <td>2.0</td>\n",
       "      <td>2.0</td>\n",
       "      <td>88.0</td>\n",
       "      <td>88.0</td>\n",
       "      <td>NaN</td>\n",
       "      <td>2.0</td>\n",
       "      <td>2.0</td>\n",
       "      <td>2.0</td>\n",
       "      <td>1.0</td>\n",
       "      <td>2.0</td>\n",
       "      <td>1.0</td>\n",
       "      <td>1.0</td>\n",
       "      <td>2.0</td>\n",
       "      <td>2.0</td>\n",
       "      <td>2.0</td>\n",
       "      <td>2.0</td>\n",
       "      <td>1.0</td>\n",
       "      <td>2.0</td>\n",
       "      <td>2.0</td>\n",
       "      <td>NaN</td>\n",
       "      <td>2.0</td>\n",
       "      <td>2.0</td>\n",
       "      <td>2.0</td>\n",
       "      <td>2.0</td>\n",
       "      <td>2.0</td>\n",
       "      <td>1.0</td>\n",
       "      <td>98.0</td>\n",
       "      <td>2.0</td>\n",
       "      <td>NaN</td>\n",
       "      <td>NaN</td>\n",
       "      <td>NaN</td>\n",
       "      <td>NaN</td>\n",
       "      <td>NaN</td>\n",
       "      <td>3.0</td>\n",
       "      <td>4.0</td>\n",
       "      <td>1.0</td>\n",
       "      <td>2.0</td>\n",
       "      <td>NaN</td>\n",
       "      <td>1.0</td>\n",
       "      <td>2.0</td>\n",
       "      <td>7.0</td>\n",
       "      <td>88.0</td>\n",
       "      <td>3.0</td>\n",
       "      <td>NaN</td>\n",
       "      <td>170.0</td>\n",
       "      <td>505.0</td>\n",
       "      <td>2.0</td>\n",
       "      <td>2.0</td>\n",
       "      <td>2.0</td>\n",
       "      <td>2.0</td>\n",
       "      <td>2.0</td>\n",
       "      <td>2.0</td>\n",
       "      <td>2.0</td>\n",
       "      <td>NaN</td>\n",
       "      <td>3.0</td>\n",
       "      <td>3.0</td>\n",
       "      <td>888.0</td>\n",
       "      <td>NaN</td>\n",
       "      <td>NaN</td>\n",
       "      <td>NaN</td>\n",
       "      <td>2.0</td>\n",
       "      <td>NaN</td>\n",
       "      <td>NaN</td>\n",
       "      <td>2.0</td>\n",
       "      <td>2.0</td>\n",
       "      <td>NaN</td>\n",
       "      <td>101.0</td>\n",
       "      <td>555.0</td>\n",
       "      <td>555.0</td>\n",
       "      <td>201.0</td>\n",
       "      <td>201.0</td>\n",
       "      <td>203.0</td>\n",
       "      <td>NaN</td>\n",
       "      <td>NaN</td>\n",
       "      <td>NaN</td>\n",
       "      <td>NaN</td>\n",
       "      <td>NaN</td>\n",
       "      <td>NaN</td>\n",
       "      <td>NaN</td>\n",
       "      <td>NaN</td>\n",
       "      <td>NaN</td>\n",
       "      <td>NaN</td>\n",
       "      <td>NaN</td>\n",
       "      <td>NaN</td>\n",
       "      <td>NaN</td>\n",
       "      <td>NaN</td>\n",
       "      <td>NaN</td>\n",
       "      <td>NaN</td>\n",
       "      <td>NaN</td>\n",
       "      <td>NaN</td>\n",
       "      <td>NaN</td>\n",
       "      <td>NaN</td>\n",
       "      <td>NaN</td>\n",
       "      <td>NaN</td>\n",
       "      <td>NaN</td>\n",
       "      <td>NaN</td>\n",
       "      <td>NaN</td>\n",
       "      <td>NaN</td>\n",
       "      <td>NaN</td>\n",
       "      <td>NaN</td>\n",
       "      <td>NaN</td>\n",
       "      <td>NaN</td>\n",
       "      <td>NaN</td>\n",
       "      <td>NaN</td>\n",
       "      <td>NaN</td>\n",
       "      <td>NaN</td>\n",
       "      <td>NaN</td>\n",
       "      <td>NaN</td>\n",
       "      <td>NaN</td>\n",
       "      <td>NaN</td>\n",
       "      <td>NaN</td>\n",
       "      <td>NaN</td>\n",
       "      <td>NaN</td>\n",
       "      <td>NaN</td>\n",
       "      <td>NaN</td>\n",
       "      <td>NaN</td>\n",
       "      <td>NaN</td>\n",
       "      <td>NaN</td>\n",
       "      <td>NaN</td>\n",
       "      <td>NaN</td>\n",
       "      <td>NaN</td>\n",
       "      <td>NaN</td>\n",
       "      <td>NaN</td>\n",
       "      <td>NaN</td>\n",
       "      <td>NaN</td>\n",
       "      <td>NaN</td>\n",
       "      <td>NaN</td>\n",
       "      <td>NaN</td>\n",
       "      <td>NaN</td>\n",
       "      <td>NaN</td>\n",
       "      <td>NaN</td>\n",
       "      <td>NaN</td>\n",
       "      <td>NaN</td>\n",
       "      <td>NaN</td>\n",
       "      <td>NaN</td>\n",
       "      <td>NaN</td>\n",
       "      <td>NaN</td>\n",
       "      <td>NaN</td>\n",
       "      <td>NaN</td>\n",
       "      <td>NaN</td>\n",
       "      <td>NaN</td>\n",
       "      <td>NaN</td>\n",
       "      <td>NaN</td>\n",
       "      <td>NaN</td>\n",
       "      <td>NaN</td>\n",
       "      <td>NaN</td>\n",
       "      <td>NaN</td>\n",
       "      <td>NaN</td>\n",
       "      <td>NaN</td>\n",
       "      <td>2.0</td>\n",
       "      <td>NaN</td>\n",
       "      <td>NaN</td>\n",
       "      <td>NaN</td>\n",
       "      <td>NaN</td>\n",
       "      <td>NaN</td>\n",
       "      <td>NaN</td>\n",
       "      <td>NaN</td>\n",
       "      <td>2.0</td>\n",
       "      <td>2.0</td>\n",
       "      <td>2.0</td>\n",
       "      <td>2.0</td>\n",
       "      <td>2.0</td>\n",
       "      <td>2.0</td>\n",
       "      <td>1.0</td>\n",
       "      <td>1.0</td>\n",
       "      <td>1.0</td>\n",
       "      <td>1.0</td>\n",
       "      <td>1.0</td>\n",
       "      <td>1.0</td>\n",
       "      <td>5.0</td>\n",
       "      <td>5.0</td>\n",
       "      <td>NaN</td>\n",
       "      <td>NaN</td>\n",
       "      <td>NaN</td>\n",
       "      <td>NaN</td>\n",
       "      <td>NaN</td>\n",
       "      <td>NaN</td>\n",
       "      <td>NaN</td>\n",
       "      <td>NaN</td>\n",
       "      <td>NaN</td>\n",
       "      <td>NaN</td>\n",
       "      <td>NaN</td>\n",
       "      <td>NaN</td>\n",
       "      <td>NaN</td>\n",
       "      <td>NaN</td>\n",
       "      <td>NaN</td>\n",
       "      <td>NaN</td>\n",
       "      <td>10.0</td>\n",
       "      <td>1.0</td>\n",
       "      <td>1.0</td>\n",
       "      <td>1.0</td>\n",
       "      <td>1.0</td>\n",
       "      <td>11011.0</td>\n",
       "      <td>39.766158</td>\n",
       "      <td>2.0</td>\n",
       "      <td>79.532315</td>\n",
       "      <td>2.0</td>\n",
       "      <td>9.0</td>\n",
       "      <td>NaN</td>\n",
       "      <td>NaN</td>\n",
       "      <td>NaN</td>\n",
       "      <td>NaN</td>\n",
       "      <td>1.0</td>\n",
       "      <td>0.519019</td>\n",
       "      <td>874.242902</td>\n",
       "      <td>587.862986</td>\n",
       "      <td>1.0</td>\n",
       "      <td>1.0</td>\n",
       "      <td>1.0</td>\n",
       "      <td>1.0</td>\n",
       "      <td>9.0</td>\n",
       "      <td>2.0</td>\n",
       "      <td>2.0</td>\n",
       "      <td>1.0</td>\n",
       "      <td>1.0</td>\n",
       "      <td>1.0</td>\n",
       "      <td>1.0</td>\n",
       "      <td>1.0</td>\n",
       "      <td>3.0</td>\n",
       "      <td>2.0</td>\n",
       "      <td>3.0</td>\n",
       "      <td>3.0</td>\n",
       "      <td>2.0</td>\n",
       "      <td>2.0</td>\n",
       "      <td>2.0</td>\n",
       "      <td>2.0</td>\n",
       "      <td>2.0</td>\n",
       "      <td>2.0</td>\n",
       "      <td>2.0</td>\n",
       "      <td>2.0</td>\n",
       "      <td>11.0</td>\n",
       "      <td>2.0</td>\n",
       "      <td>72.0</td>\n",
       "      <td>6.0</td>\n",
       "      <td>65.0</td>\n",
       "      <td>165.0</td>\n",
       "      <td>7711.0</td>\n",
       "      <td>2829.0</td>\n",
       "      <td>3.0</td>\n",
       "      <td>2.0</td>\n",
       "      <td>1.0</td>\n",
       "      <td>2.0</td>\n",
       "      <td>2.0</td>\n",
       "      <td>4.0</td>\n",
       "      <td>1.0</td>\n",
       "      <td>1.0</td>\n",
       "      <td>2.0</td>\n",
       "      <td>5.397605e-79</td>\n",
       "      <td>1.0</td>\n",
       "      <td>5.397605e-79</td>\n",
       "      <td>1.0</td>\n",
       "      <td>2.0</td>\n",
       "      <td>2.0</td>\n",
       "      <td>2.0</td>\n",
       "      <td>5.397605e-79</td>\n",
       "      <td>100.0</td>\n",
       "      <td>5.397605e-79</td>\n",
       "      <td>1.400000e+01</td>\n",
       "      <td>14.0</td>\n",
       "      <td>43.0</td>\n",
       "      <td>5.397605e-79</td>\n",
       "      <td>5.397605e-79</td>\n",
       "      <td>1.0</td>\n",
       "      <td>1.0</td>\n",
       "      <td>100.0</td>\n",
       "      <td>71.0</td>\n",
       "      <td>1.0</td>\n",
       "      <td>2.0</td>\n",
       "      <td>1.0</td>\n",
       "      <td>1.0</td>\n",
       "      <td>5.397605e-79</td>\n",
       "      <td>5.397605e-79</td>\n",
       "    </tr>\n",
       "    <tr>\n",
       "      <th>3</th>\n",
       "      <td>1.0</td>\n",
       "      <td>1.0</td>\n",
       "      <td>01172021</td>\n",
       "      <td>01</td>\n",
       "      <td>17</td>\n",
       "      <td>2021</td>\n",
       "      <td>1100.0</td>\n",
       "      <td>2021000004</td>\n",
       "      <td>2.021000e+09</td>\n",
       "      <td>1.0</td>\n",
       "      <td>1.0</td>\n",
       "      <td>NaN</td>\n",
       "      <td>1.0</td>\n",
       "      <td>2.0</td>\n",
       "      <td>1.0</td>\n",
       "      <td>NaN</td>\n",
       "      <td>2.0</td>\n",
       "      <td>NaN</td>\n",
       "      <td>1.0</td>\n",
       "      <td>1.0</td>\n",
       "      <td>2.0</td>\n",
       "      <td>NaN</td>\n",
       "      <td>NaN</td>\n",
       "      <td>NaN</td>\n",
       "      <td>NaN</td>\n",
       "      <td>NaN</td>\n",
       "      <td>NaN</td>\n",
       "      <td>NaN</td>\n",
       "      <td>NaN</td>\n",
       "      <td>NaN</td>\n",
       "      <td>NaN</td>\n",
       "      <td>2.0</td>\n",
       "      <td>2.0</td>\n",
       "      <td>88.0</td>\n",
       "      <td>10.0</td>\n",
       "      <td>88.0</td>\n",
       "      <td>2.0</td>\n",
       "      <td>1.0</td>\n",
       "      <td>2.0</td>\n",
       "      <td>1.0</td>\n",
       "      <td>1.0</td>\n",
       "      <td>1.0</td>\n",
       "      <td>1.0</td>\n",
       "      <td>2.0</td>\n",
       "      <td>1.0</td>\n",
       "      <td>2.0</td>\n",
       "      <td>2.0</td>\n",
       "      <td>2.0</td>\n",
       "      <td>2.0</td>\n",
       "      <td>2.0</td>\n",
       "      <td>NaN</td>\n",
       "      <td>2.0</td>\n",
       "      <td>2.0</td>\n",
       "      <td>2.0</td>\n",
       "      <td>2.0</td>\n",
       "      <td>2.0</td>\n",
       "      <td>1.0</td>\n",
       "      <td>56.0</td>\n",
       "      <td>2.0</td>\n",
       "      <td>NaN</td>\n",
       "      <td>NaN</td>\n",
       "      <td>NaN</td>\n",
       "      <td>NaN</td>\n",
       "      <td>NaN</td>\n",
       "      <td>1.0</td>\n",
       "      <td>4.0</td>\n",
       "      <td>1.0</td>\n",
       "      <td>2.0</td>\n",
       "      <td>NaN</td>\n",
       "      <td>1.0</td>\n",
       "      <td>2.0</td>\n",
       "      <td>7.0</td>\n",
       "      <td>88.0</td>\n",
       "      <td>7.0</td>\n",
       "      <td>NaN</td>\n",
       "      <td>195.0</td>\n",
       "      <td>504.0</td>\n",
       "      <td>2.0</td>\n",
       "      <td>2.0</td>\n",
       "      <td>2.0</td>\n",
       "      <td>2.0</td>\n",
       "      <td>2.0</td>\n",
       "      <td>2.0</td>\n",
       "      <td>2.0</td>\n",
       "      <td>NaN</td>\n",
       "      <td>3.0</td>\n",
       "      <td>3.0</td>\n",
       "      <td>101.0</td>\n",
       "      <td>3.0</td>\n",
       "      <td>1.0</td>\n",
       "      <td>6.0</td>\n",
       "      <td>1.0</td>\n",
       "      <td>102020.0</td>\n",
       "      <td>1.0</td>\n",
       "      <td>2.0</td>\n",
       "      <td>2.0</td>\n",
       "      <td>NaN</td>\n",
       "      <td>203.0</td>\n",
       "      <td>205.0</td>\n",
       "      <td>303.0</td>\n",
       "      <td>204.0</td>\n",
       "      <td>308.0</td>\n",
       "      <td>205.0</td>\n",
       "      <td>NaN</td>\n",
       "      <td>NaN</td>\n",
       "      <td>NaN</td>\n",
       "      <td>NaN</td>\n",
       "      <td>NaN</td>\n",
       "      <td>NaN</td>\n",
       "      <td>NaN</td>\n",
       "      <td>NaN</td>\n",
       "      <td>NaN</td>\n",
       "      <td>NaN</td>\n",
       "      <td>NaN</td>\n",
       "      <td>NaN</td>\n",
       "      <td>NaN</td>\n",
       "      <td>NaN</td>\n",
       "      <td>NaN</td>\n",
       "      <td>NaN</td>\n",
       "      <td>NaN</td>\n",
       "      <td>NaN</td>\n",
       "      <td>NaN</td>\n",
       "      <td>NaN</td>\n",
       "      <td>NaN</td>\n",
       "      <td>NaN</td>\n",
       "      <td>NaN</td>\n",
       "      <td>NaN</td>\n",
       "      <td>NaN</td>\n",
       "      <td>NaN</td>\n",
       "      <td>NaN</td>\n",
       "      <td>NaN</td>\n",
       "      <td>NaN</td>\n",
       "      <td>NaN</td>\n",
       "      <td>NaN</td>\n",
       "      <td>NaN</td>\n",
       "      <td>NaN</td>\n",
       "      <td>NaN</td>\n",
       "      <td>NaN</td>\n",
       "      <td>NaN</td>\n",
       "      <td>NaN</td>\n",
       "      <td>NaN</td>\n",
       "      <td>NaN</td>\n",
       "      <td>NaN</td>\n",
       "      <td>NaN</td>\n",
       "      <td>NaN</td>\n",
       "      <td>NaN</td>\n",
       "      <td>NaN</td>\n",
       "      <td>NaN</td>\n",
       "      <td>NaN</td>\n",
       "      <td>NaN</td>\n",
       "      <td>NaN</td>\n",
       "      <td>NaN</td>\n",
       "      <td>NaN</td>\n",
       "      <td>NaN</td>\n",
       "      <td>NaN</td>\n",
       "      <td>NaN</td>\n",
       "      <td>NaN</td>\n",
       "      <td>NaN</td>\n",
       "      <td>NaN</td>\n",
       "      <td>NaN</td>\n",
       "      <td>NaN</td>\n",
       "      <td>NaN</td>\n",
       "      <td>NaN</td>\n",
       "      <td>NaN</td>\n",
       "      <td>NaN</td>\n",
       "      <td>NaN</td>\n",
       "      <td>NaN</td>\n",
       "      <td>NaN</td>\n",
       "      <td>NaN</td>\n",
       "      <td>NaN</td>\n",
       "      <td>NaN</td>\n",
       "      <td>NaN</td>\n",
       "      <td>NaN</td>\n",
       "      <td>NaN</td>\n",
       "      <td>NaN</td>\n",
       "      <td>NaN</td>\n",
       "      <td>NaN</td>\n",
       "      <td>NaN</td>\n",
       "      <td>NaN</td>\n",
       "      <td>NaN</td>\n",
       "      <td>2.0</td>\n",
       "      <td>NaN</td>\n",
       "      <td>NaN</td>\n",
       "      <td>NaN</td>\n",
       "      <td>NaN</td>\n",
       "      <td>NaN</td>\n",
       "      <td>NaN</td>\n",
       "      <td>NaN</td>\n",
       "      <td>7.0</td>\n",
       "      <td>1.0</td>\n",
       "      <td>2.0</td>\n",
       "      <td>2.0</td>\n",
       "      <td>2.0</td>\n",
       "      <td>2.0</td>\n",
       "      <td>1.0</td>\n",
       "      <td>3.0</td>\n",
       "      <td>1.0</td>\n",
       "      <td>1.0</td>\n",
       "      <td>1.0</td>\n",
       "      <td>1.0</td>\n",
       "      <td>5.0</td>\n",
       "      <td>5.0</td>\n",
       "      <td>NaN</td>\n",
       "      <td>NaN</td>\n",
       "      <td>NaN</td>\n",
       "      <td>NaN</td>\n",
       "      <td>NaN</td>\n",
       "      <td>NaN</td>\n",
       "      <td>NaN</td>\n",
       "      <td>NaN</td>\n",
       "      <td>NaN</td>\n",
       "      <td>NaN</td>\n",
       "      <td>NaN</td>\n",
       "      <td>NaN</td>\n",
       "      <td>NaN</td>\n",
       "      <td>NaN</td>\n",
       "      <td>NaN</td>\n",
       "      <td>NaN</td>\n",
       "      <td>10.0</td>\n",
       "      <td>1.0</td>\n",
       "      <td>1.0</td>\n",
       "      <td>1.0</td>\n",
       "      <td>3.0</td>\n",
       "      <td>11011.0</td>\n",
       "      <td>39.766158</td>\n",
       "      <td>2.0</td>\n",
       "      <td>79.532315</td>\n",
       "      <td>1.0</td>\n",
       "      <td>9.0</td>\n",
       "      <td>NaN</td>\n",
       "      <td>NaN</td>\n",
       "      <td>NaN</td>\n",
       "      <td>NaN</td>\n",
       "      <td>1.0</td>\n",
       "      <td>0.519019</td>\n",
       "      <td>874.242902</td>\n",
       "      <td>1099.621573</td>\n",
       "      <td>1.0</td>\n",
       "      <td>1.0</td>\n",
       "      <td>2.0</td>\n",
       "      <td>1.0</td>\n",
       "      <td>1.0</td>\n",
       "      <td>1.0</td>\n",
       "      <td>2.0</td>\n",
       "      <td>1.0</td>\n",
       "      <td>2.0</td>\n",
       "      <td>2.0</td>\n",
       "      <td>1.0</td>\n",
       "      <td>1.0</td>\n",
       "      <td>3.0</td>\n",
       "      <td>2.0</td>\n",
       "      <td>3.0</td>\n",
       "      <td>3.0</td>\n",
       "      <td>1.0</td>\n",
       "      <td>1.0</td>\n",
       "      <td>2.0</td>\n",
       "      <td>1.0</td>\n",
       "      <td>1.0</td>\n",
       "      <td>1.0</td>\n",
       "      <td>1.0</td>\n",
       "      <td>2.0</td>\n",
       "      <td>9.0</td>\n",
       "      <td>1.0</td>\n",
       "      <td>62.0</td>\n",
       "      <td>5.0</td>\n",
       "      <td>64.0</td>\n",
       "      <td>163.0</td>\n",
       "      <td>8845.0</td>\n",
       "      <td>3347.0</td>\n",
       "      <td>4.0</td>\n",
       "      <td>2.0</td>\n",
       "      <td>1.0</td>\n",
       "      <td>2.0</td>\n",
       "      <td>5.0</td>\n",
       "      <td>4.0</td>\n",
       "      <td>1.0</td>\n",
       "      <td>1.0</td>\n",
       "      <td>1.0</td>\n",
       "      <td>1.400000e+01</td>\n",
       "      <td>2.0</td>\n",
       "      <td>3.000000e+02</td>\n",
       "      <td>1.0</td>\n",
       "      <td>NaN</td>\n",
       "      <td>NaN</td>\n",
       "      <td>2.0</td>\n",
       "      <td>7.100000e+01</td>\n",
       "      <td>43.0</td>\n",
       "      <td>1.000000e+01</td>\n",
       "      <td>5.700000e+01</td>\n",
       "      <td>27.0</td>\n",
       "      <td>71.0</td>\n",
       "      <td>5.397605e-79</td>\n",
       "      <td>5.397605e-79</td>\n",
       "      <td>1.0</td>\n",
       "      <td>1.0</td>\n",
       "      <td>114.0</td>\n",
       "      <td>165.0</td>\n",
       "      <td>1.0</td>\n",
       "      <td>1.0</td>\n",
       "      <td>1.0</td>\n",
       "      <td>1.0</td>\n",
       "      <td>5.397605e-79</td>\n",
       "      <td>5.397605e-79</td>\n",
       "    </tr>\n",
       "    <tr>\n",
       "      <th>4</th>\n",
       "      <td>1.0</td>\n",
       "      <td>1.0</td>\n",
       "      <td>01152021</td>\n",
       "      <td>01</td>\n",
       "      <td>15</td>\n",
       "      <td>2021</td>\n",
       "      <td>1100.0</td>\n",
       "      <td>2021000005</td>\n",
       "      <td>2.021000e+09</td>\n",
       "      <td>1.0</td>\n",
       "      <td>1.0</td>\n",
       "      <td>NaN</td>\n",
       "      <td>1.0</td>\n",
       "      <td>2.0</td>\n",
       "      <td>1.0</td>\n",
       "      <td>NaN</td>\n",
       "      <td>2.0</td>\n",
       "      <td>NaN</td>\n",
       "      <td>1.0</td>\n",
       "      <td>1.0</td>\n",
       "      <td>1.0</td>\n",
       "      <td>NaN</td>\n",
       "      <td>NaN</td>\n",
       "      <td>NaN</td>\n",
       "      <td>NaN</td>\n",
       "      <td>NaN</td>\n",
       "      <td>NaN</td>\n",
       "      <td>NaN</td>\n",
       "      <td>NaN</td>\n",
       "      <td>NaN</td>\n",
       "      <td>NaN</td>\n",
       "      <td>1.0</td>\n",
       "      <td>5.0</td>\n",
       "      <td>30.0</td>\n",
       "      <td>88.0</td>\n",
       "      <td>30.0</td>\n",
       "      <td>3.0</td>\n",
       "      <td>1.0</td>\n",
       "      <td>2.0</td>\n",
       "      <td>1.0</td>\n",
       "      <td>1.0</td>\n",
       "      <td>4.0</td>\n",
       "      <td>NaN</td>\n",
       "      <td>2.0</td>\n",
       "      <td>1.0</td>\n",
       "      <td>1.0</td>\n",
       "      <td>1.0</td>\n",
       "      <td>7.0</td>\n",
       "      <td>1.0</td>\n",
       "      <td>2.0</td>\n",
       "      <td>NaN</td>\n",
       "      <td>2.0</td>\n",
       "      <td>2.0</td>\n",
       "      <td>2.0</td>\n",
       "      <td>2.0</td>\n",
       "      <td>2.0</td>\n",
       "      <td>1.0</td>\n",
       "      <td>65.0</td>\n",
       "      <td>2.0</td>\n",
       "      <td>NaN</td>\n",
       "      <td>NaN</td>\n",
       "      <td>NaN</td>\n",
       "      <td>NaN</td>\n",
       "      <td>NaN</td>\n",
       "      <td>1.0</td>\n",
       "      <td>3.0</td>\n",
       "      <td>1.0</td>\n",
       "      <td>2.0</td>\n",
       "      <td>NaN</td>\n",
       "      <td>8.0</td>\n",
       "      <td>2.0</td>\n",
       "      <td>8.0</td>\n",
       "      <td>88.0</td>\n",
       "      <td>4.0</td>\n",
       "      <td>NaN</td>\n",
       "      <td>206.0</td>\n",
       "      <td>511.0</td>\n",
       "      <td>1.0</td>\n",
       "      <td>2.0</td>\n",
       "      <td>2.0</td>\n",
       "      <td>1.0</td>\n",
       "      <td>2.0</td>\n",
       "      <td>2.0</td>\n",
       "      <td>2.0</td>\n",
       "      <td>NaN</td>\n",
       "      <td>2.0</td>\n",
       "      <td>3.0</td>\n",
       "      <td>888.0</td>\n",
       "      <td>NaN</td>\n",
       "      <td>NaN</td>\n",
       "      <td>NaN</td>\n",
       "      <td>1.0</td>\n",
       "      <td>92020.0</td>\n",
       "      <td>1.0</td>\n",
       "      <td>1.0</td>\n",
       "      <td>1.0</td>\n",
       "      <td>777777.0</td>\n",
       "      <td>101.0</td>\n",
       "      <td>555.0</td>\n",
       "      <td>101.0</td>\n",
       "      <td>202.0</td>\n",
       "      <td>202.0</td>\n",
       "      <td>101.0</td>\n",
       "      <td>NaN</td>\n",
       "      <td>NaN</td>\n",
       "      <td>NaN</td>\n",
       "      <td>NaN</td>\n",
       "      <td>NaN</td>\n",
       "      <td>NaN</td>\n",
       "      <td>NaN</td>\n",
       "      <td>NaN</td>\n",
       "      <td>NaN</td>\n",
       "      <td>NaN</td>\n",
       "      <td>NaN</td>\n",
       "      <td>NaN</td>\n",
       "      <td>NaN</td>\n",
       "      <td>NaN</td>\n",
       "      <td>NaN</td>\n",
       "      <td>NaN</td>\n",
       "      <td>NaN</td>\n",
       "      <td>NaN</td>\n",
       "      <td>NaN</td>\n",
       "      <td>NaN</td>\n",
       "      <td>NaN</td>\n",
       "      <td>NaN</td>\n",
       "      <td>NaN</td>\n",
       "      <td>NaN</td>\n",
       "      <td>NaN</td>\n",
       "      <td>NaN</td>\n",
       "      <td>NaN</td>\n",
       "      <td>NaN</td>\n",
       "      <td>NaN</td>\n",
       "      <td>NaN</td>\n",
       "      <td>NaN</td>\n",
       "      <td>NaN</td>\n",
       "      <td>NaN</td>\n",
       "      <td>NaN</td>\n",
       "      <td>NaN</td>\n",
       "      <td>NaN</td>\n",
       "      <td>NaN</td>\n",
       "      <td>NaN</td>\n",
       "      <td>NaN</td>\n",
       "      <td>NaN</td>\n",
       "      <td>NaN</td>\n",
       "      <td>NaN</td>\n",
       "      <td>NaN</td>\n",
       "      <td>NaN</td>\n",
       "      <td>NaN</td>\n",
       "      <td>NaN</td>\n",
       "      <td>NaN</td>\n",
       "      <td>NaN</td>\n",
       "      <td>NaN</td>\n",
       "      <td>NaN</td>\n",
       "      <td>NaN</td>\n",
       "      <td>NaN</td>\n",
       "      <td>NaN</td>\n",
       "      <td>NaN</td>\n",
       "      <td>NaN</td>\n",
       "      <td>NaN</td>\n",
       "      <td>NaN</td>\n",
       "      <td>NaN</td>\n",
       "      <td>NaN</td>\n",
       "      <td>NaN</td>\n",
       "      <td>NaN</td>\n",
       "      <td>NaN</td>\n",
       "      <td>NaN</td>\n",
       "      <td>NaN</td>\n",
       "      <td>NaN</td>\n",
       "      <td>NaN</td>\n",
       "      <td>NaN</td>\n",
       "      <td>NaN</td>\n",
       "      <td>NaN</td>\n",
       "      <td>NaN</td>\n",
       "      <td>NaN</td>\n",
       "      <td>NaN</td>\n",
       "      <td>NaN</td>\n",
       "      <td>NaN</td>\n",
       "      <td>NaN</td>\n",
       "      <td>NaN</td>\n",
       "      <td>NaN</td>\n",
       "      <td>2.0</td>\n",
       "      <td>NaN</td>\n",
       "      <td>NaN</td>\n",
       "      <td>NaN</td>\n",
       "      <td>NaN</td>\n",
       "      <td>NaN</td>\n",
       "      <td>NaN</td>\n",
       "      <td>NaN</td>\n",
       "      <td>2.0</td>\n",
       "      <td>2.0</td>\n",
       "      <td>2.0</td>\n",
       "      <td>2.0</td>\n",
       "      <td>2.0</td>\n",
       "      <td>2.0</td>\n",
       "      <td>1.0</td>\n",
       "      <td>1.0</td>\n",
       "      <td>1.0</td>\n",
       "      <td>1.0</td>\n",
       "      <td>1.0</td>\n",
       "      <td>1.0</td>\n",
       "      <td>5.0</td>\n",
       "      <td>5.0</td>\n",
       "      <td>NaN</td>\n",
       "      <td>NaN</td>\n",
       "      <td>NaN</td>\n",
       "      <td>NaN</td>\n",
       "      <td>NaN</td>\n",
       "      <td>NaN</td>\n",
       "      <td>NaN</td>\n",
       "      <td>NaN</td>\n",
       "      <td>NaN</td>\n",
       "      <td>NaN</td>\n",
       "      <td>NaN</td>\n",
       "      <td>NaN</td>\n",
       "      <td>NaN</td>\n",
       "      <td>NaN</td>\n",
       "      <td>NaN</td>\n",
       "      <td>NaN</td>\n",
       "      <td>10.0</td>\n",
       "      <td>1.0</td>\n",
       "      <td>2.0</td>\n",
       "      <td>1.0</td>\n",
       "      <td>2.0</td>\n",
       "      <td>11011.0</td>\n",
       "      <td>39.766158</td>\n",
       "      <td>2.0</td>\n",
       "      <td>79.532315</td>\n",
       "      <td>6.0</td>\n",
       "      <td>9.0</td>\n",
       "      <td>NaN</td>\n",
       "      <td>NaN</td>\n",
       "      <td>NaN</td>\n",
       "      <td>NaN</td>\n",
       "      <td>9.0</td>\n",
       "      <td>NaN</td>\n",
       "      <td>2144.768999</td>\n",
       "      <td>1711.825866</td>\n",
       "      <td>2.0</td>\n",
       "      <td>3.0</td>\n",
       "      <td>1.0</td>\n",
       "      <td>1.0</td>\n",
       "      <td>9.0</td>\n",
       "      <td>1.0</td>\n",
       "      <td>1.0</td>\n",
       "      <td>1.0</td>\n",
       "      <td>2.0</td>\n",
       "      <td>1.0</td>\n",
       "      <td>1.0</td>\n",
       "      <td>1.0</td>\n",
       "      <td>3.0</td>\n",
       "      <td>2.0</td>\n",
       "      <td>3.0</td>\n",
       "      <td>3.0</td>\n",
       "      <td>1.0</td>\n",
       "      <td>7.0</td>\n",
       "      <td>2.0</td>\n",
       "      <td>7.0</td>\n",
       "      <td>2.0</td>\n",
       "      <td>4.0</td>\n",
       "      <td>7.0</td>\n",
       "      <td>1.0</td>\n",
       "      <td>12.0</td>\n",
       "      <td>2.0</td>\n",
       "      <td>76.0</td>\n",
       "      <td>6.0</td>\n",
       "      <td>71.0</td>\n",
       "      <td>180.0</td>\n",
       "      <td>9344.0</td>\n",
       "      <td>2873.0</td>\n",
       "      <td>3.0</td>\n",
       "      <td>2.0</td>\n",
       "      <td>1.0</td>\n",
       "      <td>1.0</td>\n",
       "      <td>2.0</td>\n",
       "      <td>4.0</td>\n",
       "      <td>1.0</td>\n",
       "      <td>1.0</td>\n",
       "      <td>2.0</td>\n",
       "      <td>5.397605e-79</td>\n",
       "      <td>1.0</td>\n",
       "      <td>5.397605e-79</td>\n",
       "      <td>1.0</td>\n",
       "      <td>1.0</td>\n",
       "      <td>1.0</td>\n",
       "      <td>1.0</td>\n",
       "      <td>5.397605e-79</td>\n",
       "      <td>100.0</td>\n",
       "      <td>1.000000e+02</td>\n",
       "      <td>2.900000e+01</td>\n",
       "      <td>29.0</td>\n",
       "      <td>100.0</td>\n",
       "      <td>5.397605e-79</td>\n",
       "      <td>5.397605e-79</td>\n",
       "      <td>1.0</td>\n",
       "      <td>1.0</td>\n",
       "      <td>100.0</td>\n",
       "      <td>258.0</td>\n",
       "      <td>1.0</td>\n",
       "      <td>1.0</td>\n",
       "      <td>1.0</td>\n",
       "      <td>1.0</td>\n",
       "      <td>5.397605e-79</td>\n",
       "      <td>5.397605e-79</td>\n",
       "    </tr>\n",
       "  </tbody>\n",
       "</table>\n",
       "</div>"
      ],
      "text/plain": [
       "   _STATE  FMONTH     IDATE IMONTH IDAY IYEAR  DISPCODE       SEQNO  \\\n",
       "0     1.0     1.0  01192021     01   19  2021    1100.0  2021000001   \n",
       "1     1.0     1.0  01212021     01   21  2021    1100.0  2021000002   \n",
       "2     1.0     1.0  01212021     01   21  2021    1100.0  2021000003   \n",
       "3     1.0     1.0  01172021     01   17  2021    1100.0  2021000004   \n",
       "4     1.0     1.0  01152021     01   15  2021    1100.0  2021000005   \n",
       "\n",
       "           _PSU  CTELENM1  PVTRESD1  COLGHOUS  STATERE1  CELPHON1  LADULT1  \\\n",
       "0  2.021000e+09       1.0       1.0       NaN       1.0       2.0      1.0   \n",
       "1  2.021000e+09       1.0       1.0       NaN       1.0       2.0      1.0   \n",
       "2  2.021000e+09       1.0       1.0       NaN       1.0       2.0      1.0   \n",
       "3  2.021000e+09       1.0       1.0       NaN       1.0       2.0      1.0   \n",
       "4  2.021000e+09       1.0       1.0       NaN       1.0       2.0      1.0   \n",
       "\n",
       "   COLGSEX  NUMADULT  LANDSEX  NUMMEN  NUMWOMEN  RESPSLCT  SAFETIME  CTELNUM1  \\\n",
       "0      NaN       2.0      NaN     1.0       1.0       2.0       NaN       NaN   \n",
       "1      NaN       2.0      NaN     1.0       1.0       2.0       NaN       NaN   \n",
       "2      NaN       2.0      NaN     1.0       1.0       2.0       NaN       NaN   \n",
       "3      NaN       2.0      NaN     1.0       1.0       2.0       NaN       NaN   \n",
       "4      NaN       2.0      NaN     1.0       1.0       1.0       NaN       NaN   \n",
       "\n",
       "   CELLFON5  CADULT1  CELLSEX  PVTRESD3  CCLGHOUS  CSTATE1  LANDLINE  HHADULT  \\\n",
       "0       NaN      NaN      NaN       NaN       NaN      NaN       NaN      NaN   \n",
       "1       NaN      NaN      NaN       NaN       NaN      NaN       NaN      NaN   \n",
       "2       NaN      NaN      NaN       NaN       NaN      NaN       NaN      NaN   \n",
       "3       NaN      NaN      NaN       NaN       NaN      NaN       NaN      NaN   \n",
       "4       NaN      NaN      NaN       NaN       NaN      NaN       NaN      NaN   \n",
       "\n",
       "   SEXVAR  GENHLTH  PHYSHLTH  MENTHLTH  POORHLTH  PRIMINSR  PERSDOC3  \\\n",
       "0     2.0      5.0      20.0      10.0      88.0       3.0       1.0   \n",
       "1     2.0      3.0      88.0      88.0       NaN       1.0       2.0   \n",
       "2     2.0      2.0      88.0      88.0       NaN       2.0       2.0   \n",
       "3     2.0      2.0      88.0      10.0      88.0       2.0       1.0   \n",
       "4     1.0      5.0      30.0      88.0      30.0       3.0       1.0   \n",
       "\n",
       "   MEDCOST1  CHECKUP1  EXERANY2  BPHIGH6  BPMEDS  CHOLCHK3  TOLDHI3  CHOLMED3  \\\n",
       "0       2.0       2.0       2.0      3.0     NaN       2.0      1.0       1.0   \n",
       "1       2.0       1.0       1.0      1.0     1.0       2.0      1.0       1.0   \n",
       "2       2.0       1.0       2.0      1.0     1.0       2.0      2.0       2.0   \n",
       "3       2.0       1.0       1.0      1.0     1.0       2.0      1.0       2.0   \n",
       "4       2.0       1.0       1.0      4.0     NaN       2.0      1.0       1.0   \n",
       "\n",
       "   CVDINFR4  CVDCRHD4  CVDSTRK3  ASTHMA3  ASTHNOW  CHCSCNCR  CHCOCNCR  \\\n",
       "0       2.0       2.0       2.0      1.0      1.0       2.0       2.0   \n",
       "1       2.0       1.0       2.0      2.0      NaN       2.0       2.0   \n",
       "2       2.0       1.0       2.0      2.0      NaN       2.0       2.0   \n",
       "3       2.0       2.0       2.0      2.0      NaN       2.0       2.0   \n",
       "4       1.0       7.0       1.0      2.0      NaN       2.0       2.0   \n",
       "\n",
       "   CHCCOPD3  ADDEPEV3  CHCKDNY2  DIABETE4  DIABAGE3  HAVARTH5  ARTHEXER  \\\n",
       "0       1.0       2.0       2.0       3.0       NaN       1.0       2.0   \n",
       "1       2.0       2.0       1.0       1.0      98.0       1.0       1.0   \n",
       "2       2.0       2.0       2.0       1.0      98.0       2.0       NaN   \n",
       "3       2.0       2.0       2.0       1.0      56.0       2.0       NaN   \n",
       "4       2.0       2.0       2.0       1.0      65.0       2.0       NaN   \n",
       "\n",
       "   ARTHEDU  LMTJOIN3  ARTHDIS2  JOINPAI2  MARITAL  EDUCA  RENTHOM1  NUMHHOL3  \\\n",
       "0      2.0       2.0       1.0       8.0      1.0    4.0       1.0       1.0   \n",
       "1      2.0       1.0       1.0      10.0      9.0    6.0       1.0       2.0   \n",
       "2      NaN       NaN       NaN       NaN      3.0    4.0       1.0       2.0   \n",
       "3      NaN       NaN       NaN       NaN      1.0    4.0       1.0       2.0   \n",
       "4      NaN       NaN       NaN       NaN      1.0    3.0       1.0       2.0   \n",
       "\n",
       "   NUMPHON3  CPDEMO1B  VETERAN3  EMPLOY1  CHILDREN  INCOME3  PREGNANT  \\\n",
       "0       1.0       1.0       2.0      7.0      88.0      5.0       NaN   \n",
       "1       NaN       1.0       2.0      8.0      88.0     77.0       NaN   \n",
       "2       NaN       1.0       2.0      7.0      88.0      3.0       NaN   \n",
       "3       NaN       1.0       2.0      7.0      88.0      7.0       NaN   \n",
       "4       NaN       8.0       2.0      8.0      88.0      4.0       NaN   \n",
       "\n",
       "   WEIGHT2  HEIGHT3  DEAF  BLIND  DECIDE  DIFFWALK  DIFFDRES  DIFFALON  \\\n",
       "0     72.0    411.0   2.0    2.0     2.0       2.0       2.0       1.0   \n",
       "1   7777.0    506.0   2.0    1.0     1.0       1.0       2.0       1.0   \n",
       "2    170.0    505.0   2.0    2.0     2.0       2.0       2.0       2.0   \n",
       "3    195.0    504.0   2.0    2.0     2.0       2.0       2.0       2.0   \n",
       "4    206.0    511.0   1.0    2.0     2.0       1.0       2.0       2.0   \n",
       "\n",
       "   SMOKE100  SMOKDAY2  USENOW3  ECIGNOW1  ALCDAY5  AVEDRNK3  DRNK3GE5  \\\n",
       "0       1.0       3.0      3.0       3.0    888.0       NaN       NaN   \n",
       "1       2.0       NaN      3.0       3.0    888.0       NaN       NaN   \n",
       "2       2.0       NaN      3.0       3.0    888.0       NaN       NaN   \n",
       "3       2.0       NaN      3.0       3.0    101.0       3.0       1.0   \n",
       "4       2.0       NaN      2.0       3.0    888.0       NaN       NaN   \n",
       "\n",
       "   MAXDRNKS  FLUSHOT7  FLSHTMY3  IMFVPLA2  PNEUVAC4  HIVTST7  HIVTSTD3  \\\n",
       "0       NaN       1.0   92020.0       1.0       1.0      2.0       NaN   \n",
       "1       NaN       2.0       NaN       NaN       2.0      2.0       NaN   \n",
       "2       NaN       2.0       NaN       NaN       2.0      2.0       NaN   \n",
       "3       6.0       1.0  102020.0       1.0       2.0      2.0       NaN   \n",
       "4       NaN       1.0   92020.0       1.0       1.0      1.0  777777.0   \n",
       "\n",
       "   FRUIT2  FRUITJU2  FVGREEN1  FRENCHF1  POTATOE1  VEGETAB2  PDIABTST  \\\n",
       "0   101.0     555.0     204.0     203.0     201.0     101.0       2.0   \n",
       "1   101.0     555.0     201.0     555.0     201.0     207.0       NaN   \n",
       "2   101.0     555.0     555.0     201.0     201.0     203.0       NaN   \n",
       "3   203.0     205.0     303.0     204.0     308.0     205.0       NaN   \n",
       "4   101.0     555.0     101.0     202.0     202.0     101.0       NaN   \n",
       "\n",
       "   PREDIAB1  INSULIN1  BLDSUGAR  FEETCHK3  DOCTDIAB  CHKHEMO3  FEETCHK  \\\n",
       "0       3.0       NaN       NaN       NaN       NaN       NaN      NaN   \n",
       "1       NaN       NaN       NaN       NaN       NaN       NaN      NaN   \n",
       "2       NaN       NaN       NaN       NaN       NaN       NaN      NaN   \n",
       "3       NaN       NaN       NaN       NaN       NaN       NaN      NaN   \n",
       "4       NaN       NaN       NaN       NaN       NaN       NaN      NaN   \n",
       "\n",
       "   EYEEXAM1  DIABEYE  DIABEDU  TOLDCFS  HAVECFS  WORKCFS  TOLDHEPC  TRETHEPC  \\\n",
       "0       NaN      NaN      NaN      NaN      NaN      NaN       NaN       NaN   \n",
       "1       NaN      NaN      NaN      NaN      NaN      NaN       NaN       NaN   \n",
       "2       NaN      NaN      NaN      NaN      NaN      NaN       NaN       NaN   \n",
       "3       NaN      NaN      NaN      NaN      NaN      NaN       NaN       NaN   \n",
       "4       NaN      NaN      NaN      NaN      NaN      NaN       NaN       NaN   \n",
       "\n",
       "   PRIRHEPC  HAVEHEPC  HAVEHEPB  MEDSHEPB  HPVADVC4  HPVADSHT  TETANUS1  \\\n",
       "0       NaN       NaN       NaN       NaN       NaN       NaN       NaN   \n",
       "1       NaN       NaN       NaN       NaN       NaN       NaN       NaN   \n",
       "2       NaN       NaN       NaN       NaN       NaN       NaN       NaN   \n",
       "3       NaN       NaN       NaN       NaN       NaN       NaN       NaN   \n",
       "4       NaN       NaN       NaN       NaN       NaN       NaN       NaN   \n",
       "\n",
       "   SHINGLE2  LCSFIRST  LCSLAST  LCSNUMCG  LCSCTSCN  HADMAM  HOWLONG  CERVSCRN  \\\n",
       "0       NaN       NaN      NaN       NaN       NaN     NaN      NaN       NaN   \n",
       "1       NaN       NaN      NaN       NaN       NaN     NaN      NaN       NaN   \n",
       "2       NaN       NaN      NaN       NaN       NaN     NaN      NaN       NaN   \n",
       "3       NaN       NaN      NaN       NaN       NaN     NaN      NaN       NaN   \n",
       "4       NaN       NaN      NaN       NaN       NaN     NaN      NaN       NaN   \n",
       "\n",
       "   CRVCLCNC  CRVCLPAP  CRVCLHPV  HADHYST2  PSATEST1  PSATIME1  PCPSARS2  \\\n",
       "0       NaN       NaN       NaN       NaN       NaN       NaN       NaN   \n",
       "1       NaN       NaN       NaN       NaN       NaN       NaN       NaN   \n",
       "2       NaN       NaN       NaN       NaN       NaN       NaN       NaN   \n",
       "3       NaN       NaN       NaN       NaN       NaN       NaN       NaN   \n",
       "4       NaN       NaN       NaN       NaN       NaN       NaN       NaN   \n",
       "\n",
       "   PCSTALK  HADSIGM4  COLNSIGM  COLNTES1  SIGMTES1  LASTSIG4  COLNCNCR  \\\n",
       "0      NaN       NaN       NaN       NaN       NaN       NaN       NaN   \n",
       "1      NaN       NaN       NaN       NaN       NaN       NaN       NaN   \n",
       "2      NaN       NaN       NaN       NaN       NaN       NaN       NaN   \n",
       "3      NaN       NaN       NaN       NaN       NaN       NaN       NaN   \n",
       "4      NaN       NaN       NaN       NaN       NaN       NaN       NaN   \n",
       "\n",
       "   VIRCOLO1  VCLNTES1  SMALSTOL  STOLTEST  STOOLDN1  BLDSTFIT  SDNATES1  \\\n",
       "0       NaN       NaN       NaN       NaN       NaN       NaN       NaN   \n",
       "1       NaN       NaN       NaN       NaN       NaN       NaN       NaN   \n",
       "2       NaN       NaN       NaN       NaN       NaN       NaN       NaN   \n",
       "3       NaN       NaN       NaN       NaN       NaN       NaN       NaN   \n",
       "4       NaN       NaN       NaN       NaN       NaN       NaN       NaN   \n",
       "\n",
       "   CNCRDIFF  CNCRAGE  CNCRTYP1  CSRVTRT3  CSRVDOC1  CSRVSUM  CSRVRTRN  \\\n",
       "0       NaN      NaN       NaN       NaN       NaN      NaN       NaN   \n",
       "1       NaN      NaN       NaN       NaN       NaN      NaN       NaN   \n",
       "2       NaN      NaN       NaN       NaN       NaN      NaN       NaN   \n",
       "3       NaN      NaN       NaN       NaN       NaN      NaN       NaN   \n",
       "4       NaN      NaN       NaN       NaN       NaN      NaN       NaN   \n",
       "\n",
       "   CSRVINST  CSRVINSR  CSRVDEIN  CSRVCLIN  CSRVPAIN  CSRVCTL2  HOMBPCHK  \\\n",
       "0       NaN       NaN       NaN       NaN       NaN       NaN       NaN   \n",
       "1       NaN       NaN       NaN       NaN       NaN       NaN       NaN   \n",
       "2       NaN       NaN       NaN       NaN       NaN       NaN       NaN   \n",
       "3       NaN       NaN       NaN       NaN       NaN       NaN       NaN   \n",
       "4       NaN       NaN       NaN       NaN       NaN       NaN       NaN   \n",
       "\n",
       "   HOMRGCHK  WHEREBP  SHAREBP  WTCHSALT  DRADVISE  CIMEMLOS  CDHOUSE  \\\n",
       "0       NaN      NaN      NaN       NaN       NaN       NaN      NaN   \n",
       "1       NaN      NaN      NaN       NaN       NaN       NaN      NaN   \n",
       "2       NaN      NaN      NaN       NaN       NaN       NaN      NaN   \n",
       "3       NaN      NaN      NaN       NaN       NaN       NaN      NaN   \n",
       "4       NaN      NaN      NaN       NaN       NaN       NaN      NaN   \n",
       "\n",
       "   CDASSIST  CDHELP  CDSOCIAL  CDDISCUS  CAREGIV1  CRGVREL4  CRGVLNG1  \\\n",
       "0       NaN     NaN       NaN       NaN       2.0       NaN       NaN   \n",
       "1       NaN     NaN       NaN       NaN       2.0       NaN       NaN   \n",
       "2       NaN     NaN       NaN       NaN       2.0       NaN       NaN   \n",
       "3       NaN     NaN       NaN       NaN       2.0       NaN       NaN   \n",
       "4       NaN     NaN       NaN       NaN       2.0       NaN       NaN   \n",
       "\n",
       "   CRGVHRS1  CRGVPRB3  CRGVALZD  CRGVPER1  CRGVHOU1  CRGVEXPT  ACEDEPRS  \\\n",
       "0       NaN       NaN       NaN       NaN       NaN       2.0       2.0   \n",
       "1       NaN       NaN       NaN       NaN       NaN       2.0       2.0   \n",
       "2       NaN       NaN       NaN       NaN       NaN       2.0       2.0   \n",
       "3       NaN       NaN       NaN       NaN       NaN       7.0       1.0   \n",
       "4       NaN       NaN       NaN       NaN       NaN       2.0       2.0   \n",
       "\n",
       "   ACEDRINK  ACEDRUGS  ACEPRISN  ACEDIVRC  ACEPUNCH  ACEHURT1  ACESWEAR  \\\n",
       "0       2.0       2.0       2.0       1.0       1.0       1.0       1.0   \n",
       "1       2.0       2.0       2.0       2.0       1.0       1.0       1.0   \n",
       "2       2.0       2.0       2.0       2.0       1.0       1.0       1.0   \n",
       "3       2.0       2.0       2.0       2.0       1.0       3.0       1.0   \n",
       "4       2.0       2.0       2.0       2.0       1.0       1.0       1.0   \n",
       "\n",
       "   ACETOUCH  ACETTHEM  ACEHVSEX  ACEADSAF  ACEADNED  MARIJAN1  USEMRJN3  \\\n",
       "0       1.0       1.0       1.0       5.0       3.0       NaN       NaN   \n",
       "1       1.0       1.0       1.0       5.0       5.0       NaN       NaN   \n",
       "2       1.0       1.0       1.0       5.0       5.0       NaN       NaN   \n",
       "3       1.0       1.0       1.0       5.0       5.0       NaN       NaN   \n",
       "4       1.0       1.0       1.0       5.0       5.0       NaN       NaN   \n",
       "\n",
       "   RSNMRJN2  LASTSMK2  STOPSMK2  FIREARM5  GUNLOAD  LOADULK2  RCSGENDR  \\\n",
       "0       NaN       NaN       NaN       NaN      NaN       NaN       NaN   \n",
       "1       NaN       NaN       NaN       NaN      NaN       NaN       NaN   \n",
       "2       NaN       NaN       NaN       NaN      NaN       NaN       NaN   \n",
       "3       NaN       NaN       NaN       NaN      NaN       NaN       NaN   \n",
       "4       NaN       NaN       NaN       NaN      NaN       NaN       NaN   \n",
       "\n",
       "   RCSRLTN2  CASTHDX2  CASTHNO2  BIRTHSEX  SOMALE  SOFEMALE  TRNSGNDR  QSTVER  \\\n",
       "0       NaN       NaN       NaN       NaN     NaN       NaN       NaN    10.0   \n",
       "1       NaN       NaN       NaN       NaN     NaN       NaN       NaN    10.0   \n",
       "2       NaN       NaN       NaN       NaN     NaN       NaN       NaN    10.0   \n",
       "3       NaN       NaN       NaN       NaN     NaN       NaN       NaN    10.0   \n",
       "4       NaN       NaN       NaN       NaN     NaN       NaN       NaN    10.0   \n",
       "\n",
       "   QSTLANG  _METSTAT  _URBSTAT  MSCODE   _STSTR     _STRWT  _RAWRAKE  \\\n",
       "0      1.0       1.0       1.0     1.0  11011.0  39.766158       2.0   \n",
       "1      1.0       1.0       1.0     2.0  11011.0  39.766158       2.0   \n",
       "2      1.0       1.0       1.0     1.0  11011.0  39.766158       2.0   \n",
       "3      1.0       1.0       1.0     3.0  11011.0  39.766158       2.0   \n",
       "4      1.0       2.0       1.0     2.0  11011.0  39.766158       2.0   \n",
       "\n",
       "    _WT2RAKE  _IMPRACE  _CHISPNC  _CRACE1  _CPRACE1  CAGEG  _CLLCPWT  \\\n",
       "0  79.532315       1.0       9.0      NaN       NaN    NaN       NaN   \n",
       "1  79.532315       2.0       9.0      NaN       NaN    NaN       NaN   \n",
       "2  79.532315       2.0       9.0      NaN       NaN    NaN       NaN   \n",
       "3  79.532315       1.0       9.0      NaN       NaN    NaN       NaN   \n",
       "4  79.532315       6.0       9.0      NaN       NaN    NaN       NaN   \n",
       "\n",
       "   _DUALUSE  _DUALCOR     _LLCPWT2      _LLCPWT  _RFHLTH  _PHYS14D  _MENT14D  \\\n",
       "0       1.0  0.519019   874.242902   744.745531      2.0       3.0       2.0   \n",
       "1       1.0  0.519019   874.242902   299.137394      1.0       1.0       1.0   \n",
       "2       1.0  0.519019   874.242902   587.862986      1.0       1.0       1.0   \n",
       "3       1.0  0.519019   874.242902  1099.621573      1.0       1.0       2.0   \n",
       "4       9.0       NaN  2144.768999  1711.825866      2.0       3.0       1.0   \n",
       "\n",
       "   _HLTHPLN  _HCVU652  _TOTINDA  _RFHYPE6  _CHOLCH3  _RFCHOL3  _MICHD  \\\n",
       "0       1.0       9.0       2.0       1.0       1.0       2.0     2.0   \n",
       "1       1.0       9.0       1.0       2.0       1.0       2.0     1.0   \n",
       "2       1.0       9.0       2.0       2.0       1.0       1.0     1.0   \n",
       "3       1.0       1.0       1.0       2.0       1.0       2.0     2.0   \n",
       "4       1.0       9.0       1.0       1.0       1.0       2.0     1.0   \n",
       "\n",
       "   _LTASTH1  _CASTHM1  _ASTHMS1  _DRDXAR3  _LMTACT3  _LMTWRK3  _PRACE1  \\\n",
       "0       2.0       2.0       1.0       1.0       2.0       1.0      1.0   \n",
       "1       1.0       1.0       3.0       1.0       1.0       1.0      2.0   \n",
       "2       1.0       1.0       3.0       2.0       3.0       3.0      2.0   \n",
       "3       1.0       1.0       3.0       2.0       3.0       3.0      1.0   \n",
       "4       1.0       1.0       3.0       2.0       3.0       3.0      1.0   \n",
       "\n",
       "   _MRACE1  _HISPANC  _RACE  _RACEG21  _RACEGR3  _RACEPRV  _SEX  _AGEG5YR  \\\n",
       "0      1.0       2.0    1.0       1.0       1.0       1.0   2.0      11.0   \n",
       "1      2.0       2.0    2.0       2.0       2.0       2.0   2.0      10.0   \n",
       "2      2.0       2.0    2.0       2.0       2.0       2.0   2.0      11.0   \n",
       "3      1.0       2.0    1.0       1.0       1.0       1.0   2.0       9.0   \n",
       "4      7.0       2.0    7.0       2.0       4.0       7.0   1.0      12.0   \n",
       "\n",
       "   _AGE65YR  _AGE80  _AGE_G  HTIN4   HTM4   WTKG3   _BMI5  _BMI5CAT  _RFBMI5  \\\n",
       "0       2.0    70.0     6.0   59.0  150.0  3266.0  1454.0       1.0      1.0   \n",
       "1       2.0    67.0     6.0   66.0  168.0     NaN     NaN       NaN      9.0   \n",
       "2       2.0    72.0     6.0   65.0  165.0  7711.0  2829.0       3.0      2.0   \n",
       "3       1.0    62.0     5.0   64.0  163.0  8845.0  3347.0       4.0      2.0   \n",
       "4       2.0    76.0     6.0   71.0  180.0  9344.0  2873.0       3.0      2.0   \n",
       "\n",
       "   _CHLDCNT  _EDUCAG  _INCOMG1  _SMOKER3  _RFSMOK3  _CURECI1  DRNKANY5  \\\n",
       "0       1.0      2.0       3.0       3.0       1.0       1.0       2.0   \n",
       "1       1.0      4.0       9.0       4.0       1.0       1.0       2.0   \n",
       "2       1.0      2.0       2.0       4.0       1.0       1.0       2.0   \n",
       "3       1.0      2.0       5.0       4.0       1.0       1.0       1.0   \n",
       "4       1.0      1.0       2.0       4.0       1.0       1.0       2.0   \n",
       "\n",
       "       DROCDY3_  _RFBING5      _DRNKWK1  _RFDRHV7  _FLSHOT7  _PNEUMO3  \\\n",
       "0  5.397605e-79       1.0  5.397605e-79       1.0       1.0       1.0   \n",
       "1  5.397605e-79       1.0  5.397605e-79       1.0       2.0       2.0   \n",
       "2  5.397605e-79       1.0  5.397605e-79       1.0       2.0       2.0   \n",
       "3  1.400000e+01       2.0  3.000000e+02       1.0       NaN       NaN   \n",
       "4  5.397605e-79       1.0  5.397605e-79       1.0       1.0       1.0   \n",
       "\n",
       "   _AIDTST4      FTJUDA2_  FRUTDA2_      GRENDA1_      FRNCHDA_  POTADA1_  \\\n",
       "0       2.0  5.397605e-79     100.0  5.700000e+01  4.300000e+01      14.0   \n",
       "1       2.0  5.397605e-79     100.0  1.400000e+01  5.397605e-79      14.0   \n",
       "2       2.0  5.397605e-79     100.0  5.397605e-79  1.400000e+01      14.0   \n",
       "3       2.0  7.100000e+01      43.0  1.000000e+01  5.700000e+01      27.0   \n",
       "4       1.0  5.397605e-79     100.0  1.000000e+02  2.900000e+01      29.0   \n",
       "\n",
       "   VEGEDA2_      _MISFRT1      _MISVEG1  _FRTRES1  _VEGRES1  _FRUTSU1  \\\n",
       "0     100.0  5.397605e-79  5.397605e-79       1.0       1.0     100.0   \n",
       "1     100.0  5.397605e-79  5.397605e-79       1.0       1.0     100.0   \n",
       "2      43.0  5.397605e-79  5.397605e-79       1.0       1.0     100.0   \n",
       "3      71.0  5.397605e-79  5.397605e-79       1.0       1.0     114.0   \n",
       "4     100.0  5.397605e-79  5.397605e-79       1.0       1.0     100.0   \n",
       "\n",
       "   _VEGESU1  _FRTLT1A  _VEGLT1A  _FRT16A  _VEG23A      _FRUITE1      _VEGETE1  \n",
       "0     214.0       1.0       1.0      1.0      1.0  5.397605e-79  5.397605e-79  \n",
       "1     128.0       1.0       1.0      1.0      1.0  5.397605e-79  5.397605e-79  \n",
       "2      71.0       1.0       2.0      1.0      1.0  5.397605e-79  5.397605e-79  \n",
       "3     165.0       1.0       1.0      1.0      1.0  5.397605e-79  5.397605e-79  \n",
       "4     258.0       1.0       1.0      1.0      1.0  5.397605e-79  5.397605e-79  "
      ]
     },
     "execution_count": 5,
     "metadata": {},
     "output_type": "execute_result"
    }
   ],
   "source": [
    "data.head()"
   ]
  },
  {
   "cell_type": "code",
   "execution_count": 6,
   "id": "2c057fcf",
   "metadata": {},
   "outputs": [
    {
     "data": {
      "text/plain": [
       "(438693, 303)"
      ]
     },
     "execution_count": 6,
     "metadata": {},
     "output_type": "execute_result"
    }
   ],
   "source": [
    "data.shape"
   ]
  },
  {
   "cell_type": "markdown",
   "id": "b456893f",
   "metadata": {},
   "source": [
    "After reading the description of each column (https://www.cdc.gov/brfss/annual_data/2021/pdf/codebook21_llcp-v2-508.pdf), I'm only going to keep the most intering.   "
   ]
  },
  {
   "cell_type": "code",
   "execution_count": 4,
   "id": "54f6268d",
   "metadata": {},
   "outputs": [],
   "source": [
    "df = data[['SEXVAR', '_AGE80', '_METSTAT', 'GENHLTH', '_IMPRACE', 'INCOME3', '_EDUCAG', 'MEDCOST1', 'CHECKUP1','_RFHYPE6',\n",
    "           'BPMEDS', 'CVDINFR4', 'CVDCRHD4', '_MICHD', 'CVDSTRK3', '_RFCHOL3', 'DIABETE4', 'INSULIN1', '_ASTHMS1',\n",
    "           'ADDEPEV3', '_SMOKER3', 'DROCDY3_', 'FRNCHDA_', '_FRUTSU1', '_VEGESU1', '_TOTINDA', '_LMTACT3']]"
   ]
  },
  {
   "cell_type": "code",
   "execution_count": 7,
   "id": "63bafb6d",
   "metadata": {},
   "outputs": [
    {
     "data": {
      "text/html": [
       "<div>\n",
       "<style scoped>\n",
       "    .dataframe tbody tr th:only-of-type {\n",
       "        vertical-align: middle;\n",
       "    }\n",
       "\n",
       "    .dataframe tbody tr th {\n",
       "        vertical-align: top;\n",
       "    }\n",
       "\n",
       "    .dataframe thead th {\n",
       "        text-align: right;\n",
       "    }\n",
       "</style>\n",
       "<table border=\"1\" class=\"dataframe\">\n",
       "  <thead>\n",
       "    <tr style=\"text-align: right;\">\n",
       "      <th></th>\n",
       "      <th>SEXVAR</th>\n",
       "      <th>_AGE80</th>\n",
       "      <th>_METSTAT</th>\n",
       "      <th>GENHLTH</th>\n",
       "      <th>_IMPRACE</th>\n",
       "      <th>INCOME3</th>\n",
       "      <th>_EDUCAG</th>\n",
       "      <th>MEDCOST1</th>\n",
       "      <th>CHECKUP1</th>\n",
       "      <th>_RFHYPE6</th>\n",
       "      <th>BPMEDS</th>\n",
       "      <th>CVDINFR4</th>\n",
       "      <th>CVDCRHD4</th>\n",
       "      <th>_MICHD</th>\n",
       "      <th>CVDSTRK3</th>\n",
       "      <th>_RFCHOL3</th>\n",
       "      <th>DIABETE4</th>\n",
       "      <th>INSULIN1</th>\n",
       "      <th>_ASTHMS1</th>\n",
       "      <th>ADDEPEV3</th>\n",
       "      <th>_SMOKER3</th>\n",
       "      <th>DROCDY3_</th>\n",
       "      <th>FRNCHDA_</th>\n",
       "      <th>_FRUTSU1</th>\n",
       "      <th>_VEGESU1</th>\n",
       "      <th>_TOTINDA</th>\n",
       "      <th>_LMTACT3</th>\n",
       "    </tr>\n",
       "  </thead>\n",
       "  <tbody>\n",
       "    <tr>\n",
       "      <th>0</th>\n",
       "      <td>2.0</td>\n",
       "      <td>70.0</td>\n",
       "      <td>1.0</td>\n",
       "      <td>5.0</td>\n",
       "      <td>1.0</td>\n",
       "      <td>5.0</td>\n",
       "      <td>2.0</td>\n",
       "      <td>2.0</td>\n",
       "      <td>2.0</td>\n",
       "      <td>1.0</td>\n",
       "      <td>NaN</td>\n",
       "      <td>2.0</td>\n",
       "      <td>2.0</td>\n",
       "      <td>2.0</td>\n",
       "      <td>2.0</td>\n",
       "      <td>2.0</td>\n",
       "      <td>3.0</td>\n",
       "      <td>NaN</td>\n",
       "      <td>1.0</td>\n",
       "      <td>2.0</td>\n",
       "      <td>3.0</td>\n",
       "      <td>5.397605e-79</td>\n",
       "      <td>4.300000e+01</td>\n",
       "      <td>100.0</td>\n",
       "      <td>214.0</td>\n",
       "      <td>2.0</td>\n",
       "      <td>2.0</td>\n",
       "    </tr>\n",
       "    <tr>\n",
       "      <th>1</th>\n",
       "      <td>2.0</td>\n",
       "      <td>67.0</td>\n",
       "      <td>1.0</td>\n",
       "      <td>3.0</td>\n",
       "      <td>2.0</td>\n",
       "      <td>77.0</td>\n",
       "      <td>4.0</td>\n",
       "      <td>2.0</td>\n",
       "      <td>1.0</td>\n",
       "      <td>2.0</td>\n",
       "      <td>1.0</td>\n",
       "      <td>2.0</td>\n",
       "      <td>1.0</td>\n",
       "      <td>1.0</td>\n",
       "      <td>2.0</td>\n",
       "      <td>2.0</td>\n",
       "      <td>1.0</td>\n",
       "      <td>NaN</td>\n",
       "      <td>3.0</td>\n",
       "      <td>2.0</td>\n",
       "      <td>4.0</td>\n",
       "      <td>5.397605e-79</td>\n",
       "      <td>5.397605e-79</td>\n",
       "      <td>100.0</td>\n",
       "      <td>128.0</td>\n",
       "      <td>1.0</td>\n",
       "      <td>1.0</td>\n",
       "    </tr>\n",
       "    <tr>\n",
       "      <th>2</th>\n",
       "      <td>2.0</td>\n",
       "      <td>72.0</td>\n",
       "      <td>1.0</td>\n",
       "      <td>2.0</td>\n",
       "      <td>2.0</td>\n",
       "      <td>3.0</td>\n",
       "      <td>2.0</td>\n",
       "      <td>2.0</td>\n",
       "      <td>1.0</td>\n",
       "      <td>2.0</td>\n",
       "      <td>1.0</td>\n",
       "      <td>2.0</td>\n",
       "      <td>1.0</td>\n",
       "      <td>1.0</td>\n",
       "      <td>2.0</td>\n",
       "      <td>1.0</td>\n",
       "      <td>1.0</td>\n",
       "      <td>NaN</td>\n",
       "      <td>3.0</td>\n",
       "      <td>2.0</td>\n",
       "      <td>4.0</td>\n",
       "      <td>5.397605e-79</td>\n",
       "      <td>1.400000e+01</td>\n",
       "      <td>100.0</td>\n",
       "      <td>71.0</td>\n",
       "      <td>2.0</td>\n",
       "      <td>3.0</td>\n",
       "    </tr>\n",
       "    <tr>\n",
       "      <th>3</th>\n",
       "      <td>2.0</td>\n",
       "      <td>62.0</td>\n",
       "      <td>1.0</td>\n",
       "      <td>2.0</td>\n",
       "      <td>1.0</td>\n",
       "      <td>7.0</td>\n",
       "      <td>2.0</td>\n",
       "      <td>2.0</td>\n",
       "      <td>1.0</td>\n",
       "      <td>2.0</td>\n",
       "      <td>1.0</td>\n",
       "      <td>2.0</td>\n",
       "      <td>2.0</td>\n",
       "      <td>2.0</td>\n",
       "      <td>2.0</td>\n",
       "      <td>2.0</td>\n",
       "      <td>1.0</td>\n",
       "      <td>NaN</td>\n",
       "      <td>3.0</td>\n",
       "      <td>2.0</td>\n",
       "      <td>4.0</td>\n",
       "      <td>1.400000e+01</td>\n",
       "      <td>5.700000e+01</td>\n",
       "      <td>114.0</td>\n",
       "      <td>165.0</td>\n",
       "      <td>1.0</td>\n",
       "      <td>3.0</td>\n",
       "    </tr>\n",
       "    <tr>\n",
       "      <th>4</th>\n",
       "      <td>1.0</td>\n",
       "      <td>76.0</td>\n",
       "      <td>2.0</td>\n",
       "      <td>5.0</td>\n",
       "      <td>6.0</td>\n",
       "      <td>4.0</td>\n",
       "      <td>1.0</td>\n",
       "      <td>2.0</td>\n",
       "      <td>1.0</td>\n",
       "      <td>1.0</td>\n",
       "      <td>NaN</td>\n",
       "      <td>1.0</td>\n",
       "      <td>7.0</td>\n",
       "      <td>1.0</td>\n",
       "      <td>1.0</td>\n",
       "      <td>2.0</td>\n",
       "      <td>1.0</td>\n",
       "      <td>NaN</td>\n",
       "      <td>3.0</td>\n",
       "      <td>2.0</td>\n",
       "      <td>4.0</td>\n",
       "      <td>5.397605e-79</td>\n",
       "      <td>2.900000e+01</td>\n",
       "      <td>100.0</td>\n",
       "      <td>258.0</td>\n",
       "      <td>1.0</td>\n",
       "      <td>3.0</td>\n",
       "    </tr>\n",
       "  </tbody>\n",
       "</table>\n",
       "</div>"
      ],
      "text/plain": [
       "   SEXVAR  _AGE80  _METSTAT  GENHLTH  _IMPRACE  INCOME3  _EDUCAG  MEDCOST1  \\\n",
       "0     2.0    70.0       1.0      5.0       1.0      5.0      2.0       2.0   \n",
       "1     2.0    67.0       1.0      3.0       2.0     77.0      4.0       2.0   \n",
       "2     2.0    72.0       1.0      2.0       2.0      3.0      2.0       2.0   \n",
       "3     2.0    62.0       1.0      2.0       1.0      7.0      2.0       2.0   \n",
       "4     1.0    76.0       2.0      5.0       6.0      4.0      1.0       2.0   \n",
       "\n",
       "   CHECKUP1  _RFHYPE6  BPMEDS  CVDINFR4  CVDCRHD4  _MICHD  CVDSTRK3  _RFCHOL3  \\\n",
       "0       2.0       1.0     NaN       2.0       2.0     2.0       2.0       2.0   \n",
       "1       1.0       2.0     1.0       2.0       1.0     1.0       2.0       2.0   \n",
       "2       1.0       2.0     1.0       2.0       1.0     1.0       2.0       1.0   \n",
       "3       1.0       2.0     1.0       2.0       2.0     2.0       2.0       2.0   \n",
       "4       1.0       1.0     NaN       1.0       7.0     1.0       1.0       2.0   \n",
       "\n",
       "   DIABETE4  INSULIN1  _ASTHMS1  ADDEPEV3  _SMOKER3      DROCDY3_  \\\n",
       "0       3.0       NaN       1.0       2.0       3.0  5.397605e-79   \n",
       "1       1.0       NaN       3.0       2.0       4.0  5.397605e-79   \n",
       "2       1.0       NaN       3.0       2.0       4.0  5.397605e-79   \n",
       "3       1.0       NaN       3.0       2.0       4.0  1.400000e+01   \n",
       "4       1.0       NaN       3.0       2.0       4.0  5.397605e-79   \n",
       "\n",
       "       FRNCHDA_  _FRUTSU1  _VEGESU1  _TOTINDA  _LMTACT3  \n",
       "0  4.300000e+01     100.0     214.0       2.0       2.0  \n",
       "1  5.397605e-79     100.0     128.0       1.0       1.0  \n",
       "2  1.400000e+01     100.0      71.0       2.0       3.0  \n",
       "3  5.700000e+01     114.0     165.0       1.0       3.0  \n",
       "4  2.900000e+01     100.0     258.0       1.0       3.0  "
      ]
     },
     "execution_count": 7,
     "metadata": {},
     "output_type": "execute_result"
    }
   ],
   "source": [
    "df.head()"
   ]
  },
  {
   "cell_type": "markdown",
   "id": "e0c5885c",
   "metadata": {},
   "source": [
    "### SEXVAR\n",
    "\n",
    "1 Male\\\n",
    "2 Female\n",
    "\n",
    "We need to treat the column as categorical to encode it later and replace 1 by 'M' and 2 by 'F'."
   ]
  },
  {
   "cell_type": "code",
   "execution_count": 8,
   "id": "423951ac",
   "metadata": {},
   "outputs": [
    {
     "data": {
      "text/plain": [
       "2.0    234883\n",
       "1.0    203810\n",
       "Name: SEXVAR, dtype: int64"
      ]
     },
     "execution_count": 8,
     "metadata": {},
     "output_type": "execute_result"
    }
   ],
   "source": [
    "df.SEXVAR.value_counts(dropna=False)"
   ]
  },
  {
   "cell_type": "code",
   "execution_count": 9,
   "id": "f38170c4",
   "metadata": {},
   "outputs": [
    {
     "name": "stderr",
     "output_type": "stream",
     "text": [
      "/Users/damiencombe/anaconda3/lib/python3.11/site-packages/pandas/core/generic.py:5516: SettingWithCopyWarning: \n",
      "A value is trying to be set on a copy of a slice from a DataFrame.\n",
      "Try using .loc[row_indexer,col_indexer] = value instead\n",
      "\n",
      "See the caveats in the documentation: https://pandas.pydata.org/pandas-docs/stable/user_guide/indexing.html#returning-a-view-versus-a-copy\n",
      "  self[name] = value\n"
     ]
    }
   ],
   "source": [
    "df.SEXVAR=np.where(df.SEXVAR.isin([1.0]),'M','F')"
   ]
  },
  {
   "cell_type": "code",
   "execution_count": 10,
   "id": "cb98a4f6",
   "metadata": {},
   "outputs": [
    {
     "data": {
      "text/plain": [
       "F    234883\n",
       "M    203810\n",
       "Name: SEXVAR, dtype: int64"
      ]
     },
     "execution_count": 10,
     "metadata": {},
     "output_type": "execute_result"
    }
   ],
   "source": [
    "df.SEXVAR.value_counts(dropna=False)"
   ]
  },
  {
   "cell_type": "code",
   "execution_count": 11,
   "id": "db4dae57",
   "metadata": {},
   "outputs": [
    {
     "data": {
      "text/plain": [
       "dtype('O')"
      ]
     },
     "execution_count": 11,
     "metadata": {},
     "output_type": "execute_result"
    }
   ],
   "source": [
    "df.SEXVAR.dtype"
   ]
  },
  {
   "cell_type": "code",
   "execution_count": 12,
   "id": "181fa0fe",
   "metadata": {},
   "outputs": [],
   "source": [
    "df = df.rename(columns={'SEXVAR':'sex'})"
   ]
  },
  {
   "cell_type": "markdown",
   "id": "daa928dc",
   "metadata": {},
   "source": [
    "### _METSTAT\n",
    "\n",
    "Metropolitan Status\\\n",
    "\n",
    "1 Metropolitan counties (population ≥ 50.000) \\\n",
    "2 Nonmetropolitan counties (population < 50.000 \\\n",
    "BLANK Not defined or Missing \\\n",
    "(https://metroextension.wsu.edu/defining-metropolitan/#:~:text=The%20RUCC%20is%20a%20classification,adjacency%20to%20a%20metro%20area.)"
   ]
  },
  {
   "cell_type": "code",
   "execution_count": 13,
   "id": "e7e585d4",
   "metadata": {},
   "outputs": [
    {
     "data": {
      "text/plain": [
       "1.0    300372\n",
       "2.0    131267\n",
       "NaN      7054\n",
       "Name: _METSTAT, dtype: int64"
      ]
     },
     "execution_count": 13,
     "metadata": {},
     "output_type": "execute_result"
    }
   ],
   "source": [
    "df._METSTAT.value_counts(dropna=False)"
   ]
  },
  {
   "cell_type": "code",
   "execution_count": 14,
   "id": "11cdf68b",
   "metadata": {},
   "outputs": [],
   "source": [
    "df._METSTAT = df._METSTAT.fillna('Unknown')"
   ]
  },
  {
   "cell_type": "code",
   "execution_count": 15,
   "id": "d01cbae7",
   "metadata": {},
   "outputs": [
    {
     "data": {
      "text/plain": [
       "Index([1.0, 2.0, 'Unknown'], dtype='object')"
      ]
     },
     "execution_count": 15,
     "metadata": {},
     "output_type": "execute_result"
    }
   ],
   "source": [
    "df._METSTAT.value_counts(dropna=False).index"
   ]
  },
  {
   "cell_type": "code",
   "execution_count": 16,
   "id": "f83b3e07",
   "metadata": {},
   "outputs": [],
   "source": [
    "df._METSTAT=np.where(df._METSTAT.isin([1]),'≥ 50.000',df._METSTAT)"
   ]
  },
  {
   "cell_type": "code",
   "execution_count": 17,
   "id": "2a44f55f",
   "metadata": {},
   "outputs": [],
   "source": [
    "df._METSTAT=np.where(df._METSTAT.isin([2]),'< 50.000',df._METSTAT)"
   ]
  },
  {
   "cell_type": "code",
   "execution_count": 18,
   "id": "f3882831",
   "metadata": {},
   "outputs": [
    {
     "data": {
      "text/plain": [
       "≥ 50.000    300372\n",
       "< 50.000    131267\n",
       "Unknown       7054\n",
       "Name: _METSTAT, dtype: int64"
      ]
     },
     "execution_count": 18,
     "metadata": {},
     "output_type": "execute_result"
    }
   ],
   "source": [
    "df._METSTAT.value_counts(dropna=False)"
   ]
  },
  {
   "cell_type": "code",
   "execution_count": 19,
   "id": "89f52e9c",
   "metadata": {},
   "outputs": [],
   "source": [
    "df = df.rename(columns={'_METSTAT':'population'})"
   ]
  },
  {
   "cell_type": "markdown",
   "id": "9c52aa56",
   "metadata": {},
   "source": [
    "### GENHLTH\n",
    "\n",
    "Would you say that in general your health is:\\\n",
    "1 Excellent \\\n",
    "2 Very good\\\n",
    "3 Good \\\n",
    "4 Fair \\\n",
    "5 Poor \\\n",
    "7 Don’t know/Not Sure \\\n",
    "9 Refused \\\n",
    "BLANK Not asked or Missing\n",
    "\n"
   ]
  },
  {
   "cell_type": "code",
   "execution_count": 20,
   "id": "c2d317ff",
   "metadata": {},
   "outputs": [
    {
     "data": {
      "text/plain": [
       "2.0    149112\n",
       "3.0    137938\n",
       "1.0     77741\n",
       "4.0     54736\n",
       "5.0     18005\n",
       "7.0       788\n",
       "9.0       369\n",
       "NaN         4\n",
       "Name: GENHLTH, dtype: int64"
      ]
     },
     "execution_count": 20,
     "metadata": {},
     "output_type": "execute_result"
    }
   ],
   "source": [
    "df.GENHLTH.value_counts(dropna=False)"
   ]
  },
  {
   "cell_type": "markdown",
   "id": "027cc77b",
   "metadata": {},
   "source": [
    "We ordinal encode it but for this we need to reverse the direction of the numbers so that 0 will be 'Don’t know/Not Sure, Refused, Not asked or Missing' and 5 'Excellent'."
   ]
  },
  {
   "cell_type": "code",
   "execution_count": 21,
   "id": "a9cab4fe",
   "metadata": {},
   "outputs": [],
   "source": [
    "df.GENHLTH = df.GENHLTH.fillna(0)"
   ]
  },
  {
   "cell_type": "code",
   "execution_count": 22,
   "id": "3018f535",
   "metadata": {},
   "outputs": [
    {
     "data": {
      "text/plain": [
       "0"
      ]
     },
     "execution_count": 22,
     "metadata": {},
     "output_type": "execute_result"
    }
   ],
   "source": [
    "df.GENHLTH.isna().sum()"
   ]
  },
  {
   "cell_type": "code",
   "execution_count": 23,
   "id": "59766f7c",
   "metadata": {},
   "outputs": [],
   "source": [
    "df.GENHLTH=np.where(df.GENHLTH.isin([7,9]),0,df.GENHLTH)"
   ]
  },
  {
   "cell_type": "code",
   "execution_count": 24,
   "id": "e3da1c1e",
   "metadata": {},
   "outputs": [
    {
     "data": {
      "text/plain": [
       "2.0    149112\n",
       "3.0    137938\n",
       "1.0     77741\n",
       "4.0     54736\n",
       "5.0     18005\n",
       "0.0      1161\n",
       "Name: GENHLTH, dtype: int64"
      ]
     },
     "execution_count": 24,
     "metadata": {},
     "output_type": "execute_result"
    }
   ],
   "source": [
    "df.GENHLTH.value_counts(dropna=False)"
   ]
  },
  {
   "cell_type": "markdown",
   "id": "67565a99",
   "metadata": {},
   "source": [
    "For 1, 2, 4 and 5, we need first to rename it otherwise if we replace 1 by 5 then everything will be 5 and we will not be able to replace 5 for 'poor' by 1. 3 remains 'good'."
   ]
  },
  {
   "cell_type": "code",
   "execution_count": 25,
   "id": "4e38690d",
   "metadata": {},
   "outputs": [],
   "source": [
    "df.GENHLTH=np.where(df.GENHLTH.isin([1]),'E',df.GENHLTH)"
   ]
  },
  {
   "cell_type": "code",
   "execution_count": 26,
   "id": "2b26bdda",
   "metadata": {},
   "outputs": [],
   "source": [
    "df.GENHLTH=np.where(df.GENHLTH.isin(['2.0']),'VG',df.GENHLTH)"
   ]
  },
  {
   "cell_type": "code",
   "execution_count": 27,
   "id": "6e4e1eb6",
   "metadata": {},
   "outputs": [],
   "source": [
    "df.GENHLTH=np.where(df.GENHLTH.isin(['4.0']),'F',df.GENHLTH)"
   ]
  },
  {
   "cell_type": "code",
   "execution_count": 28,
   "id": "e14249bd",
   "metadata": {},
   "outputs": [],
   "source": [
    "df.GENHLTH=np.where(df.GENHLTH.isin(['5.0']),'P',df.GENHLTH)"
   ]
  },
  {
   "cell_type": "code",
   "execution_count": 29,
   "id": "55b09452",
   "metadata": {},
   "outputs": [
    {
     "data": {
      "text/plain": [
       "VG     149112\n",
       "3.0    137938\n",
       "E       77741\n",
       "F       54736\n",
       "P       18005\n",
       "0.0      1161\n",
       "Name: GENHLTH, dtype: int64"
      ]
     },
     "execution_count": 29,
     "metadata": {},
     "output_type": "execute_result"
    }
   ],
   "source": [
    "df.GENHLTH.value_counts(dropna=False)"
   ]
  },
  {
   "cell_type": "code",
   "execution_count": 30,
   "id": "bc1e5d8a",
   "metadata": {},
   "outputs": [],
   "source": [
    "df.GENHLTH=np.where(df.GENHLTH.isin(['E']),5,df.GENHLTH)"
   ]
  },
  {
   "cell_type": "code",
   "execution_count": 31,
   "id": "18649a06",
   "metadata": {},
   "outputs": [],
   "source": [
    "df.GENHLTH=np.where(df.GENHLTH.isin(['VG']),4,df.GENHLTH)"
   ]
  },
  {
   "cell_type": "code",
   "execution_count": 32,
   "id": "51f8b6ea",
   "metadata": {},
   "outputs": [],
   "source": [
    "df.GENHLTH=np.where(df.GENHLTH.isin(['F']),2,df.GENHLTH)"
   ]
  },
  {
   "cell_type": "code",
   "execution_count": 33,
   "id": "347d5fe9",
   "metadata": {},
   "outputs": [],
   "source": [
    "df.GENHLTH=np.where(df.GENHLTH.isin(['P']),1,df.GENHLTH)"
   ]
  },
  {
   "cell_type": "code",
   "execution_count": 34,
   "id": "01bb4669",
   "metadata": {},
   "outputs": [
    {
     "data": {
      "text/plain": [
       "4      149112\n",
       "3.0    137938\n",
       "5       77741\n",
       "2       54736\n",
       "1       18005\n",
       "0.0      1161\n",
       "Name: GENHLTH, dtype: int64"
      ]
     },
     "execution_count": 34,
     "metadata": {},
     "output_type": "execute_result"
    }
   ],
   "source": [
    "df.GENHLTH.value_counts(dropna=False)"
   ]
  },
  {
   "cell_type": "code",
   "execution_count": 35,
   "id": "d34e5d04",
   "metadata": {},
   "outputs": [
    {
     "data": {
      "text/plain": [
       "Index([4, '3.0', 5, 2, 1, '0.0'], dtype='object')"
      ]
     },
     "execution_count": 35,
     "metadata": {},
     "output_type": "execute_result"
    }
   ],
   "source": [
    "df.GENHLTH.value_counts(dropna=False).index"
   ]
  },
  {
   "cell_type": "code",
   "execution_count": 36,
   "id": "d376e68c",
   "metadata": {},
   "outputs": [],
   "source": [
    "df.GENHLTH = df.GENHLTH.astype(float)"
   ]
  },
  {
   "cell_type": "code",
   "execution_count": 37,
   "id": "72d79749",
   "metadata": {},
   "outputs": [
    {
     "data": {
      "text/plain": [
       "Float64Index([4.0, 3.0, 5.0, 2.0, 1.0, 0.0], dtype='float64')"
      ]
     },
     "execution_count": 37,
     "metadata": {},
     "output_type": "execute_result"
    }
   ],
   "source": [
    "df.GENHLTH.value_counts(dropna=False).index"
   ]
  },
  {
   "cell_type": "code",
   "execution_count": 38,
   "id": "b65a15e6",
   "metadata": {},
   "outputs": [],
   "source": [
    "df = df.rename(columns={'GENHLTH':'general_health'})"
   ]
  },
  {
   "cell_type": "markdown",
   "id": "86f16f4f",
   "metadata": {},
   "source": [
    "### _INCOMG1\n",
    "Income categories\\\n",
    "1 Less than 15,000\\\n",
    "2 15,000 to < 25,000\\\n",
    "3 25,000 to < 35,000\\\n",
    "4 35,000 to < 50,000\\\n",
    "5 50,000 to < 100,000\\\n",
    "6 100,000 to < 200,000\\\n",
    "7 200,000 or more\\\n",
    "9 Don’t know/Not sure/Missing "
   ]
  },
  {
   "cell_type": "code",
   "execution_count": 39,
   "id": "47dcb402",
   "metadata": {},
   "outputs": [],
   "source": [
    "# df._INCOMG1.value_counts(dropna=False)"
   ]
  },
  {
   "cell_type": "code",
   "execution_count": 40,
   "id": "efc99824",
   "metadata": {},
   "outputs": [],
   "source": [
    "# df._INCOMG1.value_counts(dropna=False).index"
   ]
  },
  {
   "cell_type": "code",
   "execution_count": 41,
   "id": "77452517",
   "metadata": {},
   "outputs": [],
   "source": [
    "# df._INCOMG1=np.where(df._INCOMG1.isin([1]),'< 15,000',df._INCOMG1)"
   ]
  },
  {
   "cell_type": "code",
   "execution_count": 42,
   "id": "38ff9356",
   "metadata": {},
   "outputs": [],
   "source": [
    "# df._INCOMG1=np.where(df._INCOMG1.isin(['2.0']),'15,000 to < 25,000',df._INCOMG1)"
   ]
  },
  {
   "cell_type": "code",
   "execution_count": 43,
   "id": "eee3ea07",
   "metadata": {},
   "outputs": [],
   "source": [
    "# df._INCOMG1=np.where(df._INCOMG1.isin(['3.0']),'25,000 to < 35,000',df._INCOMG1)"
   ]
  },
  {
   "cell_type": "code",
   "execution_count": 44,
   "id": "bab66953",
   "metadata": {},
   "outputs": [],
   "source": [
    "# df._INCOMG1=np.where(df._INCOMG1.isin(['4.0']),'35,000 to < 50,000',df._INCOMG1)"
   ]
  },
  {
   "cell_type": "code",
   "execution_count": 45,
   "id": "48a06222",
   "metadata": {},
   "outputs": [],
   "source": [
    "# df._INCOMG1=np.where(df._INCOMG1.isin(['5.0']),'50,000 to < 100,000',df._INCOMG1)"
   ]
  },
  {
   "cell_type": "code",
   "execution_count": 46,
   "id": "f08b05c2",
   "metadata": {},
   "outputs": [],
   "source": [
    "# df._INCOMG1=np.where(df._INCOMG1.isin(['6.0']),'100,000 to < 200,000',df._INCOMG1)"
   ]
  },
  {
   "cell_type": "code",
   "execution_count": 47,
   "id": "880e139f",
   "metadata": {},
   "outputs": [],
   "source": [
    "# df._INCOMG1=np.where(df._INCOMG1.isin(['7.0']),'≥ 200,000',df._INCOMG1)"
   ]
  },
  {
   "cell_type": "code",
   "execution_count": 48,
   "id": "9fe7ed6a",
   "metadata": {},
   "outputs": [],
   "source": [
    "# df._INCOMG1=np.where(df._INCOMG1.isin(['9.0']),'Unknown',df._INCOMG1)"
   ]
  },
  {
   "cell_type": "code",
   "execution_count": 49,
   "id": "32b81c19",
   "metadata": {},
   "outputs": [],
   "source": [
    "# df._INCOMG1.value_counts(dropna=False)"
   ]
  },
  {
   "cell_type": "code",
   "execution_count": 50,
   "id": "2ecac605",
   "metadata": {},
   "outputs": [],
   "source": [
    "# df = df.rename(columns={'_INCOMG1':'income'})"
   ]
  },
  {
   "cell_type": "markdown",
   "id": "d9a99cc2",
   "metadata": {},
   "source": [
    "### INCOME3\n",
    "Annual household income from all sources\\\n",
    "1 Less than 10,000 \\\n",
    "2 Less than 15,000 (10,000 to < 15,000) \\\n",
    "3 Less than 20,000 (15,000 to < 20,000) \\\n",
    "4 Less than 25,000 (20,000 to < 25,000) \\\n",
    "5 Less than 35,000 (25,000 to < 35,000) \\\n",
    "6 Less than 50,000 (35,000 to < 50,000) \\\n",
    "7 Less than 75,000 (50,000 to < 75,000) \\\n",
    "8 Less than 100,000 (75,000 to < 100,000) \\\n",
    "9 Less than 150,000 (100,000 to < 150,000)\\\n",
    "10 Less than 200,000 (150,000 to < 200,000) \\\n",
    "11 200,000 or more \\\n",
    "77 Don’t know/Not sure \\\n",
    "99 Refused \\\n",
    "BLANK Not asked or Missing "
   ]
  },
  {
   "cell_type": "code",
   "execution_count": 51,
   "id": "35695413",
   "metadata": {},
   "outputs": [
    {
     "data": {
      "text/plain": [
       "7.0     59408\n",
       "99.0    49428\n",
       "6.0     48339\n",
       "8.0     47838\n",
       "9.0     47642\n",
       "5.0     43893\n",
       "77.0    36138\n",
       "4.0     21071\n",
       "10.0    19769\n",
       "11.0    18952\n",
       "3.0     14960\n",
       "2.0     11530\n",
       "1.0     10878\n",
       "NaN      8847\n",
       "Name: INCOME3, dtype: int64"
      ]
     },
     "execution_count": 51,
     "metadata": {},
     "output_type": "execute_result"
    }
   ],
   "source": [
    "df.INCOME3.value_counts(dropna=False)"
   ]
  },
  {
   "cell_type": "code",
   "execution_count": 52,
   "id": "a2af7aa2",
   "metadata": {},
   "outputs": [],
   "source": [
    "df.INCOME3=np.where(df.INCOME3.isin([1,2]),'< 15.000',df.INCOME3)"
   ]
  },
  {
   "cell_type": "code",
   "execution_count": 53,
   "id": "c55acb13",
   "metadata": {},
   "outputs": [],
   "source": [
    "df.INCOME3=np.where(df.INCOME3.isin(['3.0', '4.0']),'15,000 to < 25,000',df.INCOME3)"
   ]
  },
  {
   "cell_type": "code",
   "execution_count": 54,
   "id": "a34ec777",
   "metadata": {},
   "outputs": [],
   "source": [
    "df.INCOME3=np.where(df.INCOME3.isin(['5.0']),'25,000 to < 35,000',df.INCOME3)"
   ]
  },
  {
   "cell_type": "code",
   "execution_count": 55,
   "id": "97ea10bb",
   "metadata": {},
   "outputs": [],
   "source": [
    "df.INCOME3=np.where(df.INCOME3.isin(['6.0']),'35,000 to < 50,000',df.INCOME3)"
   ]
  },
  {
   "cell_type": "code",
   "execution_count": 56,
   "id": "5fae2e60",
   "metadata": {},
   "outputs": [],
   "source": [
    "df.INCOME3=np.where(df.INCOME3.isin(['7.0']),'50,000 to < 75,000',df.INCOME3)"
   ]
  },
  {
   "cell_type": "code",
   "execution_count": 57,
   "id": "cc68b8c3",
   "metadata": {},
   "outputs": [],
   "source": [
    "df.INCOME3=np.where(df.INCOME3.isin(['8.0']),'75,000 to < 100,000',df.INCOME3)"
   ]
  },
  {
   "cell_type": "code",
   "execution_count": 58,
   "id": "41251b63",
   "metadata": {},
   "outputs": [],
   "source": [
    "df.INCOME3=np.where(df.INCOME3.isin(['9.0']),'100,000 to < 150,000',df.INCOME3)"
   ]
  },
  {
   "cell_type": "code",
   "execution_count": 59,
   "id": "b1c7b504",
   "metadata": {},
   "outputs": [],
   "source": [
    "df.INCOME3=np.where(df.INCOME3.isin(['10.0', '11.0']),'≥ 150,000',df.INCOME3)"
   ]
  },
  {
   "cell_type": "code",
   "execution_count": 60,
   "id": "05a33c64",
   "metadata": {},
   "outputs": [],
   "source": [
    "df.INCOME3=np.where(df.INCOME3.isin(['77.0', '99.0', 'nan']),'Unknown',df.INCOME3)"
   ]
  },
  {
   "cell_type": "code",
   "execution_count": 61,
   "id": "66c1ed37",
   "metadata": {},
   "outputs": [
    {
     "data": {
      "text/plain": [
       "Unknown                 94413\n",
       "50,000 to < 75,000      59408\n",
       "35,000 to < 50,000      48339\n",
       "75,000 to < 100,000     47838\n",
       "100,000 to < 150,000    47642\n",
       "25,000 to < 35,000      43893\n",
       "≥ 150,000               38721\n",
       "15,000 to < 25,000      36031\n",
       "< 15.000                22408\n",
       "Name: INCOME3, dtype: int64"
      ]
     },
     "execution_count": 61,
     "metadata": {},
     "output_type": "execute_result"
    }
   ],
   "source": [
    "df.INCOME3.value_counts(dropna=False)"
   ]
  },
  {
   "cell_type": "code",
   "execution_count": 62,
   "id": "0af4a0de",
   "metadata": {},
   "outputs": [],
   "source": [
    "df = df.rename(columns={'INCOME3':'income'})"
   ]
  },
  {
   "cell_type": "markdown",
   "id": "93dca8b9",
   "metadata": {},
   "source": [
    "### _EDUCAG\n",
    "Level of education completed\\\n",
    "1 Did not graduate High School\\\n",
    "2 Graduated High School\\\n",
    "3 Attended College or Technical School\\\n",
    "4 Graduated from College or Technical School\\\n",
    "9 Don’t know/Not sure/Missing "
   ]
  },
  {
   "cell_type": "code",
   "execution_count": 63,
   "id": "b72a1a25",
   "metadata": {},
   "outputs": [
    {
     "data": {
      "text/plain": [
       "4.0    178577\n",
       "3.0    120102\n",
       "2.0    111545\n",
       "1.0     25991\n",
       "9.0      2478\n",
       "Name: _EDUCAG, dtype: int64"
      ]
     },
     "execution_count": 63,
     "metadata": {},
     "output_type": "execute_result"
    }
   ],
   "source": [
    "df._EDUCAG.value_counts(dropna=False)"
   ]
  },
  {
   "cell_type": "code",
   "execution_count": 64,
   "id": "74b782f2",
   "metadata": {},
   "outputs": [],
   "source": [
    "df._EDUCAG=np.where(df._EDUCAG.isin([1]),'Did not graduate High School',df._EDUCAG)"
   ]
  },
  {
   "cell_type": "code",
   "execution_count": 65,
   "id": "7971c3d5",
   "metadata": {},
   "outputs": [],
   "source": [
    "df._EDUCAG=np.where(df._EDUCAG.isin(['2.0']),'Graduated High School',df._EDUCAG)"
   ]
  },
  {
   "cell_type": "code",
   "execution_count": 66,
   "id": "e27fdb16",
   "metadata": {},
   "outputs": [],
   "source": [
    "df._EDUCAG=np.where(df._EDUCAG.isin(['3.0']),'Attended College or Technical School',df._EDUCAG)"
   ]
  },
  {
   "cell_type": "code",
   "execution_count": 67,
   "id": "f952bbcf",
   "metadata": {},
   "outputs": [],
   "source": [
    "df._EDUCAG=np.where(df._EDUCAG.isin(['4.0']),'Graduated from College or Technical School',df._EDUCAG)"
   ]
  },
  {
   "cell_type": "code",
   "execution_count": 68,
   "id": "25d0cfc2",
   "metadata": {},
   "outputs": [],
   "source": [
    "df._EDUCAG=np.where(df._EDUCAG.isin(['9.0']),'Unknown',df._EDUCAG)"
   ]
  },
  {
   "cell_type": "code",
   "execution_count": 69,
   "id": "cb7e9fbd",
   "metadata": {},
   "outputs": [],
   "source": [
    "df = df.rename(columns={'_EDUCAG':'education'})"
   ]
  },
  {
   "cell_type": "code",
   "execution_count": 70,
   "id": "ed31bf14",
   "metadata": {},
   "outputs": [
    {
     "data": {
      "text/plain": [
       "Graduated from College or Technical School    178577\n",
       "Attended College or Technical School          120102\n",
       "Graduated High School                         111545\n",
       "Did not graduate High School                   25991\n",
       "Unknown                                         2478\n",
       "Name: education, dtype: int64"
      ]
     },
     "execution_count": 70,
     "metadata": {},
     "output_type": "execute_result"
    }
   ],
   "source": [
    "df.education.value_counts(dropna=False)"
   ]
  },
  {
   "cell_type": "markdown",
   "id": "7e6732ae",
   "metadata": {},
   "source": [
    "### MEDCOST1\n",
    "\n",
    "Was there a time in the past 12 months when you needed to see a doctor but could not because you could not\n",
    "afford it?\n",
    "\n",
    "1 Yes \\\n",
    "2 No \\\n",
    "7 Don’t know/Not sure \\\n",
    "9 Refused \\\n",
    "BLANK Not asked or Missing "
   ]
  },
  {
   "cell_type": "code",
   "execution_count": 71,
   "id": "9bf1735e",
   "metadata": {},
   "outputs": [
    {
     "data": {
      "text/plain": [
       "2.0    404732\n",
       "1.0     32597\n",
       "7.0       962\n",
       "9.0       397\n",
       "NaN         5\n",
       "Name: MEDCOST1, dtype: int64"
      ]
     },
     "execution_count": 71,
     "metadata": {},
     "output_type": "execute_result"
    }
   ],
   "source": [
    "df.MEDCOST1.value_counts(dropna=False)"
   ]
  },
  {
   "cell_type": "markdown",
   "id": "dd84cdd6",
   "metadata": {},
   "source": [
    "We first replace NaN values by 7 and then we'll replace 7 and 9 by 'Unknown'."
   ]
  },
  {
   "cell_type": "code",
   "execution_count": 72,
   "id": "499d1331",
   "metadata": {},
   "outputs": [
    {
     "data": {
      "text/plain": [
       "Float64Index([2.0, 1.0, 7.0, 9.0, nan], dtype='float64')"
      ]
     },
     "execution_count": 72,
     "metadata": {},
     "output_type": "execute_result"
    }
   ],
   "source": [
    "df.MEDCOST1.value_counts(dropna=False).index"
   ]
  },
  {
   "cell_type": "code",
   "execution_count": 73,
   "id": "559904d8",
   "metadata": {},
   "outputs": [],
   "source": [
    "df.MEDCOST1 = df.MEDCOST1.fillna(7)"
   ]
  },
  {
   "cell_type": "code",
   "execution_count": 74,
   "id": "f3d11fa2",
   "metadata": {},
   "outputs": [
    {
     "data": {
      "text/plain": [
       "2.0    404732\n",
       "1.0     32597\n",
       "7.0       967\n",
       "9.0       397\n",
       "Name: MEDCOST1, dtype: int64"
      ]
     },
     "execution_count": 74,
     "metadata": {},
     "output_type": "execute_result"
    }
   ],
   "source": [
    "df.MEDCOST1.value_counts(dropna=False)"
   ]
  },
  {
   "cell_type": "code",
   "execution_count": 75,
   "id": "272c6eed",
   "metadata": {},
   "outputs": [
    {
     "data": {
      "text/plain": [
       "Float64Index([2.0, 1.0, 7.0, 9.0], dtype='float64')"
      ]
     },
     "execution_count": 75,
     "metadata": {},
     "output_type": "execute_result"
    }
   ],
   "source": [
    "df.MEDCOST1.value_counts(dropna=False).index"
   ]
  },
  {
   "cell_type": "code",
   "execution_count": 76,
   "id": "6c11606d",
   "metadata": {},
   "outputs": [],
   "source": [
    "df.MEDCOST1 = np.where(df.MEDCOST1.isin([7,9]),'Unknown',df.MEDCOST1)"
   ]
  },
  {
   "cell_type": "code",
   "execution_count": 77,
   "id": "2bd06c37",
   "metadata": {},
   "outputs": [
    {
     "data": {
      "text/plain": [
       "Index(['2.0', '1.0', 'Unknown'], dtype='object')"
      ]
     },
     "execution_count": 77,
     "metadata": {},
     "output_type": "execute_result"
    }
   ],
   "source": [
    "df.MEDCOST1.value_counts(dropna=False).index"
   ]
  },
  {
   "cell_type": "code",
   "execution_count": 78,
   "id": "a8942710",
   "metadata": {},
   "outputs": [],
   "source": [
    "df.MEDCOST1 = np.where(df.MEDCOST1.isin(['1.0']),'Could not afford to see a doctor',df.MEDCOST1)"
   ]
  },
  {
   "cell_type": "code",
   "execution_count": 79,
   "id": "5356efec",
   "metadata": {},
   "outputs": [],
   "source": [
    "df.MEDCOST1 = np.where(df.MEDCOST1.isin(['2.0']),'No problem to see a doctor',df.MEDCOST1)"
   ]
  },
  {
   "cell_type": "code",
   "execution_count": 80,
   "id": "015bdd9f",
   "metadata": {},
   "outputs": [
    {
     "data": {
      "text/plain": [
       "No problem to see a doctor          404732\n",
       "Could not afford to see a doctor     32597\n",
       "Unknown                               1364\n",
       "Name: MEDCOST1, dtype: int64"
      ]
     },
     "execution_count": 80,
     "metadata": {},
     "output_type": "execute_result"
    }
   ],
   "source": [
    "df.MEDCOST1.value_counts(dropna=False)"
   ]
  },
  {
   "cell_type": "code",
   "execution_count": 81,
   "id": "261459f9",
   "metadata": {},
   "outputs": [],
   "source": [
    "df = df.rename(columns={'MEDCOST1':'doctor_access'})"
   ]
  },
  {
   "cell_type": "markdown",
   "id": "ee8a39b2",
   "metadata": {},
   "source": [
    "### CHECKUP1\n",
    "About how long has it been since you last visited a doctor for a routine checkup? \\\n",
    "1 Within past year (anytime < 12 months ago) \\\n",
    "2 Within past 2 years (1 year but < 2 years ago) \\\n",
    "3 Within past 5 years (2 years but < 5 years ago) \\\n",
    "4 5 or more years ago \\\n",
    "7 Don’t know/Not sure \\\n",
    "8 Never \\\n",
    "9 Refused \\\n",
    "BLANK Not asked or Missing "
   ]
  },
  {
   "cell_type": "code",
   "execution_count": 82,
   "id": "9dce1001",
   "metadata": {},
   "outputs": [
    {
     "data": {
      "text/plain": [
       "1.0    337289\n",
       "2.0     51271\n",
       "3.0     23427\n",
       "4.0     18490\n",
       "7.0      5233\n",
       "8.0      2311\n",
       "9.0       670\n",
       "NaN         2\n",
       "Name: CHECKUP1, dtype: int64"
      ]
     },
     "execution_count": 82,
     "metadata": {},
     "output_type": "execute_result"
    }
   ],
   "source": [
    "df.CHECKUP1.value_counts(dropna=False)"
   ]
  },
  {
   "cell_type": "markdown",
   "id": "4fc6e333",
   "metadata": {},
   "source": [
    "Since there are only 2 NaN values and they can interfer with what come next, we drop the rows."
   ]
  },
  {
   "cell_type": "code",
   "execution_count": 83,
   "id": "a1fdb7a3",
   "metadata": {},
   "outputs": [],
   "source": [
    "df = df.dropna(subset=['CHECKUP1'])"
   ]
  },
  {
   "cell_type": "code",
   "execution_count": 84,
   "id": "71312f16",
   "metadata": {},
   "outputs": [
    {
     "data": {
      "text/plain": [
       "1.0    337289\n",
       "2.0     51271\n",
       "3.0     23427\n",
       "4.0     18490\n",
       "7.0      5233\n",
       "8.0      2311\n",
       "9.0       670\n",
       "Name: CHECKUP1, dtype: int64"
      ]
     },
     "execution_count": 84,
     "metadata": {},
     "output_type": "execute_result"
    }
   ],
   "source": [
    "df.CHECKUP1.value_counts(dropna=False)"
   ]
  },
  {
   "cell_type": "markdown",
   "id": "f184c10a",
   "metadata": {},
   "source": [
    "Then we keep only 2 categories : 'No chek up within the last year' and 'Chek up within the last year'."
   ]
  },
  {
   "cell_type": "code",
   "execution_count": 85,
   "id": "72d34663",
   "metadata": {},
   "outputs": [],
   "source": [
    "df.CHECKUP1 = np.where(df.CHECKUP1.isin([2,3,4,7,8,9]),'No chek up within the last year','Chek up within the last year')"
   ]
  },
  {
   "cell_type": "code",
   "execution_count": 86,
   "id": "813909fa",
   "metadata": {},
   "outputs": [
    {
     "data": {
      "text/plain": [
       "Chek up within the last year       337289\n",
       "No chek up within the last year    101402\n",
       "Name: CHECKUP1, dtype: int64"
      ]
     },
     "execution_count": 86,
     "metadata": {},
     "output_type": "execute_result"
    }
   ],
   "source": [
    "df.CHECKUP1.value_counts(dropna=False)"
   ]
  },
  {
   "cell_type": "code",
   "execution_count": 87,
   "id": "4468bb0b",
   "metadata": {},
   "outputs": [],
   "source": [
    "df = df.rename(columns={'CHECKUP1':'checkup'})"
   ]
  },
  {
   "cell_type": "markdown",
   "id": "785521f0",
   "metadata": {},
   "source": [
    "### _RFHYPE6\n",
    "Adults who have been told they have high blood pressure by a doctor, nurse, or other health professional\\\n",
    "1 No\\\n",
    "2 Yes\\\n",
    "9 Don’t know/Not Sure/Refused/Missing "
   ]
  },
  {
   "cell_type": "code",
   "execution_count": 88,
   "id": "fbd3f333",
   "metadata": {},
   "outputs": [
    {
     "data": {
      "text/plain": [
       "1.0    264648\n",
       "2.0    172133\n",
       "9.0      1910\n",
       "Name: _RFHYPE6, dtype: int64"
      ]
     },
     "execution_count": 88,
     "metadata": {},
     "output_type": "execute_result"
    }
   ],
   "source": [
    "df._RFHYPE6.value_counts(dropna=False)"
   ]
  },
  {
   "cell_type": "code",
   "execution_count": 89,
   "id": "62407806",
   "metadata": {},
   "outputs": [],
   "source": [
    "df._RFHYPE6 = np.where(df._RFHYPE6.isin([1]),'No', df._RFHYPE6)"
   ]
  },
  {
   "cell_type": "code",
   "execution_count": 90,
   "id": "9ad85ee3",
   "metadata": {},
   "outputs": [],
   "source": [
    "df._RFHYPE6 = np.where(df._RFHYPE6.isin(['2.0']),'Yes', df._RFHYPE6)"
   ]
  },
  {
   "cell_type": "code",
   "execution_count": 91,
   "id": "3c03b988",
   "metadata": {},
   "outputs": [],
   "source": [
    "df._RFHYPE6 = np.where(df._RFHYPE6.isin(['9.0']),'Unknown', df._RFHYPE6)"
   ]
  },
  {
   "cell_type": "code",
   "execution_count": 92,
   "id": "17c0742e",
   "metadata": {},
   "outputs": [
    {
     "data": {
      "text/plain": [
       "No         264648\n",
       "Yes        172133\n",
       "Unknown      1910\n",
       "Name: _RFHYPE6, dtype: int64"
      ]
     },
     "execution_count": 92,
     "metadata": {},
     "output_type": "execute_result"
    }
   ],
   "source": [
    "df._RFHYPE6.value_counts(dropna=False)"
   ]
  },
  {
   "cell_type": "code",
   "execution_count": 93,
   "id": "c89788ea",
   "metadata": {},
   "outputs": [],
   "source": [
    "df = df.rename(columns={'_RFHYPE6':'hypertension'})"
   ]
  },
  {
   "cell_type": "markdown",
   "id": "36a5ffee",
   "metadata": {},
   "source": [
    "### BPMEDS\n",
    "Are you currently taking medicine for your high blood pressure?\\\n",
    "1 Yes \\\n",
    "2 No \\\n",
    "7 Don’t know/Not Sure \\\n",
    "9 Refused \\\n",
    "BLANK Not asked "
   ]
  },
  {
   "cell_type": "code",
   "execution_count": 94,
   "id": "102ef2bd",
   "metadata": {},
   "outputs": [
    {
     "data": {
      "text/plain": [
       "NaN    266558\n",
       "1.0    142417\n",
       "2.0     29257\n",
       "7.0       296\n",
       "9.0       163\n",
       "Name: BPMEDS, dtype: int64"
      ]
     },
     "execution_count": 94,
     "metadata": {},
     "output_type": "execute_result"
    }
   ],
   "source": [
    "df.BPMEDS.value_counts(dropna=False)"
   ]
  },
  {
   "cell_type": "markdown",
   "id": "3c527792",
   "metadata": {},
   "source": [
    "From the description, the question has been asked only to people who have high blood pressure so 'blank' can be considered as 'no'. "
   ]
  },
  {
   "cell_type": "code",
   "execution_count": 95,
   "id": "12ee4cf4",
   "metadata": {},
   "outputs": [],
   "source": [
    "df.BPMEDS = df.BPMEDS.fillna(2)"
   ]
  },
  {
   "cell_type": "code",
   "execution_count": 96,
   "id": "d8fe171b",
   "metadata": {},
   "outputs": [],
   "source": [
    "df.BPMEDS = np.where(df.BPMEDS.isin([1]),'Yes', df.BPMEDS)"
   ]
  },
  {
   "cell_type": "code",
   "execution_count": 97,
   "id": "4ed12c8d",
   "metadata": {},
   "outputs": [],
   "source": [
    "df.BPMEDS = np.where(df.BPMEDS.isin(['2.0']),'No', df.BPMEDS)"
   ]
  },
  {
   "cell_type": "code",
   "execution_count": 98,
   "id": "9363361c",
   "metadata": {},
   "outputs": [],
   "source": [
    "df.BPMEDS = np.where(df.BPMEDS.isin(['7.0', '9.0']),'Unknown', df.BPMEDS)"
   ]
  },
  {
   "cell_type": "code",
   "execution_count": 99,
   "id": "638298fa",
   "metadata": {},
   "outputs": [
    {
     "data": {
      "text/plain": [
       "No         295815\n",
       "Yes        142417\n",
       "Unknown       459\n",
       "Name: BPMEDS, dtype: int64"
      ]
     },
     "execution_count": 99,
     "metadata": {},
     "output_type": "execute_result"
    }
   ],
   "source": [
    "df.BPMEDS.value_counts(dropna=False)"
   ]
  },
  {
   "cell_type": "code",
   "execution_count": 100,
   "id": "260d26ba",
   "metadata": {},
   "outputs": [],
   "source": [
    "df = df.rename(columns={'BPMEDS':'anti_hypertensive'})"
   ]
  },
  {
   "cell_type": "markdown",
   "id": "765a935e",
   "metadata": {},
   "source": [
    "### CVDINFR4\n",
    "Have you ever had a heart attack?\\\n",
    "1 Yes\\\n",
    "2 No\\\n",
    "7 Don’t know/Not sure\\\n",
    "9 Refused\\\n",
    "BLANK Not asked or Missing "
   ]
  },
  {
   "cell_type": "code",
   "execution_count": 101,
   "id": "cc8c0ab7",
   "metadata": {},
   "outputs": [
    {
     "data": {
      "text/plain": [
       "2.0    413207\n",
       "1.0     22831\n",
       "7.0      2319\n",
       "9.0       334\n",
       "Name: CVDINFR4, dtype: int64"
      ]
     },
     "execution_count": 101,
     "metadata": {},
     "output_type": "execute_result"
    }
   ],
   "source": [
    "df.CVDINFR4.value_counts(dropna=False)"
   ]
  },
  {
   "cell_type": "code",
   "execution_count": 102,
   "id": "05afe374",
   "metadata": {},
   "outputs": [],
   "source": [
    "df.CVDINFR4 = np.where(df.CVDINFR4.isin([1]),'Yes', df.CVDINFR4)"
   ]
  },
  {
   "cell_type": "code",
   "execution_count": 103,
   "id": "385359d1",
   "metadata": {},
   "outputs": [],
   "source": [
    "df.CVDINFR4 = np.where(df.CVDINFR4.isin(['2.0']),'No', df.CVDINFR4)"
   ]
  },
  {
   "cell_type": "code",
   "execution_count": 104,
   "id": "7901b69b",
   "metadata": {},
   "outputs": [],
   "source": [
    "df.CVDINFR4 = np.where(df.CVDINFR4.isin(['7.0','9.0']),'Unknown', df.CVDINFR4)"
   ]
  },
  {
   "cell_type": "code",
   "execution_count": 105,
   "id": "8840f32a",
   "metadata": {},
   "outputs": [
    {
     "data": {
      "text/plain": [
       "No         413207\n",
       "Yes         22831\n",
       "Unknown      2653\n",
       "Name: CVDINFR4, dtype: int64"
      ]
     },
     "execution_count": 105,
     "metadata": {},
     "output_type": "execute_result"
    }
   ],
   "source": [
    "df.CVDINFR4.value_counts(dropna=False)"
   ]
  },
  {
   "cell_type": "code",
   "execution_count": 106,
   "id": "f4f10a8b",
   "metadata": {},
   "outputs": [],
   "source": [
    "df = df.rename(columns={'CVDINFR4':'heart_attack'})"
   ]
  },
  {
   "cell_type": "markdown",
   "id": "f826c844",
   "metadata": {},
   "source": [
    "### CVDCRHD4\n",
    "Ever told you had angina or coronary heart disease?\\\n",
    "1 Yes \\\n",
    "2 No \\\n",
    "7 Don’t know/Not sure \\\n",
    "9 Refused \\\n",
    "BLANK Not asked or Missing "
   ]
  },
  {
   "cell_type": "code",
   "execution_count": 107,
   "id": "af705ddb",
   "metadata": {},
   "outputs": [
    {
     "data": {
      "text/plain": [
       "2.0    411527\n",
       "1.0     22891\n",
       "7.0      3934\n",
       "9.0       339\n",
       "Name: CVDCRHD4, dtype: int64"
      ]
     },
     "execution_count": 107,
     "metadata": {},
     "output_type": "execute_result"
    }
   ],
   "source": [
    "df.CVDCRHD4.value_counts(dropna=False)"
   ]
  },
  {
   "cell_type": "code",
   "execution_count": 108,
   "id": "9bc0740e",
   "metadata": {},
   "outputs": [],
   "source": [
    "df.CVDCRHD4 = np.where(df.CVDCRHD4.isin([1]),'Yes', df.CVDCRHD4)"
   ]
  },
  {
   "cell_type": "code",
   "execution_count": 109,
   "id": "4b8d41ce",
   "metadata": {},
   "outputs": [],
   "source": [
    "df.CVDCRHD4 = np.where(df.CVDCRHD4.isin(['2.0']),'No', df.CVDCRHD4)"
   ]
  },
  {
   "cell_type": "code",
   "execution_count": 110,
   "id": "6929f369",
   "metadata": {},
   "outputs": [],
   "source": [
    "df.CVDCRHD4 = np.where(df.CVDCRHD4.isin(['7.0', '9.0']),'Unknown', df.CVDCRHD4)"
   ]
  },
  {
   "cell_type": "code",
   "execution_count": 111,
   "id": "20d4dff5",
   "metadata": {},
   "outputs": [
    {
     "data": {
      "text/plain": [
       "No         411527\n",
       "Yes         22891\n",
       "Unknown      4273\n",
       "Name: CVDCRHD4, dtype: int64"
      ]
     },
     "execution_count": 111,
     "metadata": {},
     "output_type": "execute_result"
    }
   ],
   "source": [
    "df.CVDCRHD4.value_counts(dropna=False)"
   ]
  },
  {
   "cell_type": "code",
   "execution_count": 112,
   "id": "1eca94f4",
   "metadata": {},
   "outputs": [],
   "source": [
    "df = df.rename(columns={'CVDCRHD4':'coronary_disease'})"
   ]
  },
  {
   "cell_type": "markdown",
   "id": "7373d1fe",
   "metadata": {},
   "source": [
    "### _MICHD\n",
    "Have you ever reported having coronary heart disease (CHD) or myocardial infarction (MI) ?\\\n",
    "1 Reported having MI or CHD\\\n",
    "2 Did not report having MI or CHD\\\n",
    "BLANK Not asked or Missing "
   ]
  },
  {
   "cell_type": "code",
   "execution_count": 113,
   "id": "d51fcf25",
   "metadata": {},
   "outputs": [
    {
     "data": {
      "text/plain": [
       "2.0    398735\n",
       "1.0     35323\n",
       "NaN      4633\n",
       "Name: _MICHD, dtype: int64"
      ]
     },
     "execution_count": 113,
     "metadata": {},
     "output_type": "execute_result"
    }
   ],
   "source": [
    "df._MICHD.value_counts(dropna=False)"
   ]
  },
  {
   "cell_type": "code",
   "execution_count": 114,
   "id": "f77b53af",
   "metadata": {},
   "outputs": [],
   "source": [
    "df._MICHD = df._MICHD.fillna('Unknown')"
   ]
  },
  {
   "cell_type": "code",
   "execution_count": 115,
   "id": "790d3250",
   "metadata": {},
   "outputs": [],
   "source": [
    "df._MICHD = np.where(df._MICHD.isin([1]),'Yes', df._MICHD)"
   ]
  },
  {
   "cell_type": "code",
   "execution_count": 116,
   "id": "7f7af9bf",
   "metadata": {},
   "outputs": [],
   "source": [
    "df._MICHD = np.where(df._MICHD.isin(['2.0']),'No', df._MICHD)"
   ]
  },
  {
   "cell_type": "code",
   "execution_count": 118,
   "id": "8cc74c5d",
   "metadata": {},
   "outputs": [],
   "source": [
    "df = df.rename(columns={'_MICHD':'heart_disease'})"
   ]
  },
  {
   "cell_type": "code",
   "execution_count": 221,
   "id": "48a72a15",
   "metadata": {},
   "outputs": [
    {
     "data": {
      "text/plain": [
       "No         398734\n",
       "Yes         35323\n",
       "Unknown      4633\n",
       "Name: heart_disease, dtype: int64"
      ]
     },
     "execution_count": 221,
     "metadata": {},
     "output_type": "execute_result"
    }
   ],
   "source": [
    "df.heart_disease.value_counts(dropna=False)"
   ]
  },
  {
   "cell_type": "markdown",
   "id": "4f15594f",
   "metadata": {},
   "source": [
    "### CVDSTRK3\n",
    "Ever had a stroke?\\\n",
    "1 Yes \\\n",
    "2 No \\\n",
    "7 Don’t know/Not sure \\\n",
    "9 Refused \\\n",
    "BLANK Not asked or Missing "
   ]
  },
  {
   "cell_type": "code",
   "execution_count": 119,
   "id": "183e4810",
   "metadata": {},
   "outputs": [
    {
     "data": {
      "text/plain": [
       "2.0    420051\n",
       "1.0     17213\n",
       "7.0      1130\n",
       "9.0       297\n",
       "Name: CVDSTRK3, dtype: int64"
      ]
     },
     "execution_count": 119,
     "metadata": {},
     "output_type": "execute_result"
    }
   ],
   "source": [
    "df.CVDSTRK3.value_counts(dropna=False)"
   ]
  },
  {
   "cell_type": "code",
   "execution_count": 120,
   "id": "ca079f25",
   "metadata": {},
   "outputs": [],
   "source": [
    "df.CVDSTRK3 = np.where(df.CVDSTRK3.isin([1]),'Yes', df.CVDSTRK3)"
   ]
  },
  {
   "cell_type": "code",
   "execution_count": 121,
   "id": "cff1e5cf",
   "metadata": {},
   "outputs": [],
   "source": [
    "df.CVDSTRK3 = np.where(df.CVDSTRK3.isin(['2.0']),'No', df.CVDSTRK3)"
   ]
  },
  {
   "cell_type": "code",
   "execution_count": 122,
   "id": "3ca2d12a",
   "metadata": {},
   "outputs": [],
   "source": [
    "df.CVDSTRK3 = np.where(df.CVDSTRK3.isin(['7.0', '9.0']),'Unknown', df.CVDSTRK3)"
   ]
  },
  {
   "cell_type": "code",
   "execution_count": 123,
   "id": "8ceafff9",
   "metadata": {},
   "outputs": [
    {
     "data": {
      "text/plain": [
       "No         420051\n",
       "Yes         17213\n",
       "Unknown      1427\n",
       "Name: CVDSTRK3, dtype: int64"
      ]
     },
     "execution_count": 123,
     "metadata": {},
     "output_type": "execute_result"
    }
   ],
   "source": [
    "df.CVDSTRK3.value_counts(dropna=False)"
   ]
  },
  {
   "cell_type": "code",
   "execution_count": 124,
   "id": "8ba0dca1",
   "metadata": {},
   "outputs": [],
   "source": [
    "df = df.rename(columns={'CVDSTRK3':'stroke'})"
   ]
  },
  {
   "cell_type": "markdown",
   "id": "24748b4a",
   "metadata": {},
   "source": [
    "### _RFCHOL3\n",
    "Adults who have had their cholesterol checked and have been told by a doctor, nurse, or other health\n",
    "professional that it was high\\\n",
    "1 No\\\n",
    "2 Yes\\\n",
    "9 Don’t know/Not Sure Or Refused/Missing\\\n",
    "BLANK Missing "
   ]
  },
  {
   "cell_type": "code",
   "execution_count": 125,
   "id": "771157db",
   "metadata": {},
   "outputs": [
    {
     "data": {
      "text/plain": [
       "1.0    224706\n",
       "2.0    149698\n",
       "NaN     61149\n",
       "9.0      3138\n",
       "Name: _RFCHOL3, dtype: int64"
      ]
     },
     "execution_count": 125,
     "metadata": {},
     "output_type": "execute_result"
    }
   ],
   "source": [
    "df._RFCHOL3.value_counts(dropna=False)"
   ]
  },
  {
   "cell_type": "code",
   "execution_count": 126,
   "id": "87ee69d7",
   "metadata": {},
   "outputs": [],
   "source": [
    "df._RFCHOL3 = df._RFCHOL3.fillna(9)"
   ]
  },
  {
   "cell_type": "code",
   "execution_count": 127,
   "id": "ed23de1d",
   "metadata": {},
   "outputs": [
    {
     "data": {
      "text/plain": [
       "Float64Index([1.0, 2.0, 9.0], dtype='float64')"
      ]
     },
     "execution_count": 127,
     "metadata": {},
     "output_type": "execute_result"
    }
   ],
   "source": [
    "df._RFCHOL3.value_counts(dropna=False).index"
   ]
  },
  {
   "cell_type": "code",
   "execution_count": 128,
   "id": "62f13bfc",
   "metadata": {},
   "outputs": [],
   "source": [
    "df._RFCHOL3 = np.where(df._RFCHOL3.isin([1]),'No', df._RFCHOL3)"
   ]
  },
  {
   "cell_type": "code",
   "execution_count": 129,
   "id": "d8f78762",
   "metadata": {},
   "outputs": [],
   "source": [
    "df._RFCHOL3 = np.where(df._RFCHOL3.isin(['2.0']),'Yes', df._RFCHOL3)"
   ]
  },
  {
   "cell_type": "code",
   "execution_count": 130,
   "id": "f0d7df21",
   "metadata": {},
   "outputs": [],
   "source": [
    "df._RFCHOL3 = np.where(df._RFCHOL3.isin(['9.0']),'Unknown', df._RFCHOL3)"
   ]
  },
  {
   "cell_type": "code",
   "execution_count": 131,
   "id": "e98d845e",
   "metadata": {},
   "outputs": [
    {
     "data": {
      "text/plain": [
       "No         224706\n",
       "Yes        149698\n",
       "Unknown     64287\n",
       "Name: _RFCHOL3, dtype: int64"
      ]
     },
     "execution_count": 131,
     "metadata": {},
     "output_type": "execute_result"
    }
   ],
   "source": [
    "df._RFCHOL3.value_counts(dropna=False)"
   ]
  },
  {
   "cell_type": "code",
   "execution_count": 132,
   "id": "07d64eb6",
   "metadata": {},
   "outputs": [],
   "source": [
    "df = df.rename(columns={'_RFCHOL3':'cholesterol'})"
   ]
  },
  {
   "cell_type": "markdown",
   "id": "a80709d4",
   "metadata": {},
   "source": [
    "### DIABETE4\n",
    "Ever told you had diabetes? (If ´Yes´ and respondent is female, ask ´Was this only when you were\n",
    "pregnant?´. If Respondent says pre-diabetes or borderline diabetes, use response code 4.)\\\n",
    "1 Yes \\\n",
    "2 Yes, but female told only during pregnancy\\\n",
    "3 No\\\n",
    "4 No, pre-diabetes or borderline diabetes\\\n",
    "7 Don’t know/Not Sure\\\n",
    "9 Refused\\\n",
    "BLANK Not asked or Missing "
   ]
  },
  {
   "cell_type": "code",
   "execution_count": 133,
   "id": "ed2041d1",
   "metadata": {},
   "outputs": [
    {
     "data": {
      "text/plain": [
       "3.0    366342\n",
       "1.0     57616\n",
       "4.0      9942\n",
       "2.0      3808\n",
       "7.0       613\n",
       "9.0       369\n",
       "NaN         1\n",
       "Name: DIABETE4, dtype: int64"
      ]
     },
     "execution_count": 133,
     "metadata": {},
     "output_type": "execute_result"
    }
   ],
   "source": [
    "df.DIABETE4.value_counts(dropna=False)"
   ]
  },
  {
   "cell_type": "markdown",
   "id": "1f493584",
   "metadata": {},
   "source": [
    "We consider 2 and 4 as 'no' and we drop the row with the NaN value."
   ]
  },
  {
   "cell_type": "code",
   "execution_count": 134,
   "id": "b01fe46e",
   "metadata": {},
   "outputs": [],
   "source": [
    "df = df.dropna(subset=['DIABETE4'])"
   ]
  },
  {
   "cell_type": "code",
   "execution_count": 135,
   "id": "9642d933",
   "metadata": {},
   "outputs": [],
   "source": [
    "df.DIABETE4 = np.where(df.DIABETE4.isin([1]),'Yes', df.DIABETE4)"
   ]
  },
  {
   "cell_type": "code",
   "execution_count": 136,
   "id": "1a5c229a",
   "metadata": {},
   "outputs": [],
   "source": [
    "df.DIABETE4 = np.where(df.DIABETE4.isin(['2.0', '3.0', '4.0']),'No', df.DIABETE4)"
   ]
  },
  {
   "cell_type": "code",
   "execution_count": 137,
   "id": "2171f56c",
   "metadata": {},
   "outputs": [],
   "source": [
    "df.DIABETE4 = np.where(df.DIABETE4.isin(['7.0', '9.0']),'Unknown', df.DIABETE4)"
   ]
  },
  {
   "cell_type": "code",
   "execution_count": 138,
   "id": "5d7bbd53",
   "metadata": {},
   "outputs": [
    {
     "data": {
      "text/plain": [
       "No         380092\n",
       "Yes         57616\n",
       "Unknown       982\n",
       "Name: DIABETE4, dtype: int64"
      ]
     },
     "execution_count": 138,
     "metadata": {},
     "output_type": "execute_result"
    }
   ],
   "source": [
    "df.DIABETE4.value_counts(dropna=False)"
   ]
  },
  {
   "cell_type": "code",
   "execution_count": 139,
   "id": "538bde3f",
   "metadata": {},
   "outputs": [],
   "source": [
    "df = df.rename(columns={'DIABETE4':'diabetes'})"
   ]
  },
  {
   "cell_type": "markdown",
   "id": "50f9a2fe",
   "metadata": {},
   "source": [
    "### INSULIN1\n",
    "Are you now taking insulin?\\\n",
    "1 Yes \\\n",
    "2 No \\\n",
    "7 Don’t know/Not Sure \\\n",
    "9 Refused \\\n",
    "BLANK Not asked or Missing "
   ]
  },
  {
   "cell_type": "code",
   "execution_count": 140,
   "id": "10d5ac9e",
   "metadata": {},
   "outputs": [
    {
     "data": {
      "text/plain": [
       "NaN    416452\n",
       "2.0     14815\n",
       "1.0      7355\n",
       "7.0        58\n",
       "9.0        10\n",
       "Name: INSULIN1, dtype: int64"
      ]
     },
     "execution_count": 140,
     "metadata": {},
     "output_type": "execute_result"
    }
   ],
   "source": [
    "df.INSULIN1.value_counts(dropna=False)"
   ]
  },
  {
   "cell_type": "markdown",
   "id": "0b78a57e",
   "metadata": {},
   "source": [
    "Here the question has been asked only to diabetic people.\\\n",
    "We can't replace the NaN values just by 'Non diabetic' because among the people who were not asked, some values were not known regarding the diabetic status, so we gonna replace it by 'Probably not diabetic' and add 7 and 9 as well."
   ]
  },
  {
   "cell_type": "code",
   "execution_count": 141,
   "id": "2812b172",
   "metadata": {},
   "outputs": [],
   "source": [
    "df.INSULIN1 = np.where(df.INSULIN1.isin([7, 9, np.NaN]),'Probably not diabetic', df.INSULIN1)"
   ]
  },
  {
   "cell_type": "code",
   "execution_count": 142,
   "id": "16bd8857",
   "metadata": {},
   "outputs": [
    {
     "data": {
      "text/plain": [
       "Index(['Probably not diabetic', '2.0', '1.0'], dtype='object')"
      ]
     },
     "execution_count": 142,
     "metadata": {},
     "output_type": "execute_result"
    }
   ],
   "source": [
    "df.INSULIN1.value_counts(dropna=False).index"
   ]
  },
  {
   "cell_type": "code",
   "execution_count": 143,
   "id": "a5def13f",
   "metadata": {},
   "outputs": [],
   "source": [
    "df.INSULIN1 = np.where(df.INSULIN1.isin(['1.0']),'Yes', df.INSULIN1)"
   ]
  },
  {
   "cell_type": "code",
   "execution_count": 144,
   "id": "1c341dc1",
   "metadata": {},
   "outputs": [],
   "source": [
    "df.INSULIN1 = np.where(df.INSULIN1.isin(['2.0']),'No', df.INSULIN1)"
   ]
  },
  {
   "cell_type": "code",
   "execution_count": 145,
   "id": "86b5f920",
   "metadata": {},
   "outputs": [
    {
     "data": {
      "text/plain": [
       "Probably not diabetic    416520\n",
       "No                        14815\n",
       "Yes                        7355\n",
       "Name: INSULIN1, dtype: int64"
      ]
     },
     "execution_count": 145,
     "metadata": {},
     "output_type": "execute_result"
    }
   ],
   "source": [
    "df.INSULIN1.value_counts(dropna=False)"
   ]
  },
  {
   "cell_type": "code",
   "execution_count": 146,
   "id": "20ff624d",
   "metadata": {},
   "outputs": [],
   "source": [
    "df = df.rename(columns={'INSULIN1':'insulin'})"
   ]
  },
  {
   "cell_type": "markdown",
   "id": "faecc4f5",
   "metadata": {},
   "source": [
    "### _ASTHMS1\n",
    "Asthma status\\\n",
    "1 Current\\\n",
    "2 Former\\\n",
    "3 Never\\\n",
    "9 Don’t know/Not Sure Or Refused/Missing "
   ]
  },
  {
   "cell_type": "code",
   "execution_count": 147,
   "id": "0294ace3",
   "metadata": {},
   "outputs": [
    {
     "data": {
      "text/plain": [
       "3.0    375444\n",
       "1.0     42660\n",
       "2.0     17030\n",
       "9.0      3556\n",
       "Name: _ASTHMS1, dtype: int64"
      ]
     },
     "execution_count": 147,
     "metadata": {},
     "output_type": "execute_result"
    }
   ],
   "source": [
    "df._ASTHMS1.value_counts(dropna=False)"
   ]
  },
  {
   "cell_type": "code",
   "execution_count": 148,
   "id": "412fd868",
   "metadata": {},
   "outputs": [],
   "source": [
    "df._ASTHMS1 = np.where(df._ASTHMS1.isin([1]),'Current', df._ASTHMS1)"
   ]
  },
  {
   "cell_type": "code",
   "execution_count": 149,
   "id": "88a8aae8",
   "metadata": {},
   "outputs": [],
   "source": [
    "df._ASTHMS1 = np.where(df._ASTHMS1.isin(['2.0']),'Former', df._ASTHMS1)"
   ]
  },
  {
   "cell_type": "code",
   "execution_count": 150,
   "id": "34a219c2",
   "metadata": {},
   "outputs": [],
   "source": [
    "df._ASTHMS1 = np.where(df._ASTHMS1.isin(['3.0']),'Never', df._ASTHMS1)"
   ]
  },
  {
   "cell_type": "code",
   "execution_count": 151,
   "id": "6192b2f2",
   "metadata": {},
   "outputs": [],
   "source": [
    "df._ASTHMS1 = np.where(df._ASTHMS1.isin(['9.0']),'Unknown', df._ASTHMS1)"
   ]
  },
  {
   "cell_type": "code",
   "execution_count": 152,
   "id": "2c578358",
   "metadata": {},
   "outputs": [
    {
     "data": {
      "text/plain": [
       "Never      375444\n",
       "Current     42660\n",
       "Former      17030\n",
       "Unknown      3556\n",
       "Name: _ASTHMS1, dtype: int64"
      ]
     },
     "execution_count": 152,
     "metadata": {},
     "output_type": "execute_result"
    }
   ],
   "source": [
    "df._ASTHMS1.value_counts(dropna=False)"
   ]
  },
  {
   "cell_type": "code",
   "execution_count": 153,
   "id": "2e51d1ef",
   "metadata": {},
   "outputs": [],
   "source": [
    "df = df.rename(columns={'_ASTHMS1':'asthma'})"
   ]
  },
  {
   "cell_type": "markdown",
   "id": "376f0d41",
   "metadata": {},
   "source": [
    "### ADDEPEV3\n",
    "Ever told you had a depressive disorder (including depression, major depression, dysthymia, or minor\n",
    "depression)?\\\n",
    "1 Yes \\\n",
    "2 No \\\n",
    "7 Don’t know/Not sure \\\n",
    "9 Refused \\\n",
    "BLANK Not asked or Missing "
   ]
  },
  {
   "cell_type": "code",
   "execution_count": 154,
   "id": "a6c6f6dc",
   "metadata": {},
   "outputs": [
    {
     "data": {
      "text/plain": [
       "2.0    350778\n",
       "1.0     85398\n",
       "7.0      1814\n",
       "9.0       700\n",
       "Name: ADDEPEV3, dtype: int64"
      ]
     },
     "execution_count": 154,
     "metadata": {},
     "output_type": "execute_result"
    }
   ],
   "source": [
    "df.ADDEPEV3.value_counts(dropna=False)"
   ]
  },
  {
   "cell_type": "code",
   "execution_count": 155,
   "id": "159cc75e",
   "metadata": {},
   "outputs": [],
   "source": [
    "df.ADDEPEV3 = np.where(df.ADDEPEV3.isin([1]),'Yes', df.ADDEPEV3)"
   ]
  },
  {
   "cell_type": "code",
   "execution_count": 156,
   "id": "b7e2c909",
   "metadata": {},
   "outputs": [],
   "source": [
    "df.ADDEPEV3 = np.where(df.ADDEPEV3.isin(['2.0']),'No', df.ADDEPEV3)"
   ]
  },
  {
   "cell_type": "code",
   "execution_count": 157,
   "id": "99c3948e",
   "metadata": {},
   "outputs": [],
   "source": [
    "df.ADDEPEV3 = np.where(df.ADDEPEV3.isin(['7.0', '9.0']),'Unknown', df.ADDEPEV3)"
   ]
  },
  {
   "cell_type": "code",
   "execution_count": 158,
   "id": "1452dc6d",
   "metadata": {},
   "outputs": [
    {
     "data": {
      "text/plain": [
       "No         350778\n",
       "Yes         85398\n",
       "Unknown      2514\n",
       "Name: ADDEPEV3, dtype: int64"
      ]
     },
     "execution_count": 158,
     "metadata": {},
     "output_type": "execute_result"
    }
   ],
   "source": [
    "df.ADDEPEV3.value_counts(dropna=False)"
   ]
  },
  {
   "cell_type": "code",
   "execution_count": 159,
   "id": "cfd225ac",
   "metadata": {},
   "outputs": [],
   "source": [
    "df = df.rename(columns={'ADDEPEV3':'depression'})"
   ]
  },
  {
   "cell_type": "markdown",
   "id": "0a9974ff",
   "metadata": {},
   "source": [
    "### _SMOKER3\n",
    "Smoker status: \\\n",
    "1 Current smoker - now smokes every day\\\n",
    "2 Current smoker - now smokes some days\\\n",
    "3 Former smoker\\\n",
    "4 Never smoked\\\n",
    "9 Don’t know/Refused/Missing "
   ]
  },
  {
   "cell_type": "code",
   "execution_count": 160,
   "id": "b26ea596",
   "metadata": {},
   "outputs": [
    {
     "data": {
      "text/plain": [
       "4.0    246644\n",
       "3.0    113247\n",
       "1.0     38913\n",
       "9.0     24967\n",
       "2.0     14919\n",
       "Name: _SMOKER3, dtype: int64"
      ]
     },
     "execution_count": 160,
     "metadata": {},
     "output_type": "execute_result"
    }
   ],
   "source": [
    "df._SMOKER3.value_counts(dropna=False)"
   ]
  },
  {
   "cell_type": "code",
   "execution_count": 161,
   "id": "4bc71b59",
   "metadata": {},
   "outputs": [],
   "source": [
    "df._SMOKER3 = np.where(df._SMOKER3.isin([1, 2]),'Current smoker', df._SMOKER3)"
   ]
  },
  {
   "cell_type": "code",
   "execution_count": 162,
   "id": "b96b284a",
   "metadata": {},
   "outputs": [],
   "source": [
    "df._SMOKER3 = np.where(df._SMOKER3.isin(['3.0']),'Former smoker', df._SMOKER3)"
   ]
  },
  {
   "cell_type": "code",
   "execution_count": 163,
   "id": "dc7e6ecb",
   "metadata": {},
   "outputs": [],
   "source": [
    "df._SMOKER3 = np.where(df._SMOKER3.isin(['4.0']),'Never smoked', df._SMOKER3)"
   ]
  },
  {
   "cell_type": "code",
   "execution_count": 164,
   "id": "a88de8ca",
   "metadata": {},
   "outputs": [],
   "source": [
    "df._SMOKER3 = np.where(df._SMOKER3.isin(['9.0']),'Unknown', df._SMOKER3)"
   ]
  },
  {
   "cell_type": "code",
   "execution_count": 165,
   "id": "e2567e7f",
   "metadata": {},
   "outputs": [
    {
     "data": {
      "text/plain": [
       "Never smoked      246644\n",
       "Former smoker     113247\n",
       "Current smoker     53832\n",
       "Unknown            24967\n",
       "Name: _SMOKER3, dtype: int64"
      ]
     },
     "execution_count": 165,
     "metadata": {},
     "output_type": "execute_result"
    }
   ],
   "source": [
    "df._SMOKER3.value_counts(dropna=False)"
   ]
  },
  {
   "cell_type": "code",
   "execution_count": 166,
   "id": "529351c7",
   "metadata": {},
   "outputs": [],
   "source": [
    "df = df.rename(columns={'_SMOKER3':'smoker'})"
   ]
  },
  {
   "cell_type": "markdown",
   "id": "e22469e2",
   "metadata": {},
   "source": [
    "### DROCDY3_\n",
    "Drink-occasions-per-day\\\n",
    "0 No Drink-Occasions per day\\\n",
    "1 - 899 Drink-Occasions per day\\\n",
    "900 Don’t know/Not Sure Or Refused/Missing"
   ]
  },
  {
   "cell_type": "code",
   "execution_count": 167,
   "id": "20f5579f",
   "metadata": {},
   "outputs": [
    {
     "data": {
      "text/plain": [
       "5.397605e-79    196872\n",
       "3.000000e+00     32386\n",
       "9.000000e+02     30586\n",
       "7.000000e+00     24986\n",
       "1.000000e+02     22096\n",
       "1.400000e+01     18087\n",
       "1.000000e+01     14358\n",
       "2.900000e+01     13097\n",
       "1.300000e+01     11801\n",
       "1.700000e+01     11780\n",
       "3.300000e+01      9528\n",
       "4.300000e+01      9071\n",
       "5.000000e+01      7441\n",
       "6.700000e+01      7313\n",
       "5.700000e+01      4288\n",
       "2.000000e+01      4218\n",
       "7.100000e+01      3960\n",
       "2.700000e+01      3550\n",
       "8.300000e+01      3119\n",
       "2.300000e+01      3078\n",
       "4.000000e+01      1940\n",
       "8.600000e+01      1316\n",
       "9.300000e+01       920\n",
       "4.700000e+01       594\n",
       "9.700000e+01       365\n",
       "3.000000e+01       280\n",
       "9.000000e+01       244\n",
       "5.300000e+01       243\n",
       "8.000000e+01       240\n",
       "7.000000e+01       233\n",
       "6.000000e+01       229\n",
       "7.300000e+01       177\n",
       "8.700000e+01       157\n",
       "7.700000e+01        72\n",
       "3.700000e+01        49\n",
       "6.300000e+01        16\n",
       "Name: DROCDY3_, dtype: int64"
      ]
     },
     "execution_count": 167,
     "metadata": {},
     "output_type": "execute_result"
    }
   ],
   "source": [
    "df.DROCDY3_.value_counts(dropna=False)"
   ]
  },
  {
   "cell_type": "markdown",
   "id": "4a6ede3c",
   "metadata": {},
   "source": [
    "We gonna divide it in 3 categories : \n",
    "- Don't drink every day\n",
    "- Drink every day\n",
    "- Unknown"
   ]
  },
  {
   "cell_type": "code",
   "execution_count": 168,
   "id": "175fde42",
   "metadata": {},
   "outputs": [],
   "source": [
    "df.DROCDY3_ = np.where(df.DROCDY3_.between(1,899),'Drink every day', df.DROCDY3_)"
   ]
  },
  {
   "cell_type": "code",
   "execution_count": 169,
   "id": "70442fd0",
   "metadata": {},
   "outputs": [
    {
     "data": {
      "text/plain": [
       "Index(['Drink every day', '5.397605346934028e-79', '900.0'], dtype='object')"
      ]
     },
     "execution_count": 169,
     "metadata": {},
     "output_type": "execute_result"
    }
   ],
   "source": [
    "df.DROCDY3_.value_counts(dropna=False).index"
   ]
  },
  {
   "cell_type": "code",
   "execution_count": 170,
   "id": "13018c99",
   "metadata": {},
   "outputs": [],
   "source": [
    "df.DROCDY3_ = np.where(df.DROCDY3_.isin(['5.397605346934028e-79']),\"Don't drink every day\", df.DROCDY3_)"
   ]
  },
  {
   "cell_type": "code",
   "execution_count": 171,
   "id": "450e7186",
   "metadata": {},
   "outputs": [],
   "source": [
    "df.DROCDY3_ = np.where(df.DROCDY3_.isin(['900.0']),\"Unknown\", df.DROCDY3_)"
   ]
  },
  {
   "cell_type": "code",
   "execution_count": 172,
   "id": "d492a095",
   "metadata": {},
   "outputs": [
    {
     "data": {
      "text/plain": [
       "Drink every day          211232\n",
       "Don't drink every day    196872\n",
       "Unknown                   30586\n",
       "Name: DROCDY3_, dtype: int64"
      ]
     },
     "execution_count": 172,
     "metadata": {},
     "output_type": "execute_result"
    }
   ],
   "source": [
    "df.DROCDY3_.value_counts(dropna=False)"
   ]
  },
  {
   "cell_type": "code",
   "execution_count": 173,
   "id": "3599e7ba",
   "metadata": {},
   "outputs": [],
   "source": [
    "df = df.rename(columns={'DROCDY3_':'alcohol'})"
   ]
  },
  {
   "cell_type": "markdown",
   "id": "0a7c42c1",
   "metadata": {},
   "source": [
    "### FRNCHDA_\n",
    "French Fry intake in times per day\\\n",
    "0 - 9999 Times per day (two implied decimal places) \\\n",
    "BLANK Don’t know/Not Sure Or Refused/Missing"
   ]
  },
  {
   "cell_type": "code",
   "execution_count": null,
   "id": "6d7fd9fd",
   "metadata": {
    "scrolled": true
   },
   "outputs": [],
   "source": [
    "pd.set_option('display.max_rows',None)\n",
    "df.FRNCHDA_.value_counts(dropna=False)"
   ]
  },
  {
   "cell_type": "markdown",
   "id": "2bc17f4a",
   "metadata": {},
   "source": [
    "We divide by 100 since there are two implied decimal places."
   ]
  },
  {
   "cell_type": "code",
   "execution_count": 175,
   "id": "7c2572c8",
   "metadata": {},
   "outputs": [],
   "source": [
    "df.FRNCHDA_ = df.FRNCHDA_/100"
   ]
  },
  {
   "cell_type": "code",
   "execution_count": null,
   "id": "f90ef2f9",
   "metadata": {},
   "outputs": [],
   "source": [
    "df.FRNCHDA_.value_counts(dropna=False)"
   ]
  },
  {
   "cell_type": "markdown",
   "id": "c2d69f87",
   "metadata": {},
   "source": [
    "Then we are gonna split it in 3 categories : \n",
    "- people who eat french fries at least 2 times a week\n",
    "- people who eat french french less than 2 times a week \n",
    "- unknown"
   ]
  },
  {
   "cell_type": "code",
   "execution_count": 177,
   "id": "4f749be0",
   "metadata": {},
   "outputs": [],
   "source": [
    "df.FRNCHDA_ = np.where((df.FRNCHDA_ >= 0.33),'≥ 2/week', df.FRNCHDA_)"
   ]
  },
  {
   "cell_type": "code",
   "execution_count": 178,
   "id": "e505ac3f",
   "metadata": {},
   "outputs": [
    {
     "data": {
      "text/plain": [
       "≥ 2/week                 76207\n",
       "0.14                     70047\n",
       "5.397605346934028e-81    57327\n",
       "nan                      44762\n",
       "0.07                     44441\n",
       "0.29                     44334\n",
       "0.03                     37758\n",
       "0.1                      18946\n",
       "0.13                     12417\n",
       "0.17                     12156\n",
       "0.02                     12127\n",
       "0.2                       3608\n",
       "0.23                      2245\n",
       "0.27                      2142\n",
       "0.3                        173\n",
       "Name: FRNCHDA_, dtype: int64"
      ]
     },
     "execution_count": 178,
     "metadata": {},
     "output_type": "execute_result"
    }
   ],
   "source": [
    "df.FRNCHDA_.value_counts()"
   ]
  },
  {
   "cell_type": "code",
   "execution_count": 179,
   "id": "fd60217d",
   "metadata": {},
   "outputs": [],
   "source": [
    "df.FRNCHDA_ = np.where(df.FRNCHDA_.isin(['nan']),\"Unknown\", df.FRNCHDA_)"
   ]
  },
  {
   "cell_type": "code",
   "execution_count": 180,
   "id": "28166c1c",
   "metadata": {},
   "outputs": [
    {
     "data": {
      "text/plain": [
       "≥ 2/week                 76207\n",
       "0.14                     70047\n",
       "5.397605346934028e-81    57327\n",
       "Unknown                  44762\n",
       "0.07                     44441\n",
       "0.29                     44334\n",
       "0.03                     37758\n",
       "0.1                      18946\n",
       "0.13                     12417\n",
       "0.17                     12156\n",
       "0.02                     12127\n",
       "0.2                       3608\n",
       "0.23                      2245\n",
       "0.27                      2142\n",
       "0.3                        173\n",
       "Name: FRNCHDA_, dtype: int64"
      ]
     },
     "execution_count": 180,
     "metadata": {},
     "output_type": "execute_result"
    }
   ],
   "source": [
    "df.FRNCHDA_.value_counts()"
   ]
  },
  {
   "cell_type": "code",
   "execution_count": 181,
   "id": "722398c3",
   "metadata": {},
   "outputs": [],
   "source": [
    "df.FRNCHDA_ = np.where((df.FRNCHDA_ != '≥ 2/week') & (df.FRNCHDA_ != 'Unknown'), '< 2/week', df.FRNCHDA_)\n"
   ]
  },
  {
   "cell_type": "code",
   "execution_count": 182,
   "id": "13f34311",
   "metadata": {},
   "outputs": [
    {
     "data": {
      "text/plain": [
       "< 2/week    317721\n",
       "≥ 2/week     76207\n",
       "Unknown      44762\n",
       "Name: FRNCHDA_, dtype: int64"
      ]
     },
     "execution_count": 182,
     "metadata": {},
     "output_type": "execute_result"
    }
   ],
   "source": [
    "df.FRNCHDA_.value_counts()"
   ]
  },
  {
   "cell_type": "code",
   "execution_count": 183,
   "id": "280ca0e7",
   "metadata": {},
   "outputs": [],
   "source": [
    "df = df.rename(columns={'FRNCHDA_':'french_fries'})"
   ]
  },
  {
   "cell_type": "markdown",
   "id": "c8da10e8",
   "metadata": {},
   "source": [
    "### _FRUTSU1\n",
    "Total fruits consumed per day\\\n",
    "0 - 99998 Number of Fruits consumed per day (two implied\n",
    "decimal places)\\\n",
    "BLANK Not asked or Missing "
   ]
  },
  {
   "cell_type": "markdown",
   "id": "fb03b87d",
   "metadata": {},
   "source": [
    "### _VEGESU1\n",
    "Total vegetables consumed per day\\\n",
    "0 - 99998 Number of Vegetables consumed per day (two\n",
    "implied decimal places)\\\n",
    "BLANK Not asked or Missing "
   ]
  },
  {
   "cell_type": "markdown",
   "id": "e0c88081",
   "metadata": {},
   "source": [
    "We will combine both columns '_FRUTSU1' and '_VEGESU1' into 1 column"
   ]
  },
  {
   "cell_type": "code",
   "execution_count": 184,
   "id": "969cb431",
   "metadata": {},
   "outputs": [],
   "source": [
    "df['fruit_vegetable'] = (df['_FRUTSU1'] + df['_VEGESU1'])"
   ]
  },
  {
   "cell_type": "code",
   "execution_count": null,
   "id": "38a4562e",
   "metadata": {},
   "outputs": [],
   "source": [
    "df.fruit_vegetable.value_counts()"
   ]
  },
  {
   "cell_type": "markdown",
   "id": "b773bfb7",
   "metadata": {},
   "source": [
    "We divide by 100 since there are two implied decimal places."
   ]
  },
  {
   "cell_type": "code",
   "execution_count": 186,
   "id": "c9233811",
   "metadata": {},
   "outputs": [],
   "source": [
    "df.fruit_vegetable = df.fruit_vegetable/100"
   ]
  },
  {
   "cell_type": "code",
   "execution_count": null,
   "id": "803a34a4",
   "metadata": {},
   "outputs": [],
   "source": [
    "df.fruit_vegetable.value_counts(dropna=False)"
   ]
  },
  {
   "cell_type": "markdown",
   "id": "accab48e",
   "metadata": {},
   "source": [
    "Then we are gonna split it in 3 categories : \n",
    "- people who eat at least 5 fruit or vegetable per day\n",
    "- people who eat less than 5 fruit or vegetable per day \n",
    "- unknown"
   ]
  },
  {
   "cell_type": "code",
   "execution_count": 188,
   "id": "5951ad36",
   "metadata": {},
   "outputs": [],
   "source": [
    "df.fruit_vegetable = np.where((df.fruit_vegetable >= 5),'≥ 5/day', df.fruit_vegetable)"
   ]
  },
  {
   "cell_type": "code",
   "execution_count": null,
   "id": "8846b623",
   "metadata": {},
   "outputs": [],
   "source": [
    "df.fruit_vegetable.value_counts()"
   ]
  },
  {
   "cell_type": "code",
   "execution_count": 190,
   "id": "397f1125",
   "metadata": {},
   "outputs": [],
   "source": [
    "df.fruit_vegetable = np.where(df.fruit_vegetable.isin(['nan']),\"Unknown\", df.fruit_vegetable)"
   ]
  },
  {
   "cell_type": "code",
   "execution_count": 191,
   "id": "54091ec4",
   "metadata": {},
   "outputs": [],
   "source": [
    "df.fruit_vegetable = np.where((df.fruit_vegetable != '≥ 5/day') & (df.fruit_vegetable != 'Unknown'), '< 5/day', df.fruit_vegetable)\n"
   ]
  },
  {
   "cell_type": "code",
   "execution_count": 192,
   "id": "21c3dbb6",
   "metadata": {},
   "outputs": [
    {
     "data": {
      "text/plain": [
       "< 5/day    312191\n",
       "Unknown     68696\n",
       "≥ 5/day     57803\n",
       "Name: fruit_vegetable, dtype: int64"
      ]
     },
     "execution_count": 192,
     "metadata": {},
     "output_type": "execute_result"
    }
   ],
   "source": [
    "df.fruit_vegetable.value_counts(dropna=False)"
   ]
  },
  {
   "cell_type": "markdown",
   "id": "86877116",
   "metadata": {},
   "source": [
    "Now we drop the columns '_FRUTSU1' and '_VEGESU1'"
   ]
  },
  {
   "cell_type": "code",
   "execution_count": 193,
   "id": "10fb9aae",
   "metadata": {},
   "outputs": [],
   "source": [
    "df = df.drop(['_FRUTSU1', '_VEGESU1'], axis=1)"
   ]
  },
  {
   "cell_type": "markdown",
   "id": "219e52dc",
   "metadata": {},
   "source": [
    "### _TOTINDA\n",
    "Adults who reported doing physical activity or exercise during the past 30 days other than their regular job\\\n",
    "1 Had physical activity or exercise\\\n",
    "2 No physical activity or exercise in last 30 days\\\n",
    "9 Don’t know/Refused/Missing"
   ]
  },
  {
   "cell_type": "code",
   "execution_count": 194,
   "id": "aaf4afdc",
   "metadata": {},
   "outputs": [
    {
     "data": {
      "text/plain": [
       "1.0    330738\n",
       "2.0    107026\n",
       "9.0       926\n",
       "Name: _TOTINDA, dtype: int64"
      ]
     },
     "execution_count": 194,
     "metadata": {},
     "output_type": "execute_result"
    }
   ],
   "source": [
    "df._TOTINDA.value_counts(dropna=False)"
   ]
  },
  {
   "cell_type": "code",
   "execution_count": 195,
   "id": "3380ffbf",
   "metadata": {},
   "outputs": [],
   "source": [
    "df._TOTINDA = np.where(df._TOTINDA.isin([1]),'Yes', 'No')"
   ]
  },
  {
   "cell_type": "code",
   "execution_count": 196,
   "id": "2935f2b6",
   "metadata": {},
   "outputs": [
    {
     "data": {
      "text/plain": [
       "Yes    330738\n",
       "No     107952\n",
       "Name: _TOTINDA, dtype: int64"
      ]
     },
     "execution_count": 196,
     "metadata": {},
     "output_type": "execute_result"
    }
   ],
   "source": [
    "df._TOTINDA.value_counts(dropna=False)"
   ]
  },
  {
   "cell_type": "code",
   "execution_count": 197,
   "id": "824f4b0a",
   "metadata": {},
   "outputs": [],
   "source": [
    "df = df.rename(columns={'_TOTINDA':'physical_activity'})"
   ]
  },
  {
   "cell_type": "markdown",
   "id": "50b5f3ff",
   "metadata": {},
   "source": [
    "### _LMTACT3\n",
    "Limited usual activities\\\n",
    "1 Told have arthritis and have limited usual\n",
    "activities\\\n",
    "2 Told have arthritis and no limited usual\n",
    "activities\\\n",
    "3 Not told they have arthritis\\\n",
    "9 Don´t know, refused or missing usual activities\\\n",
    "BLANK Don´t know, refused or missing arthritis or not\n",
    "asked"
   ]
  },
  {
   "cell_type": "code",
   "execution_count": 198,
   "id": "499bec91",
   "metadata": {},
   "outputs": [
    {
     "data": {
      "text/plain": [
       "3.0    293256\n",
       "2.0     82490\n",
       "1.0     58629\n",
       "NaN      2893\n",
       "9.0      1422\n",
       "Name: _LMTACT3, dtype: int64"
      ]
     },
     "execution_count": 198,
     "metadata": {},
     "output_type": "execute_result"
    }
   ],
   "source": [
    "df._LMTACT3.value_counts(dropna=False)"
   ]
  },
  {
   "cell_type": "code",
   "execution_count": 199,
   "id": "c0353543",
   "metadata": {},
   "outputs": [],
   "source": [
    "df._LMTACT3 = np.where(df._LMTACT3.isin([1]),'Yes', df._LMTACT3)"
   ]
  },
  {
   "cell_type": "code",
   "execution_count": 200,
   "id": "7aef714a",
   "metadata": {},
   "outputs": [],
   "source": [
    "df._LMTACT3 = np.where(df._LMTACT3.isin(['2.0', '3.0']),'No', df._LMTACT3)"
   ]
  },
  {
   "cell_type": "code",
   "execution_count": 201,
   "id": "9d772798",
   "metadata": {},
   "outputs": [
    {
     "data": {
      "text/plain": [
       "Index(['No', 'Yes', 'nan', '9.0'], dtype='object')"
      ]
     },
     "execution_count": 201,
     "metadata": {},
     "output_type": "execute_result"
    }
   ],
   "source": [
    "df._LMTACT3.value_counts(dropna=False).index"
   ]
  },
  {
   "cell_type": "code",
   "execution_count": 202,
   "id": "36e5b6f3",
   "metadata": {},
   "outputs": [],
   "source": [
    "df._LMTACT3 = np.where(df._LMTACT3.isin(['9.0', 'nan']),'Unknown', df._LMTACT3)"
   ]
  },
  {
   "cell_type": "code",
   "execution_count": 203,
   "id": "3ae3017a",
   "metadata": {},
   "outputs": [
    {
     "data": {
      "text/plain": [
       "No         375746\n",
       "Yes         58629\n",
       "Unknown      4315\n",
       "Name: _LMTACT3, dtype: int64"
      ]
     },
     "execution_count": 203,
     "metadata": {},
     "output_type": "execute_result"
    }
   ],
   "source": [
    "df._LMTACT3.value_counts(dropna=False)"
   ]
  },
  {
   "cell_type": "code",
   "execution_count": 204,
   "id": "8d542097",
   "metadata": {},
   "outputs": [],
   "source": [
    "df = df.rename(columns={'_LMTACT3':'limited_usual_activities'})"
   ]
  },
  {
   "cell_type": "markdown",
   "id": "5add1972",
   "metadata": {},
   "source": [
    "### _IMPRACE\n",
    "Imputed race/ethnicity value\\\n",
    "1 White, Non-Hispanic \\\n",
    "2 Black, Non-Hispanic \\\n",
    "3 Asian, Non-Hispanic \\\n",
    "4 American Indian/Alaskan Native, Non-Hispanic \\\n",
    "5 Hispanic \\\n",
    "6 Other race, Non-Hispanic "
   ]
  },
  {
   "cell_type": "code",
   "execution_count": 205,
   "id": "de60b252",
   "metadata": {},
   "outputs": [
    {
     "data": {
      "text/plain": [
       "1.0    332219\n",
       "5.0     38688\n",
       "2.0     33132\n",
       "6.0     15684\n",
       "3.0     11557\n",
       "4.0      7410\n",
       "Name: _IMPRACE, dtype: int64"
      ]
     },
     "execution_count": 205,
     "metadata": {},
     "output_type": "execute_result"
    }
   ],
   "source": [
    "df._IMPRACE.value_counts(dropna=False)"
   ]
  },
  {
   "cell_type": "code",
   "execution_count": 206,
   "id": "a05f9932",
   "metadata": {},
   "outputs": [],
   "source": [
    "df._IMPRACE = np.where(df._IMPRACE.isin([1]),'White', df._IMPRACE)"
   ]
  },
  {
   "cell_type": "code",
   "execution_count": 207,
   "id": "337faaae",
   "metadata": {},
   "outputs": [],
   "source": [
    "df._IMPRACE = np.where(df._IMPRACE.isin(['2.0']),'Black', df._IMPRACE)"
   ]
  },
  {
   "cell_type": "code",
   "execution_count": 208,
   "id": "cda28308",
   "metadata": {},
   "outputs": [],
   "source": [
    "df._IMPRACE = np.where(df._IMPRACE.isin(['5.0']),'Hispanic', df._IMPRACE)"
   ]
  },
  {
   "cell_type": "code",
   "execution_count": 209,
   "id": "85bdf25a",
   "metadata": {},
   "outputs": [],
   "source": [
    "df._IMPRACE = np.where(df._IMPRACE.isin(['6.0', '3.0', '4.0']),'Other', df._IMPRACE)"
   ]
  },
  {
   "cell_type": "code",
   "execution_count": 210,
   "id": "6bcf6cb0",
   "metadata": {},
   "outputs": [
    {
     "data": {
      "text/plain": [
       "White       332219\n",
       "Hispanic     38688\n",
       "Other        34651\n",
       "Black        33132\n",
       "Name: _IMPRACE, dtype: int64"
      ]
     },
     "execution_count": 210,
     "metadata": {},
     "output_type": "execute_result"
    }
   ],
   "source": [
    "df._IMPRACE.value_counts(dropna=False)"
   ]
  },
  {
   "cell_type": "code",
   "execution_count": 211,
   "id": "5b6e2de6",
   "metadata": {},
   "outputs": [],
   "source": [
    "df = df.rename(columns={'_IMPRACE':'ethnicity'})"
   ]
  },
  {
   "cell_type": "code",
   "execution_count": 212,
   "id": "1b42196c",
   "metadata": {},
   "outputs": [],
   "source": [
    "df = df.rename(columns={'_AGE80':'age'})"
   ]
  },
  {
   "cell_type": "code",
   "execution_count": 222,
   "id": "e1e575bc",
   "metadata": {},
   "outputs": [
    {
     "data": {
      "text/html": [
       "<div>\n",
       "<style scoped>\n",
       "    .dataframe tbody tr th:only-of-type {\n",
       "        vertical-align: middle;\n",
       "    }\n",
       "\n",
       "    .dataframe tbody tr th {\n",
       "        vertical-align: top;\n",
       "    }\n",
       "\n",
       "    .dataframe thead th {\n",
       "        text-align: right;\n",
       "    }\n",
       "</style>\n",
       "<table border=\"1\" class=\"dataframe\">\n",
       "  <thead>\n",
       "    <tr style=\"text-align: right;\">\n",
       "      <th></th>\n",
       "      <th>sex</th>\n",
       "      <th>age</th>\n",
       "      <th>population</th>\n",
       "      <th>general_health</th>\n",
       "      <th>ethnicity</th>\n",
       "      <th>income</th>\n",
       "      <th>education</th>\n",
       "      <th>doctor_access</th>\n",
       "      <th>checkup</th>\n",
       "      <th>hypertension</th>\n",
       "      <th>anti_hypertensive</th>\n",
       "      <th>heart_attack</th>\n",
       "      <th>coronary_disease</th>\n",
       "      <th>heart_disease</th>\n",
       "      <th>stroke</th>\n",
       "      <th>cholesterol</th>\n",
       "      <th>diabetes</th>\n",
       "      <th>insulin</th>\n",
       "      <th>asthma</th>\n",
       "      <th>depression</th>\n",
       "      <th>smoker</th>\n",
       "      <th>alcohol</th>\n",
       "      <th>french_fries</th>\n",
       "      <th>physical_activity</th>\n",
       "      <th>limited_usual_activities</th>\n",
       "      <th>fruit_vegetable</th>\n",
       "    </tr>\n",
       "  </thead>\n",
       "  <tbody>\n",
       "    <tr>\n",
       "      <th>0</th>\n",
       "      <td>F</td>\n",
       "      <td>70.0</td>\n",
       "      <td>≥ 50.000</td>\n",
       "      <td>1.0</td>\n",
       "      <td>White</td>\n",
       "      <td>25,000 to &lt; 35,000</td>\n",
       "      <td>Graduated High School</td>\n",
       "      <td>No problem to see a doctor</td>\n",
       "      <td>No chek up within the last year</td>\n",
       "      <td>No</td>\n",
       "      <td>No</td>\n",
       "      <td>No</td>\n",
       "      <td>No</td>\n",
       "      <td>No</td>\n",
       "      <td>No</td>\n",
       "      <td>Yes</td>\n",
       "      <td>No</td>\n",
       "      <td>Probably not diabetic</td>\n",
       "      <td>Current</td>\n",
       "      <td>No</td>\n",
       "      <td>Former smoker</td>\n",
       "      <td>Don't drink every day</td>\n",
       "      <td>≥ 2/week</td>\n",
       "      <td>No</td>\n",
       "      <td>No</td>\n",
       "      <td>&lt; 5/day</td>\n",
       "    </tr>\n",
       "    <tr>\n",
       "      <th>1</th>\n",
       "      <td>F</td>\n",
       "      <td>67.0</td>\n",
       "      <td>≥ 50.000</td>\n",
       "      <td>3.0</td>\n",
       "      <td>Black</td>\n",
       "      <td>Unknown</td>\n",
       "      <td>Graduated from College or Technical School</td>\n",
       "      <td>No problem to see a doctor</td>\n",
       "      <td>Chek up within the last year</td>\n",
       "      <td>Yes</td>\n",
       "      <td>Yes</td>\n",
       "      <td>No</td>\n",
       "      <td>Yes</td>\n",
       "      <td>Yes</td>\n",
       "      <td>No</td>\n",
       "      <td>Yes</td>\n",
       "      <td>Yes</td>\n",
       "      <td>Probably not diabetic</td>\n",
       "      <td>Never</td>\n",
       "      <td>No</td>\n",
       "      <td>Never smoked</td>\n",
       "      <td>Don't drink every day</td>\n",
       "      <td>&lt; 2/week</td>\n",
       "      <td>Yes</td>\n",
       "      <td>Yes</td>\n",
       "      <td>&lt; 5/day</td>\n",
       "    </tr>\n",
       "    <tr>\n",
       "      <th>2</th>\n",
       "      <td>F</td>\n",
       "      <td>72.0</td>\n",
       "      <td>≥ 50.000</td>\n",
       "      <td>4.0</td>\n",
       "      <td>Black</td>\n",
       "      <td>15,000 to &lt; 25,000</td>\n",
       "      <td>Graduated High School</td>\n",
       "      <td>No problem to see a doctor</td>\n",
       "      <td>Chek up within the last year</td>\n",
       "      <td>Yes</td>\n",
       "      <td>Yes</td>\n",
       "      <td>No</td>\n",
       "      <td>Yes</td>\n",
       "      <td>Yes</td>\n",
       "      <td>No</td>\n",
       "      <td>No</td>\n",
       "      <td>Yes</td>\n",
       "      <td>Probably not diabetic</td>\n",
       "      <td>Never</td>\n",
       "      <td>No</td>\n",
       "      <td>Never smoked</td>\n",
       "      <td>Don't drink every day</td>\n",
       "      <td>&lt; 2/week</td>\n",
       "      <td>No</td>\n",
       "      <td>No</td>\n",
       "      <td>&lt; 5/day</td>\n",
       "    </tr>\n",
       "    <tr>\n",
       "      <th>3</th>\n",
       "      <td>F</td>\n",
       "      <td>62.0</td>\n",
       "      <td>≥ 50.000</td>\n",
       "      <td>4.0</td>\n",
       "      <td>White</td>\n",
       "      <td>50,000 to &lt; 75,000</td>\n",
       "      <td>Graduated High School</td>\n",
       "      <td>No problem to see a doctor</td>\n",
       "      <td>Chek up within the last year</td>\n",
       "      <td>Yes</td>\n",
       "      <td>Yes</td>\n",
       "      <td>No</td>\n",
       "      <td>No</td>\n",
       "      <td>No</td>\n",
       "      <td>No</td>\n",
       "      <td>Yes</td>\n",
       "      <td>Yes</td>\n",
       "      <td>Probably not diabetic</td>\n",
       "      <td>Never</td>\n",
       "      <td>No</td>\n",
       "      <td>Never smoked</td>\n",
       "      <td>Drink every day</td>\n",
       "      <td>≥ 2/week</td>\n",
       "      <td>Yes</td>\n",
       "      <td>No</td>\n",
       "      <td>&lt; 5/day</td>\n",
       "    </tr>\n",
       "    <tr>\n",
       "      <th>4</th>\n",
       "      <td>M</td>\n",
       "      <td>76.0</td>\n",
       "      <td>&lt; 50.000</td>\n",
       "      <td>1.0</td>\n",
       "      <td>Other</td>\n",
       "      <td>15,000 to &lt; 25,000</td>\n",
       "      <td>Did not graduate High School</td>\n",
       "      <td>No problem to see a doctor</td>\n",
       "      <td>Chek up within the last year</td>\n",
       "      <td>No</td>\n",
       "      <td>No</td>\n",
       "      <td>Yes</td>\n",
       "      <td>Unknown</td>\n",
       "      <td>Yes</td>\n",
       "      <td>Yes</td>\n",
       "      <td>Yes</td>\n",
       "      <td>Yes</td>\n",
       "      <td>Probably not diabetic</td>\n",
       "      <td>Never</td>\n",
       "      <td>No</td>\n",
       "      <td>Never smoked</td>\n",
       "      <td>Don't drink every day</td>\n",
       "      <td>&lt; 2/week</td>\n",
       "      <td>Yes</td>\n",
       "      <td>No</td>\n",
       "      <td>&lt; 5/day</td>\n",
       "    </tr>\n",
       "  </tbody>\n",
       "</table>\n",
       "</div>"
      ],
      "text/plain": [
       "  sex   age population  general_health ethnicity              income  \\\n",
       "0   F  70.0   ≥ 50.000             1.0     White  25,000 to < 35,000   \n",
       "1   F  67.0   ≥ 50.000             3.0     Black             Unknown   \n",
       "2   F  72.0   ≥ 50.000             4.0     Black  15,000 to < 25,000   \n",
       "3   F  62.0   ≥ 50.000             4.0     White  50,000 to < 75,000   \n",
       "4   M  76.0   < 50.000             1.0     Other  15,000 to < 25,000   \n",
       "\n",
       "                                    education               doctor_access  \\\n",
       "0                       Graduated High School  No problem to see a doctor   \n",
       "1  Graduated from College or Technical School  No problem to see a doctor   \n",
       "2                       Graduated High School  No problem to see a doctor   \n",
       "3                       Graduated High School  No problem to see a doctor   \n",
       "4                Did not graduate High School  No problem to see a doctor   \n",
       "\n",
       "                           checkup hypertension anti_hypertensive  \\\n",
       "0  No chek up within the last year           No                No   \n",
       "1     Chek up within the last year          Yes               Yes   \n",
       "2     Chek up within the last year          Yes               Yes   \n",
       "3     Chek up within the last year          Yes               Yes   \n",
       "4     Chek up within the last year           No                No   \n",
       "\n",
       "  heart_attack coronary_disease heart_disease stroke cholesterol diabetes  \\\n",
       "0           No               No            No     No         Yes       No   \n",
       "1           No              Yes           Yes     No         Yes      Yes   \n",
       "2           No              Yes           Yes     No          No      Yes   \n",
       "3           No               No            No     No         Yes      Yes   \n",
       "4          Yes          Unknown           Yes    Yes         Yes      Yes   \n",
       "\n",
       "                 insulin   asthma depression         smoker  \\\n",
       "0  Probably not diabetic  Current         No  Former smoker   \n",
       "1  Probably not diabetic    Never         No   Never smoked   \n",
       "2  Probably not diabetic    Never         No   Never smoked   \n",
       "3  Probably not diabetic    Never         No   Never smoked   \n",
       "4  Probably not diabetic    Never         No   Never smoked   \n",
       "\n",
       "                 alcohol french_fries physical_activity  \\\n",
       "0  Don't drink every day     ≥ 2/week                No   \n",
       "1  Don't drink every day     < 2/week               Yes   \n",
       "2  Don't drink every day     < 2/week                No   \n",
       "3        Drink every day     ≥ 2/week               Yes   \n",
       "4  Don't drink every day     < 2/week               Yes   \n",
       "\n",
       "  limited_usual_activities fruit_vegetable  \n",
       "0                       No         < 5/day  \n",
       "1                      Yes         < 5/day  \n",
       "2                       No         < 5/day  \n",
       "3                       No         < 5/day  \n",
       "4                       No         < 5/day  "
      ]
     },
     "execution_count": 222,
     "metadata": {},
     "output_type": "execute_result"
    }
   ],
   "source": [
    "df.head()"
   ]
  },
  {
   "cell_type": "code",
   "execution_count": 223,
   "id": "f99fc95d",
   "metadata": {},
   "outputs": [],
   "source": [
    "df.to_csv('health2021_cleaned.csv', index=False)"
   ]
  },
  {
   "cell_type": "code",
   "execution_count": 225,
   "id": "b42b4a7f",
   "metadata": {},
   "outputs": [
    {
     "data": {
      "text/plain": [
       "sex                         0\n",
       "age                         0\n",
       "population                  0\n",
       "general_health              0\n",
       "ethnicity                   0\n",
       "income                      0\n",
       "education                   0\n",
       "doctor_access               0\n",
       "checkup                     0\n",
       "hypertension                0\n",
       "anti_hypertensive           0\n",
       "heart_attack                0\n",
       "coronary_disease            0\n",
       "heart_disease               0\n",
       "stroke                      0\n",
       "cholesterol                 0\n",
       "diabetes                    0\n",
       "insulin                     0\n",
       "asthma                      0\n",
       "depression                  0\n",
       "smoker                      0\n",
       "alcohol                     0\n",
       "french_fries                0\n",
       "physical_activity           0\n",
       "limited_usual_activities    0\n",
       "fruit_vegetable             0\n",
       "dtype: int64"
      ]
     },
     "execution_count": 225,
     "metadata": {},
     "output_type": "execute_result"
    }
   ],
   "source": [
    "df.isna().sum()"
   ]
  },
  {
   "cell_type": "code",
   "execution_count": null,
   "id": "c4e55390",
   "metadata": {},
   "outputs": [],
   "source": []
  }
 ],
 "metadata": {
  "kernelspec": {
   "display_name": "Python 3 (ipykernel)",
   "language": "python",
   "name": "python3"
  },
  "language_info": {
   "codemirror_mode": {
    "name": "ipython",
    "version": 3
   },
   "file_extension": ".py",
   "mimetype": "text/x-python",
   "name": "python",
   "nbconvert_exporter": "python",
   "pygments_lexer": "ipython3",
   "version": "3.11.4"
  }
 },
 "nbformat": 4,
 "nbformat_minor": 5
}
