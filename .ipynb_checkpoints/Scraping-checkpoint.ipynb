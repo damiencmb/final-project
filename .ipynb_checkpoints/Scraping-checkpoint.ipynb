{
 "cells": [
  {
   "cell_type": "markdown",
   "id": "25d68cb6",
   "metadata": {},
   "source": [
    "### For the scraping part of the project, we retrieve the list of symptoms of a heart attack"
   ]
  },
  {
   "cell_type": "code",
   "execution_count": 1,
   "id": "c240b5b0",
   "metadata": {},
   "outputs": [],
   "source": [
    "import pandas as pd\n",
    "import requests\n",
    "from bs4 import BeautifulSoup\n"
   ]
  },
  {
   "cell_type": "code",
   "execution_count": 2,
   "id": "ad4a1df0",
   "metadata": {},
   "outputs": [],
   "source": [
    "url = 'https://www.cdc.gov/heartdisease/heart_attack.htm#:~:text=Most%20heart%20attacks%20involve%20discomfort,out%20into%20a%20cold%20sweat.'"
   ]
  },
  {
   "cell_type": "code",
   "execution_count": 3,
   "id": "22e31a49",
   "metadata": {},
   "outputs": [
    {
     "data": {
      "text/plain": [
       "200"
      ]
     },
     "execution_count": 3,
     "metadata": {},
     "output_type": "execute_result"
    }
   ],
   "source": [
    "response = requests.get(url)\n",
    "response.status_code"
   ]
  },
  {
   "cell_type": "code",
   "execution_count": 4,
   "id": "2523eb93",
   "metadata": {},
   "outputs": [],
   "source": [
    "soup = BeautifulSoup(response.content, \"html.parser\")"
   ]
  },
  {
   "cell_type": "code",
   "execution_count": 21,
   "id": "7f23bb3e",
   "metadata": {},
   "outputs": [],
   "source": [
    "title = soup.select('body > div.container.d-flex.flex-wrap.body-wrapper.bg-white > main > div:nth-child(3) > div > div:nth-child(3) > div:nth-child(1) > div > div > h2:nth-child(6)')\n"
   ]
  },
  {
   "cell_type": "code",
   "execution_count": 22,
   "id": "a0ab6633",
   "metadata": {},
   "outputs": [
    {
     "name": "stdout",
     "output_type": "stream",
     "text": [
      "What are the symptoms of heart attack?\n"
     ]
    }
   ],
   "source": [
    "for t in title:\n",
    "    print(t.get_text())"
   ]
  },
  {
   "cell_type": "code",
   "execution_count": 15,
   "id": "e992793e",
   "metadata": {},
   "outputs": [],
   "source": [
    "symptoms = soup.select('body > div.container.d-flex.flex-wrap.body-wrapper.bg-white > main > div:nth-child(3) > div > div:nth-child(3) > div:nth-child(1) > div > div > ul')\n"
   ]
  },
  {
   "cell_type": "code",
   "execution_count": 19,
   "id": "8f4b27b4",
   "metadata": {},
   "outputs": [
    {
     "name": "stdout",
     "output_type": "stream",
     "text": [
      "\n",
      "Chest pain or discomfort. Most heart attacks involve discomfort in the center or left side of the chest that lasts for more than a few minutes or that goes away and comes back. The discomfort can feel like uncomfortable pressure, squeezing, fullness, or pain.\n",
      "Feeling weak, light-headed, or faint. You may also break out into a cold sweat.\n",
      "Pain or discomfort in the jaw, neck, or back.\n",
      "Pain or discomfort in one or both arms or shoulders. \n",
      "Shortness of breath. This often comes along with chest discomfort, but shortness of breath also can happen before chest discomfort.\n",
      "\n"
     ]
    }
   ],
   "source": [
    "for symptom in symptoms:\n",
    "    print(symptom.get_text())"
   ]
  },
  {
   "cell_type": "markdown",
   "id": "63ad6297",
   "metadata": {},
   "source": [
    "### Then we scrap the symptoms of a coronary disease, which is the most common reason of a heart attack"
   ]
  },
  {
   "cell_type": "code",
   "execution_count": 28,
   "id": "832fbfec",
   "metadata": {},
   "outputs": [],
   "source": [
    "url2 = 'https://www.cdc.gov/heartdisease/coronary_ad.htm'"
   ]
  },
  {
   "cell_type": "code",
   "execution_count": 29,
   "id": "008c68ea",
   "metadata": {},
   "outputs": [
    {
     "data": {
      "text/plain": [
       "200"
      ]
     },
     "execution_count": 29,
     "metadata": {},
     "output_type": "execute_result"
    }
   ],
   "source": [
    "response2 = requests.get(url2)\n",
    "response2.status_code"
   ]
  },
  {
   "cell_type": "code",
   "execution_count": 30,
   "id": "631fbe4b",
   "metadata": {},
   "outputs": [],
   "source": [
    "soup2 = BeautifulSoup(response2.content, \"html.parser\")"
   ]
  },
  {
   "cell_type": "code",
   "execution_count": 34,
   "id": "d6dbff8c",
   "metadata": {},
   "outputs": [],
   "source": [
    "title2 = soup2.select('body > div.container.d-flex.flex-wrap.body-wrapper.bg-white > main > div:nth-child(3) > div > div:nth-child(3) > div > div > div > h2:nth-child(8)')"
   ]
  },
  {
   "cell_type": "code",
   "execution_count": 35,
   "id": "de453165",
   "metadata": {},
   "outputs": [
    {
     "name": "stdout",
     "output_type": "stream",
     "text": [
      "What are the symptoms of coronary artery disease?\n"
     ]
    }
   ],
   "source": [
    "for t in title2:\n",
    "    print(t.get_text())"
   ]
  },
  {
   "cell_type": "code",
   "execution_count": 31,
   "id": "223e6d02",
   "metadata": {},
   "outputs": [],
   "source": [
    "symptoms_cor = soup2.select('body > div.container.d-flex.flex-wrap.body-wrapper.bg-white > main > div:nth-child(3) > div > div:nth-child(3) > div > div > div > ul:nth-child(11)')\n",
    "            "
   ]
  },
  {
   "cell_type": "code",
   "execution_count": 33,
   "id": "52509fb6",
   "metadata": {},
   "outputs": [
    {
     "name": "stdout",
     "output_type": "stream",
     "text": [
      "\n",
      "Chest pain or discomfort (angina)\n",
      "Weakness, light-headedness, nausea (feeling sick to your stomach), or a cold sweat\n",
      "Pain or discomfort in the arms or shoulder\n",
      "Shortness of breath\n",
      "\n"
     ]
    }
   ],
   "source": [
    "for symptom in symptoms_cor:\n",
    "    print(symptom.get_text())"
   ]
  },
  {
   "cell_type": "code",
   "execution_count": null,
   "id": "94a69804",
   "metadata": {},
   "outputs": [],
   "source": []
  }
 ],
 "metadata": {
  "kernelspec": {
   "display_name": "Python 3 (ipykernel)",
   "language": "python",
   "name": "python3"
  },
  "language_info": {
   "codemirror_mode": {
    "name": "ipython",
    "version": 3
   },
   "file_extension": ".py",
   "mimetype": "text/x-python",
   "name": "python",
   "nbconvert_exporter": "python",
   "pygments_lexer": "ipython3",
   "version": "3.11.4"
  }
 },
 "nbformat": 4,
 "nbformat_minor": 5
}
